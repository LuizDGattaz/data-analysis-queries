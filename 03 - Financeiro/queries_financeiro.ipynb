{
  "nbformat": 4,
  "nbformat_minor": 0,
  "metadata": {
    "colab": {
      "provenance": []
    },
    "kernelspec": {
      "name": "python3",
      "display_name": "Python 3"
    },
    "language_info": {
      "name": "python"
    }
  },
  "cells": [
    {
      "cell_type": "markdown",
      "source": [
        "# 📊 Repositório de Consultas SQL para Analistas de Dados: **Departamento Financeiro**\n",
        "-  🔍 Contribuições: Estamos abertos a contribuições da comunidade de analistas de dados! Se você tiver consultas SQL úteis que gostaria de compartilhar ou sugestões para melhorias, sinta-se à vontade para enviar um pull request. Juntos, podemos expandir e aprimorar este repositório para beneficiar toda a comunidade de análise de dados.\n",
        "- 🎯 Sinta-se à vontade para explorar, utilizar e contribuir para este repositório, e que ele possa ser uma ferramenta valiosa em sua jornada como analista de dados!"
      ],
      "metadata": {
        "id": "vjqSg4TxgLfQ"
      }
    },
    {
      "cell_type": "markdown",
      "source": [
        "# **EBITDA (Earnings Before Interest, Taxes, Depreciation, and Amortization)**\n",
        "- EBITDA (Earnings Before Interest, Taxes, Depreciation, and Amortization) é um indicador financeiro que mede a lucratividade de uma empresa antes de deduções por juros, impostos, depreciação e amortização. Essencialmente, ele oferece uma visão clara da geração de caixa operacional da empresa, ignorando fatores que não estão diretamente ligados às operações diárias, como estrutura de capital e políticas fiscais. O EBITDA é amplamente utilizado para comparar a eficiência operacional entre empresas e indústrias, ignorando efeitos contábeis e fiscais."
      ],
      "metadata": {
        "id": "3bw9bLPzhpjX"
      }
    },
    {
      "cell_type": "code",
      "execution_count": null,
      "metadata": {
        "id": "BYekpx7Ef7pu"
      },
      "outputs": [],
      "source": [
        "%%sql\n",
        "SELECT\n",
        "    DATE_TRUNC('month', data_pedido) AS mes,\n",
        "    SUM(valor_total - custo_produtos - custo_operacional) AS ebitda\n",
        "FROM pedidos\n",
        "GROUP BY mes\n",
        "ORDER BY mes;"
      ]
    },
    {
      "cell_type": "markdown",
      "source": [
        "# **Margem de Lucro Líquido**\n",
        "- A Margem de Lucro Líquido é uma métrica financeira que representa a porcentagem do lucro líquido em relação à receita total de uma empresa. Ela é calculada subtraindo todos os custos, despesas operacionais, juros e impostos da receita total. Essa margem mostra quanto cada real de receita se converte em lucro após todos os gastos necessários para a operação da empresa serem cobertos. É um indicador crucial para avaliar a saúde financeira, a eficiência operacional e a capacidade de uma empresa gerar lucro a partir de suas receitas."
      ],
      "metadata": {
        "id": "O3LZqAr2iAc5"
      }
    },
    {
      "cell_type": "code",
      "source": [
        "%%sql\n",
        "SELECT\n",
        "    DATE_TRUNC('month', data_pedido) AS mes,\n",
        "    (SUM(valor_total - custo_produtos - custo_operacional - impostos) / SUM(valor_total)) AS margem_lucro_liquido\n",
        "FROM pedidos\n",
        "GROUP BY mes\n",
        "ORDER BY mes;"
      ],
      "metadata": {
        "id": "6HZq93lgiByf"
      },
      "execution_count": null,
      "outputs": []
    },
    {
      "cell_type": "markdown",
      "source": [
        "# **Margem de Lucro Bruto**\n",
        "- A Margem de Lucro Bruto é uma métrica financeira que representa a porcentagem da receita total que resta após deduzir os custos dos bens vendidos (COGS - Cost of Goods Sold). Ela é calculada dividindo o lucro bruto pela receita total e é expressa em porcentagem. Essa margem é um indicador importante da eficiência operacional e rentabilidade de uma empresa, mostrando quanto dinheiro sobra das vendas após cobrir os custos diretos associados à produção dos bens ou serviços vendidos. Uma margem de lucro bruto alta sugere que a empresa é eficiente na gestão dos custos de produção e tem um bom controle sobre suas despesas operacionais."
      ],
      "metadata": {
        "id": "SGP8CC51i6QJ"
      }
    },
    {
      "cell_type": "code",
      "source": [
        "%%sql\n",
        "SELECT\n",
        "    DATE_TRUNC('month', data_pedido) AS mes,\n",
        "    SUM(valor_total - custo_produtos) / SUM(valor_total) AS margem_lucro_bruto\n",
        "FROM pedidos\n",
        "GROUP BY mes\n",
        "ORDER BY mes;"
      ],
      "metadata": {
        "id": "CAOIBmsYiryH"
      },
      "execution_count": null,
      "outputs": []
    },
    {
      "cell_type": "markdown",
      "source": [
        "# **Gross Merchandise Volume (GMV)**\n",
        "- O Gross Merchandise Volume (GMV) é a métrica que representa o total bruto das vendas de produtos ou serviços em uma plataforma durante um período específico. Ele calcula o volume total de transações comerciais realizadas, sem deduzir despesas como devoluções ou descontos. O GMV é frequentemente usado para medir a saúde financeira e o tamanho da atividade econômica em plataformas de comércio eletrônico e marketplaces, indicando o valor total dos bens que passaram pela plataforma."
      ],
      "metadata": {
        "id": "wIsPj1FbiP0n"
      }
    },
    {
      "cell_type": "code",
      "source": [
        "%%sql\n",
        "SELECT\n",
        "    DATE_TRUNC('month', data_pedido) AS mes,\n",
        "    SUM(valor_total) AS gmv\n",
        "FROM pedidos\n",
        "GROUP BY mes\n",
        "ORDER BY mes;"
      ],
      "metadata": {
        "id": "DKlVfweIiNIn"
      },
      "execution_count": null,
      "outputs": []
    },
    {
      "cell_type": "markdown",
      "source": [
        "# **Taxa de Comissão Média**\n",
        "- A Taxa de Comissão Média é uma métrica que calcula a média das taxas percentuais cobradas por uma plataforma ou serviço sobre as transações realizadas, como as vendas de restaurantes em um aplicativo de entrega. Ela é determinada dividindo a receita total obtida com as comissões pelo Gross Merchandise Volume (GMV), e é expressa em porcentagem. Essa taxa indica quão eficazmente a plataforma monetiza seus serviços ao cobrar dos usuários, como restaurantes, por exemplo, e é crucial para avaliar a rentabilidade e sustentabilidade financeira do modelo de negócios."
      ],
      "metadata": {
        "id": "HF1pe8ckiaiX"
      }
    },
    {
      "cell_type": "code",
      "source": [
        "%%sql\n",
        "SELECT\n",
        "    DATE_TRUNC('month', data_pedido) AS mes,\n",
        "    AVG(taxa_comissao) AS taxa_comissao_media\n",
        "FROM pedidos\n",
        "GROUP BY mes\n",
        "ORDER BY mes;"
      ],
      "metadata": {
        "id": "3uz9JBtgiZrB"
      },
      "execution_count": null,
      "outputs": []
    },
    {
      "cell_type": "markdown",
      "source": [
        "# **Churn Rate de Restaurantes**\n",
        "- O Churn Rate de Restaurantes é uma métrica que mede a taxa de rotatividade ou o percentual de restaurantes parceiros que deixam de trabalhar com uma plataforma dentro de um período específico. Este indicador é crucial para entender a satisfação, a competitividade e a atratividade da plataforma para seus parceiros comerciais. Um churn rate alto pode sinalizar problemas como insatisfação com as políticas da plataforma, condições de serviço, ou a presença de concorrentes mais atraentes no mercado. Acompanhar essa taxa ajuda a plataforma a identificar áreas de melhoria para reter e atrair novos parceiros."
      ],
      "metadata": {
        "id": "_acq98n6ijvA"
      }
    },
    {
      "cell_type": "code",
      "source": [
        "%%sql\n",
        "SELECT\n",
        "    DATE_TRUNC('month', data_ultimo_pedido) AS mes,\n",
        "    COUNT(DISTINCT restaurante_id) AS restaurantes_ativos,\n",
        "    COUNT(DISTINCT CASE WHEN data_ultimo_pedido < CURRENT_DATE - INTERVAL '30 days' THEN restaurante_id END) AS restaurantes_churn\n",
        "FROM pedidos\n",
        "GROUP BY mes\n",
        "ORDER BY mes;"
      ],
      "metadata": {
        "id": "cAqGV3K8iaLA"
      },
      "execution_count": null,
      "outputs": []
    },
    {
      "cell_type": "markdown",
      "source": [
        "# **Lifetime Value (LTV) do Cliente**\n",
        "- O Lifetime Value (LTV) do Cliente é uma métrica financeira que estima o valor total de receita que uma empresa pode esperar de um único cliente ao longo de toda a sua relação com a empresa. O LTV ajuda a entender quanto um cliente vale em termos de receita e é crucial para tomar decisões sobre quanto investir em aquisição e retenção de clientes. Ele permite que as empresas avaliem a lucratividade a longo prazo de suas relações com os clientes e ajustem suas estratégias de marketing e vendas para otimizar esse valor.\n",
        "\n",
        "\n",
        "\n",
        "\n",
        "\n"
      ],
      "metadata": {
        "id": "EBJSqEuzisYg"
      }
    },
    {
      "cell_type": "code",
      "source": [
        "%%sql\n",
        "SELECT\n",
        "    cliente_id,\n",
        "    AVG(valor_total) AS ltv\n",
        "FROM pedidos\n",
        "GROUP BY cliente_id;"
      ],
      "metadata": {
        "id": "VcqPJaS4ir_n"
      },
      "execution_count": null,
      "outputs": []
    },
    {
      "cell_type": "markdown",
      "source": [
        "# **Custo de Aquisição de Cliente (CAC)**\n",
        "- O Custo de Aquisição de Cliente (CAC) é uma métrica financeira que calcula o custo total incorrido para adquirir um novo cliente. Inclui todos os gastos associados a marketing e vendas, divididos pelo número de clientes adquiridos durante um período específico. O CAC é fundamental para avaliar a eficácia e a eficiência das estratégias de marketing e vendas, ajudando as empresas a entender quanto estão investindo para ganhar cada novo cliente. Uma relação equilibrada entre o CAC e o Lifetime Value (LTV) dos clientes é crucial para garantir a sustentabilidade financeira da empresa.\n",
        "\n",
        "\n",
        "\n",
        "\n",
        "\n",
        "\n"
      ],
      "metadata": {
        "id": "-_-7b3B_jC5w"
      }
    },
    {
      "cell_type": "code",
      "source": [
        "%%sql\n",
        "SELECT\n",
        "    DATE_TRUNC('month', data_cadastro) AS mes,\n",
        "    SUM(custo_campanhas + custo_vendas) / COUNT(DISTINCT cliente_id) AS cac_mensal\n",
        "FROM clientes\n",
        "GROUP BY mes\n",
        "ORDER BY mes;"
      ],
      "metadata": {
        "id": "tcCqBY1Qirex"
      },
      "execution_count": null,
      "outputs": []
    }
  ]
}