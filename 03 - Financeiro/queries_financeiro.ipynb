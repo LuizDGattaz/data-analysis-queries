{
  "nbformat": 4,
  "nbformat_minor": 0,
  "metadata": {
    "colab": {
      "provenance": []
    },
    "kernelspec": {
      "name": "python3",
      "display_name": "Python 3"
    },
    "language_info": {
      "name": "python"
    }
  },
  "cells": [
    {
      "cell_type": "markdown",
      "source": [
        "# 📊 Repositório de Consultas SQL para Analistas de Dados: **Departamento Financeiro**\n",
        "-  🔍 Contribuições: Estamos abertos a contribuições da comunidade de analistas de dados! Se você tiver consultas SQL úteis que gostaria de compartilhar ou sugestões para melhorias, sinta-se à vontade para enviar um pull request. Juntos, podemos expandir e aprimorar este repositório para beneficiar toda a comunidade de análise de dados.\n",
        "- 🎯 Sinta-se à vontade para explorar, utilizar e contribuir para este repositório, e que ele possa ser uma ferramenta valiosa em sua jornada como analista de dados!"
      ],
      "metadata": {
        "id": "vjqSg4TxgLfQ"
      }
    },
    {
      "cell_type": "markdown",
      "source": [
        "# 📌 **Monitoramento de Gastos Financeiros com Classificação (Normal, Suspeito e Perigo)**\n",
        "\n",
        "**Objetivo:**\n",
        "O objetivo da query é calcular a média móvel de 30 dias dos gastos e classificar os gastos diários como \"normal\", \"suspeito\" ou \"perigo\", permitindo que o departamento financeiro monitore de forma eficaz as variações de gastos e identifique rapidamente anomalias que possam requerer ação imediata.\n",
        "\n",
        "**Importância:**\n",
        "- **Para o Departamento Financeiro:** Permite uma visão proativa e detalhada dos gastos, ajudando a identificar padrões e anomalias que possam indicar problemas ou oportunidades de otimização.\n",
        "- **Para a Empresa:** A identificação precoce de gastos suspeitos ou perigosos pode ajudar a evitar fraudes, reduzir desperdícios e melhorar a saúde financeira da empresa.\n",
        "\n",
        "### Query SQL\n",
        "\n",
        "```sql\n",
        "WITH DailyExpenses AS (\n",
        "    SELECT\n",
        "        expense_date,\n",
        "        amount\n",
        "    FROM\n",
        "        financial_expenses\n",
        "),\n",
        "MovingAverage AS (\n",
        "    SELECT\n",
        "        expense_date,\n",
        "        amount,\n",
        "        AVG(amount) OVER (\n",
        "            ORDER BY expense_date\n",
        "            ROWS BETWEEN 29 PRECEDING AND CURRENT ROW\n",
        "        ) AS moving_avg_30d\n",
        "    FROM\n",
        "        DailyExpenses\n",
        "),\n",
        "ClassifiedExpenses AS (\n",
        "    SELECT\n",
        "        expense_date,\n",
        "        amount,\n",
        "        moving_avg_30d,\n",
        "        CASE\n",
        "            WHEN amount > moving_avg_30d * 1.3 THEN 'perigo'\n",
        "            WHEN amount > moving_avg_30d THEN 'suspeito'\n",
        "            ELSE 'normal'\n",
        "        END AS classification\n",
        "    FROM\n",
        "        MovingAverage\n",
        ")\n",
        "SELECT\n",
        "    expense_date,\n",
        "    amount,\n",
        "    moving_avg_30d,\n",
        "    classification\n",
        "FROM\n",
        "    ClassifiedExpenses\n",
        "ORDER BY\n",
        "    expense_date;\n",
        "```\n",
        "\n",
        "### Explicação de Cada Etapa da Query\n",
        "\n",
        "1. **DailyExpenses:**\n",
        "    - **Objetivo:** Selecionar as colunas `expense_date` e `amount` da tabela `financial_expenses`.\n",
        "    - **Importância:** Esta etapa cria uma base com os dados de despesas diárias.\n",
        "\n",
        "2. **MovingAverage:**\n",
        "    - **Objetivo:** Calcular a média móvel de 30 dias para cada data de despesa.\n",
        "    - **Explicação do Código:**\n",
        "        - `AVG(amount) OVER (ORDER BY expense_date ROWS BETWEEN 29 PRECEDING AND CURRENT ROW)`: Calcula a média dos últimos 30 dias (incluindo o dia atual) para cada linha.\n",
        "    - **Importância:** A média móvel ajuda a suavizar as flutuações diárias e fornece um valor de referência para identificar anomalias.\n",
        "\n",
        "3. **ClassifiedExpenses:**\n",
        "    - **Objetivo:** Classificar os gastos com base na média móvel calculada.\n",
        "    - **Explicação do Código:**\n",
        "        - `CASE WHEN amount > moving_avg_30d * 1.3 THEN 'perigo' WHEN amount > moving_avg_30d THEN 'suspeito' ELSE 'normal' END AS classification`: Classifica o gasto diário como 'perigo' (30% acima da média móvel), 'suspeito' (acima da média móvel) ou 'normal' (igual ou abaixo da média móvel).\n",
        "    - **Importância:** A classificação facilita a identificação de despesas que requerem atenção especial.\n",
        "\n",
        "4. **Seleção Final:**\n",
        "    - **Objetivo:** Selecionar e ordenar os resultados finais.\n",
        "    - **Explicação do Código:**\n",
        "        - `SELECT expense_date, amount, moving_avg_30d, classification FROM ClassifiedExpenses ORDER BY expense_date`: Retorna as despesas diárias, a média móvel e a classificação, ordenadas por data.\n",
        "    - **Importância:** Organiza os dados de maneira clara para análise ou para enviar alertas automáticos.\n",
        "\n",
        "### Implementação do Bot\n",
        "\n",
        "- **Alerta via E-mail e Slack:** Um bot pode ser configurado para verificar a tabela resultante e enviar alertas quando encontrar classificações 'suspeito' ou 'perigo'. Isso garante que a equipe financeira seja imediatamente informada de qualquer irregularidade, permitindo uma resposta rápida e eficaz.\n",
        "\n"
      ],
      "metadata": {
        "id": "1BupTfvqoru0"
      }
    },
    {
      "cell_type": "markdown",
      "source": [
        "# 📌 **EBITDA (Earnings Before Interest, Taxes, Depreciation, and Amortization)**\n",
        "- EBITDA (Earnings Before Interest, Taxes, Depreciation, and Amortization) é um indicador financeiro que mede a lucratividade de uma empresa antes de deduções por juros, impostos, depreciação e amortização. Essencialmente, ele oferece uma visão clara da geração de caixa operacional da empresa, ignorando fatores que não estão diretamente ligados às operações diárias, como estrutura de capital e políticas fiscais. O EBITDA é amplamente utilizado para comparar a eficiência operacional entre empresas e indústrias, ignorando efeitos contábeis e fiscais.\n",
        "\n",
        "```sql\n",
        "SELECT\n",
        "    DATE_TRUNC('month', data_pedido) AS mes,\n",
        "    SUM(valor_total - custo_produtos - custo_operacional) AS ebitda\n",
        "FROM pedidos\n",
        "GROUP BY mes\n",
        "ORDER BY mes;\n",
        "```"
      ],
      "metadata": {
        "id": "3bw9bLPzhpjX"
      }
    },
    {
      "cell_type": "markdown",
      "source": [
        "# 📌 **Margem de Lucro Líquido**\n",
        "- A Margem de Lucro Líquido é uma métrica financeira que representa a porcentagem do lucro líquido em relação à receita total de uma empresa. Ela é calculada subtraindo todos os custos, despesas operacionais, juros e impostos da receita total. Essa margem mostra quanto cada real de receita se converte em lucro após todos os gastos necessários para a operação da empresa serem cobertos. É um indicador crucial para avaliar a saúde financeira, a eficiência operacional e a capacidade de uma empresa gerar lucro a partir de suas receitas.\n",
        "\n",
        "```sql\n",
        "SELECT\n",
        "    DATE_TRUNC('month', data_pedido) AS mes,\n",
        "    (SUM(valor_total - custo_produtos - custo_operacional - impostos) / SUM(valor_total)) AS margem_lucro_liquido\n",
        "FROM pedidos\n",
        "GROUP BY mes\n",
        "ORDER BY mes;\n",
        "```"
      ],
      "metadata": {
        "id": "O3LZqAr2iAc5"
      }
    },
    {
      "cell_type": "markdown",
      "source": [
        "# 📌 **Margem de Lucro Bruto**\n",
        "- A Margem de Lucro Bruto é uma métrica financeira que representa a porcentagem da receita total que resta após deduzir os custos dos bens vendidos (COGS - Cost of Goods Sold). Ela é calculada dividindo o lucro bruto pela receita total e é expressa em porcentagem. Essa margem é um indicador importante da eficiência operacional e rentabilidade de uma empresa, mostrando quanto dinheiro sobra das vendas após cobrir os custos diretos associados à produção dos bens ou serviços vendidos. Uma margem de lucro bruto alta sugere que a empresa é eficiente na gestão dos custos de produção e tem um bom controle sobre suas despesas operacionais.\n",
        "\n",
        "```sql\n",
        "SELECT\n",
        "    DATE_TRUNC('month', data_pedido) AS mes,\n",
        "    SUM(valor_total - custo_produtos) / SUM(valor_total) AS margem_lucro_bruto\n",
        "FROM pedidos\n",
        "GROUP BY mes\n",
        "ORDER BY mes;\n",
        "```"
      ],
      "metadata": {
        "id": "SGP8CC51i6QJ"
      }
    },
    {
      "cell_type": "markdown",
      "source": [
        "# 📌 **Gross Merchandise Volume (GMV)**\n",
        "- O Gross Merchandise Volume (GMV) é a métrica que representa o total bruto das vendas de produtos ou serviços em uma plataforma durante um período específico. Ele calcula o volume total de transações comerciais realizadas, sem deduzir despesas como devoluções ou descontos. O GMV é frequentemente usado para medir a saúde financeira e o tamanho da atividade econômica em plataformas de comércio eletrônico e marketplaces, indicando o valor total dos bens que passaram pela plataforma.\n",
        "\n",
        "```sql\n",
        "SELECT\n",
        "    DATE_TRUNC('month', data_pedido) AS mes,\n",
        "    SUM(valor_total) AS gmv\n",
        "FROM pedidos\n",
        "GROUP BY mes\n",
        "ORDER BY mes;\n",
        "```"
      ],
      "metadata": {
        "id": "wIsPj1FbiP0n"
      }
    },
    {
      "cell_type": "markdown",
      "source": [
        "# 📌 **Taxa de Comissão Média**\n",
        "- A Taxa de Comissão Média é uma métrica que calcula a média das taxas percentuais cobradas por uma plataforma ou serviço sobre as transações realizadas, como as vendas de restaurantes em um aplicativo de entrega. Ela é determinada dividindo a receita total obtida com as comissões pelo Gross Merchandise Volume (GMV), e é expressa em porcentagem. Essa taxa indica quão eficazmente a plataforma monetiza seus serviços ao cobrar dos usuários, como restaurantes, por exemplo, e é crucial para avaliar a rentabilidade e sustentabilidade financeira do modelo de negócios.\n",
        "\n",
        "```sql\n",
        "SELECT\n",
        "    DATE_TRUNC('month', data_pedido) AS mes,\n",
        "    AVG(taxa_comissao) AS taxa_comissao_media\n",
        "FROM pedidos\n",
        "GROUP BY mes\n",
        "ORDER BY mes;\n",
        "```"
      ],
      "metadata": {
        "id": "HF1pe8ckiaiX"
      }
    },
    {
      "cell_type": "markdown",
      "source": [
        "# 📌 **Churn Rate de Restaurantes**\n",
        "- O Churn Rate de Restaurantes é uma métrica que mede a taxa de rotatividade ou o percentual de restaurantes parceiros que deixam de trabalhar com uma plataforma dentro de um período específico. Este indicador é crucial para entender a satisfação, a competitividade e a atratividade da plataforma para seus parceiros comerciais. Um churn rate alto pode sinalizar problemas como insatisfação com as políticas da plataforma, condições de serviço, ou a presença de concorrentes mais atraentes no mercado. Acompanhar essa taxa ajuda a plataforma a identificar áreas de melhoria para reter e atrair novos parceiros.\n",
        "\n",
        "```sql\n",
        "SELECT\n",
        "    DATE_TRUNC('month', data_ultimo_pedido) AS mes,\n",
        "    COUNT(DISTINCT restaurante_id) AS restaurantes_ativos,\n",
        "    COUNT(DISTINCT CASE WHEN data_ultimo_pedido < CURRENT_DATE - INTERVAL '30 days' THEN restaurante_id END) AS restaurantes_churn\n",
        "FROM pedidos\n",
        "GROUP BY mes\n",
        "ORDER BY mes;\n",
        "```"
      ],
      "metadata": {
        "id": "_acq98n6ijvA"
      }
    },
    {
      "cell_type": "markdown",
      "source": [
        "# 📌 **Lifetime Value (LTV) do Cliente**\n",
        "- O Lifetime Value (LTV) do Cliente é uma métrica financeira que estima o valor total de receita que uma empresa pode esperar de um único cliente ao longo de toda a sua relação com a empresa. O LTV ajuda a entender quanto um cliente vale em termos de receita e é crucial para tomar decisões sobre quanto investir em aquisição e retenção de clientes. Ele permite que as empresas avaliem a lucratividade a longo prazo de suas relações com os clientes e ajustem suas estratégias de marketing e vendas para otimizar esse valor.\n",
        "\n",
        "```sql\n",
        "SELECT\n",
        "    cliente_id,\n",
        "    AVG(valor_total) AS ltv\n",
        "FROM pedidos\n",
        "GROUP BY cliente_id;\n",
        "```\n",
        "\n",
        "\n",
        "\n",
        "\n",
        "\n"
      ],
      "metadata": {
        "id": "EBJSqEuzisYg"
      }
    },
    {
      "cell_type": "markdown",
      "source": [
        "# 📌 **Custo de Aquisição de Cliente (CAC)**\n",
        "- O Custo de Aquisição de Cliente (CAC) é uma métrica financeira que calcula o custo total incorrido para adquirir um novo cliente. Inclui todos os gastos associados a marketing e vendas, divididos pelo número de clientes adquiridos durante um período específico. O CAC é fundamental para avaliar a eficácia e a eficiência das estratégias de marketing e vendas, ajudando as empresas a entender quanto estão investindo para ganhar cada novo cliente. Uma relação equilibrada entre o CAC e o Lifetime Value (LTV) dos clientes é crucial para garantir a sustentabilidade financeira da empresa.\n",
        "\n",
        "```sql\n",
        "SELECT\n",
        "    DATE_TRUNC('month', data_cadastro) AS mes,\n",
        "    SUM(custo_campanhas + custo_vendas) / COUNT(DISTINCT cliente_id) AS cac_mensal\n",
        "FROM clientes\n",
        "GROUP BY mes\n",
        "ORDER BY mes;\n",
        "```\n",
        "\n",
        "\n",
        "\n",
        "\n",
        "\n",
        "\n"
      ],
      "metadata": {
        "id": "-_-7b3B_jC5w"
      }
    }
  ]
}