{
  "nbformat": 4,
  "nbformat_minor": 0,
  "metadata": {
    "colab": {
      "provenance": []
    },
    "kernelspec": {
      "name": "python3",
      "display_name": "Python 3"
    },
    "language_info": {
      "name": "python"
    }
  },
  "cells": [
    {
      "cell_type": "markdown",
      "source": [
        "# 📊 Repositório de Consultas SQL para Analistas de Dados: **Departamento Comercial/Vendas**\n",
        "O Departamento Comercial ou de Vendas é crucial para gerar receita e expandir o alcance da empresa no mercado. Aqui estão algumas das funções principais deste departamento:\n",
        "\n",
        "- **Geração de Receita**: Responsável por atingir as metas de vendas estabelecidas, contribuindo diretamente para o crescimento financeiro da empresa.\n",
        "- **Desenvolvimento de Relacionamentos com Clientes**: Construir e manter relações sólidas com clientes, tanto novos quanto existentes, para fidelizá-los e expandir a base de clientes.\n",
        "- **Negociação**: Negociar contratos e termos de vendas para maximizar lucros e garantir a satisfação do cliente.\n",
        "- **Estratégia de Vendas**: Desenvolver e implementar estratégias de vendas eficazes, ajustando-as conforme a demanda do mercado e as tendências competitivas.\n",
        "- **Análise de Mercado**: Analisar o mercado e a concorrência para identificar oportunidades de vendas e ameaças potenciais.\n",
        "- **Treinamento de Vendas**: Capacitar a equipe de vendas com as habilidades e conhecimentos necessários para realizar vendas efetivas e manter-se atualizada com as melhores práticas e tecnologias do setor.\n",
        "- **Suporte Pós-Venda**: Garantir um serviço de qualidade após a venda, para manter a satisfação do cliente e incentivar recompras ou referências.\n",
        "\n",
        "📈 Em resumo, o Departamento Comercial é vital para impulsionar o desempenho financeiro da empresa, engajando diretamente com o mercado e clientes para garantir uma trajetória de crescimento sustentável.\n",
        "\n",
        "***\n",
        "-  🔍 Contribuições: Estamos abertos a contribuições da comunidade de analistas de dados! Se você tiver consultas SQL úteis que gostaria de compartilhar ou sugestões para melhorias, sinta-se à vontade para enviar um pull request. Juntos, podemos expandir e aprimorar este repositório para beneficiar toda a comunidade de análise de dados.\n",
        "- 🎯 Sinta-se à vontade para explorar, utilizar e contribuir para este repositório, e que ele possa ser uma ferramenta valiosa em sua jornada como analista de dados!"
      ],
      "metadata": {
        "id": "vjqSg4TxgLfQ"
      }
    },
    {
      "cell_type": "markdown",
      "source": [
        "# 📌 **Monitoramento de Desempenho GMV**\n",
        "- O \"Monitoramento de Desempenho GMV\" é uma query que tem o objetivo de permitir ao departamento comercial/vendas acompanhar o desempenho das vendas mensalmente, identificando tendências e variações significativas. A query SQL calcula o GMV (Gross Merchandise Value) por mês, compara com o mês anterior (e mostra a porcentagem de alta ou baixa), mostra a meta do mês e calcula as porcentagens de variação e de atingimento da meta.\n",
        "\n",
        "Supondo que há as seguinte tabela chamadas: sales com as colunas month, year, gmv e target. Aqui está a consulta:\n",
        "\n",
        "```sql\n",
        "WITH gmv_data AS (\n",
        "    SELECT\n",
        "        DATE_TRUNC('month', sale_date) AS month,\n",
        "        EXTRACT(year FROM sale_date) AS year,\n",
        "        SUM(gmv) AS gmv,\n",
        "        AVG(target) AS target\n",
        "    FROM\n",
        "        sales\n",
        "    GROUP BY\n",
        "        DATE_TRUNC('month', sale_date),\n",
        "        EXTRACT(year FROM sale_date)\n",
        "),\n",
        "gmv_with_previous AS (\n",
        "    SELECT\n",
        "        g1.month,\n",
        "        g1.year,\n",
        "        g1.gmv,\n",
        "        g1.target,\n",
        "        LAG(g1.gmv) OVER (ORDER BY g1.year, g1.month) AS prev_gmv\n",
        "    FROM\n",
        "        gmv_data g1\n",
        "),\n",
        "gmv_comparison AS (\n",
        "    SELECT\n",
        "        month,\n",
        "        year,\n",
        "        gmv,\n",
        "        target,\n",
        "        COALESCE(prev_gmv, 0) AS prev_gmv,\n",
        "        CASE\n",
        "            WHEN prev_gmv IS NOT NULL THEN ((gmv - prev_gmv) / prev_gmv) * 100\n",
        "            ELSE 0\n",
        "        END AS gmv_change_percentage,\n",
        "        (gmv / target) * 100 AS target_achievement_percentage\n",
        "    FROM\n",
        "        gmv_with_previous\n",
        ")\n",
        "SELECT\n",
        "    year,\n",
        "    month,\n",
        "    COALESCE(gmv, 0) AS gmv,\n",
        "    prev_gmv,\n",
        "    COALESCE(target, 0) AS target,\n",
        "    COALESCE(gmv_change_percentage, 0) AS gmv_change_percentage,\n",
        "    COALESCE(target_achievement_percentage, 0) AS target_achievement_percentage\n",
        "FROM\n",
        "    gmv_comparison\n",
        "ORDER BY\n",
        "    year, month;\n",
        "```\n",
        "\n",
        "Esta query SQL é fundamental para o departamento comercial e de vendas de uma empresa, pois fornece uma análise detalhada do desempenho das vendas ao longo do tempo, permitindo a tomada de decisões informadas. Vamos explorar o que a query faz e sua importância:\n",
        "\n",
        "### O que a query faz:\n",
        "\n",
        "1. **Agrupa Dados de Vendas por Mês e Ano:**\n",
        "   - A query agrupa as vendas mensais, somando o valor bruto das mercadorias (GMV) e calculando a média das metas de vendas para cada mês.\n",
        "   \n",
        "2. **Calcula o GMV do Mês Anterior:**\n",
        "   - Utilizando a função LAG, a query adiciona uma coluna que contém o GMV do mês anterior, permitindo comparações temporais.\n",
        "   \n",
        "3. **Calcula Percentuais de Variação e Atingimento de Metas:**\n",
        "   - Calcula a variação percentual do GMV de um mês para o outro, mostrando se houve crescimento ou declínio.\n",
        "   - Calcula o percentual de atingimento da meta de vendas para cada mês.\n",
        "\n",
        "### Importância para o Departamento Comercial/Vendas:\n",
        "\n",
        "1. **Monitoramento de Desempenho:**\n",
        "   - Permite ao departamento acompanhar o desempenho das vendas mensalmente, identificando tendências e variações significativas. Isso é essencial para entender a saúde do negócio e fazer ajustes necessários em tempo real.\n",
        "\n",
        "2. **Avaliação de Metas:**\n",
        "   - Ao calcular o percentual de atingimento das metas, a query ajuda a medir a eficácia das estratégias de vendas e campanhas. Se as metas não são atingidas, a empresa pode reavaliar suas abordagens e implementar melhorias.\n",
        "\n",
        "3. **Identificação de Problemas e Oportunidades:**\n",
        "   - A análise de variações mensais no GMV ajuda a identificar rapidamente quaisquer problemas, como quedas inesperadas nas vendas, permitindo ações corretivas rápidas. Da mesma forma, períodos de crescimento podem ser analisados para replicar estratégias bem-sucedidas.\n",
        "\n",
        "4. **Planejamento Estratégico:**\n",
        "   - Com uma visão clara do desempenho passado, a empresa pode planejar futuras campanhas e iniciativas de vendas com base em dados concretos, melhorando a precisão das previsões e alocação de recursos.\n",
        "\n",
        "Resumindo, esta query SQL é uma ferramenta poderosa para o departamento comercial e de vendas, fornecendo insights valiosos que suportam a tomada de decisões estratégicas e operacionais, impulsionando o crescimento e a eficiência do negócio."
      ],
      "metadata": {
        "id": "4jghQRNt2KTx"
      }
    },
    {
      "cell_type": "markdown",
      "source": [
        "# 📌 **Volume de Pedidos por Região**\n",
        "- O \"Volume de Pedidos por Região\" é uma métrica que quantifica o número total de pedidos recebidos em diferentes áreas geográficas durante um período específico. Essa métrica é crucial para entender onde a demanda por produtos ou serviços é mais alta ou mais baixa, permitindo às empresas ajustar suas estratégias de oferta, distribuição e promoções de acordo com as necessidades e comportamentos específicos de cada região. Analisar o volume de pedidos por região ajuda a otimizar a alocação de recursos, planejar campanhas de marketing localizadas e melhorar a eficiência operacional para atender às demandas do mercado de forma mais eficaz.\n",
        "\n",
        "```sql\n",
        "SELECT regiao, COUNT(DISTINCT order_id) AS volume_pedidos\n",
        "FROM pedidos\n",
        "GROUP BY regiao\n",
        "ORDER BY volume_pedidos DESC;\n",
        "```\n"
      ],
      "metadata": {
        "id": "wIsPj1FbiP0n"
      }
    },
    {
      "cell_type": "markdown",
      "source": [
        "# 📌 **Vendas por segmentação de parte do dia**\n",
        "- \"Vendas por segmentação de parte do dia\" é uma análica que divide e avalia as vendas de acordo com diferentes segmentos do dia, como Café da Manhã, Almoço, Lanche, e Jantar. Esta abordagem ajuda a entender quais períodos do dia são mais lucrativos ou apresentam maior atividade de vendas, permitindo às empresas otimizar suas operações e estratégias promocionais. Por exemplo, se as vendas são maiores no horário do almoço, uma empresa pode focar em promoções ou aumentar o estoque para atender a essa demanda. Isso facilita a alocação de recursos, planejamento de pessoal e estratégias de marketing para maximizar a receita e a satisfação do cliente em cada período específico.\n",
        "\n",
        "```sql\n",
        "SELECT\n",
        "    EXTRACT(HOUR FROM hora_venda) AS hora,\n",
        "    CASE\n",
        "        WHEN EXTRACT(HOUR FROM hora_venda) BETWEEN 6 AND 10 THEN 'Café da manhã'\n",
        "        WHEN EXTRACT(HOUR FROM hora_venda) BETWEEN 11 AND 14 THEN 'Almoço'\n",
        "        WHEN EXTRACT(HOUR FROM hora_venda) BETWEEN 15 AND 17 THEN 'Lanche'\n",
        "        WHEN EXTRACT(HOUR FROM hora_venda) BETWEEN 18 AND 22 THEN 'Jantar'\n",
        "        ELSE 'Outro'\n",
        "    END AS segmento_dia,\n",
        "    EXTRACT(YEAR FROM hora_venda) AS ano,\n",
        "    COUNT(DISTINCT order_id) AS num_vendas\n",
        "FROM vendas\n",
        "GROUP BY hora, segmento_dia, ano\n",
        "ORDER BY segmento_dia, hora, ano;\n",
        "```"
      ],
      "metadata": {
        "id": "SGP8CC51i6QJ"
      }
    },
    {
      "cell_type": "markdown",
      "source": [
        "# 📌 **Gross Merchandise Volume (GMV)**\n",
        "- O Gross Merchandise Volume (GMV) é a métrica que representa o total bruto das vendas de produtos ou serviços em uma plataforma durante um período específico, medido pelo valor total de bens vendidos. Essa métrica é frequentemente usada no comércio eletrônico para avaliar o desempenho de campanhas de marketing ou da plataforma como um todo, indicando o valor monetário total das transações realizadas, antes da dedução de quaisquer descontos, devoluções ou custos associados. O GMV é crucial para medir a saúde financeira e a escala de atividades em marketplaces e plataformas de e-commerce, fornecendo uma visão clara do volume de transações e da capacidade de gerar receita.\n",
        "\n",
        "```sql\n",
        "SELECT\n",
        "    EXTRACT(MONTH FROM data_venda) AS mes,\n",
        "    EXTRACT(YEAR FROM data_venda) AS ano,\n",
        "    SUM(valor_total_pedido) AS gmv\n",
        "FROM pedidos\n",
        "GROUP BY mes, ano\n",
        "ORDER BY ano, mes;\n",
        "```"
      ],
      "metadata": {
        "id": "3aAAMcnZdRvI"
      }
    },
    {
      "cell_type": "markdown",
      "source": [
        "# 📌 **Ticket Médio de Pedidos**\n",
        "- O \"Ticket Médio de Pedidos\" é uma métrica financeira que calcula o valor médio que cada cliente gasta por pedido. Ele é obtido dividindo o total de receitas obtidas com vendas pelo número total de pedidos realizados em um determinado período. Essa métrica é útil para entender o comportamento de compra dos clientes, ajudando as empresas a avaliar a eficácia de suas estratégias de preços e promoções, e a planejar ações para aumentar o valor médio das compras. Um ticket médio alto pode indicar um poder de compra elevado dos clientes ou uma eficácia na oferta de produtos e serviços de maior valor.\n",
        "\n",
        "```sql\n",
        "SELECT\n",
        "  user_id,\n",
        "  AVG(receita) AS ticket_medio\n",
        "FROM (\n",
        "  SELECT\n",
        "    order_id,\n",
        "    user_id,\n",
        "    ROUND(SUM(sale_price), 2) AS receita\n",
        "  FROM `bigquery-public-data.thelook_ecommerce.order_items`\n",
        "  WHERE status = 'Complete'\n",
        "  GROUP BY 1, 2\n",
        ")\n",
        "GROUP BY 1\n",
        "ORDER BY 2 DESC\n",
        "```"
      ],
      "metadata": {
        "id": "HF1pe8ckiaiX"
      }
    },
    {
      "cell_type": "markdown",
      "source": [
        "# 📌 **Preço médio de Produto - Por Estado**\n",
        "- O \"Preço Médio de Produto - Por Estado\" é uma métrica que calcula o valor médio ao qual produtos específicos são vendidos em diferentes estados ou regiões geográficas. Essa análise permite identificar variações nos preços devido a fatores regionais, como diferenças econômicas, preferências locais, e concorrência. Ao entender essas variações, as empresas podem ajustar suas estratégias de precificação, marketing e distribuição para melhor atender às demandas de cada mercado estadual, maximizando a penetração de mercado e otimizando o desempenho das marcas em diferentes contextos regionais.\n",
        "\n",
        "```sql\n",
        "SELECT\n",
        "    estado,\n",
        "    marca,\n",
        "    AVG(preco) AS preco_medio\n",
        "FROM tabela_de_vendas\n",
        "WHERE data_venda BETWEEN '2023-01-01' AND '2023-12-31'\n",
        "GROUP BY estado, marca;\n",
        "```\n"
      ],
      "metadata": {
        "id": "z15IBIpRdAJH"
      }
    },
    {
      "cell_type": "markdown",
      "source": [
        "# 📌 **Análise de Satisfação dos Clientes**\n",
        "- A \"Análise de Satisfação dos Clientes\" é um processo que avalia a experiência e a percepção dos clientes em relação a uma empresa, seus produtos ou serviços. Utiliza-se de avaliações, feedbacks, e pesquisas para coletar dados sobre a satisfação dos clientes. Esta análise é crucial para entender o que os clientes apreciam ou desejam que seja melhorado, permitindo que a empresa faça ajustes estratégicos para elevar a qualidade do serviço, aperfeiçoar produtos e fortalecer a relação com o cliente. Além disso, uma alta satisfação do cliente contribui positivamente para a reputação da empresa, atraindo mais negócios e promovendo lealdade à marca.\n",
        "\n",
        "```sql\n",
        "SELECT AVG(avaliacao) AS satisfacao_media\n",
        "FROM feedback_clientes;\n",
        "```"
      ],
      "metadata": {
        "id": "_acq98n6ijvA"
      }
    },
    {
      "cell_type": "markdown",
      "source": [
        "# 📌 **Taxa de Retenção de Clientes**\n",
        "- A Taxa de Retenção de Clientes é uma métrica que mede a porcentagem de clientes que continuam utilizando um serviço após fazerem seu primeiro pedido. Essa taxa é crucial para avaliar a fidelidade e a satisfação do cliente com o serviço oferecido. Uma alta taxa de retenção indica que os clientes estão satisfeitos e veem valor contínuo no serviço, sugerindo que a empresa é bem-sucedida em manter seus clientes engajados e interessados em continuar a relação comercial. Acompanhar essa métrica ajuda a empresa a entender a eficácia de suas estratégias de engajamento e retenção.\n",
        "\n",
        "```sql\n",
        "SELECT\n",
        "  (COUNT(DISTINCT cliente_id) / (SELECT COUNT(DISTINCT cliente_id) FROM Pedidos WHERE data_pedido < '2024-01-01')) * 100 AS TaxaRetencaoClientes\n",
        "FROM Pedidos\n",
        "WHERE cliente_id IN (SELECT DISTINCT cliente_id FROM Pedidos WHERE data_pedido < '2024-01-01')\n",
        "  AND data_pedido BETWEEN '2024-01-01' AND '2024-03-31';\n",
        "```"
      ],
      "metadata": {
        "id": "3bw9bLPzhpjX"
      }
    },
    {
      "cell_type": "markdown",
      "source": [
        "# 📌 **Top 10 clientes que mais compraram, por região**\n",
        "- \"Top 10 clientes que mais compraram, por região\" é uma análise que identifica os dez clientes que realizaram os maiores volumes de compras em cada região geográfica. Esta análise ajuda a empresa a reconhecer seus clientes mais valiosos e fiéis em diferentes áreas, fornecendo uma base sólida para campanhas publicitárias e estratégias de marketing direcionadas. Ao focar nesses clientes, a empresa pode criar promoções personalizadas, ofertas especiais e programas de fidelidade para manter e aumentar o engajamento desses consumidores chave, maximizando a eficiência das campanhas e fortalecendo as relações de longo prazo.\n",
        "\n",
        "```sql\n",
        "SELECT\n",
        "    regiao,\n",
        "    cliente_id,\n",
        "    COUNT(DISTINCT order_id) AS num_compras\n",
        "FROM vendas\n",
        "GROUP BY regiao, cliente_id\n",
        "ORDER BY num_compras DESC\n",
        "LIMIT 10;\n",
        "```"
      ],
      "metadata": {
        "id": "XZo_nq1gd9XI"
      }
    },
    {
      "cell_type": "markdown",
      "source": [
        "# 📌 **Top 10 Produtos Mais Vendidos**\n",
        "- \"Top 10 Produtos Mais Vendidos\" é uma análise que lista os dez produtos que tiveram o maior volume de vendas em um determinado período. Esta lista é crucial para entender quais produtos estão desempenhando melhor no mercado, permitindo que a empresa identifique tendências de consumo, ajuste estratégias de estoque e planeje ações de marketing direcionadas. Ao destacar os produtos mais populares, as empresas podem otimizar suas ofertas para maximizar as receitas e melhorar a satisfação do cliente, ao mesmo tempo em que ganham insights valiosos sobre as preferências dos consumidores.\n",
        "\n",
        "```sql\n",
        "SELECT produto, COUNT(DISTINCT order_id) AS num_vendas\n",
        "FROM vendas\n",
        "GROUP BY produto\n",
        "ORDER BY num_vendas DESC\n",
        "LIMIT 10;\n",
        "```"
      ],
      "metadata": {
        "id": "BgTet5uyeoHQ"
      }
    },
    {
      "cell_type": "markdown",
      "source": [
        "# 📌 **Número de clientes por mês**\n",
        "- \"Número de clientes por mês\" é uma métrica que contabiliza quantos clientes únicos fizeram compras ou utilizaram serviços de uma empresa dentro de cada mês específico. Esta métrica ajuda a entender a atração e a retenção de clientes ao longo do tempo, permitindo que a empresa avalie a eficácia de suas campanhas de marketing, promoções e estratégias operacionais. Acompanhar essa métrica é crucial para medir o crescimento ou declínio na base de clientes e para adaptar estratégias de negócio a fim de melhor atender às necessidades do mercado e impulsionar o engajamento dos clientes.\n",
        "\n",
        "```sql\n",
        "SELECT\n",
        "    EXTRACT(MONTH FROM data_registro) AS mes,\n",
        "    EXTRACT(YEAR FROM data_registro) AS ano,\n",
        "    COUNT(DISTINCT client_id) AS num_clientes\n",
        "FROM clientes\n",
        "GROUP BY mes, ano\n",
        "ORDER BY ano, mes;\n",
        "```"
      ],
      "metadata": {
        "id": "WUsYVVP5e8jY"
      }
    },
    {
      "cell_type": "markdown",
      "source": [
        "# 📌 **Número de pedidos por mês**\n",
        "- \"Número de pedidos por mês\" é uma métrica que registra a quantidade total de pedidos feitos pelos clientes em cada mês. Essa métrica é fundamental para avaliar a atividade de vendas de uma empresa, permitindo entender as flutuações na demanda ao longo do tempo. Analisar o número de pedidos mensais ajuda a identificar tendências sazonais, avaliar o impacto de campanhas promocionais e estratégias de marketing, e planejar melhor a gestão de estoque e recursos. Isso também pode indicar a eficácia das iniciativas de engajamento do cliente e a saúde geral do negócio.\n",
        "\n",
        "```sql\n",
        "SELECT\n",
        "    EXTRACT(MONTH FROM data_pedido) AS mes,\n",
        "    EXTRACT(YEAR FROM data_pedido) AS ano,\n",
        "    COUNT(DISTINCT order_id) AS num_pedidos\n",
        "FROM pedidos\n",
        "GROUP BY mes, ano\n",
        "ORDER BY ano, mes;\n",
        "```"
      ],
      "metadata": {
        "id": "RAYP9Ema34Yh"
      }
    },
    {
      "cell_type": "markdown",
      "source": [
        "# 📌 **Usuários que não tem compra em periodo X (exemplo: dezembro de 2022)**\n",
        "- \"Usuários que não têm compra em período X\" refere-se à identificação de clientes que não realizaram nenhuma compra durante um período específico, como, por exemplo, dezembro de 2022. Esta análise é utilizada para detectar clientes potencialmente inativos ou menos engajados, proporcionando uma oportunidade para que a empresa desenvolva estratégias específicas de reengajamento. Ao entender quais clientes não estão comprando em determinados períodos, a empresa pode direcionar esforços de marketing, oferecer promoções personalizadas ou realizar pesquisas para entender os motivos da inatividade e tentar recuperar esses clientes, aumentando assim as vendas e a fidelidade à marca.\n",
        "\n",
        "```sql\n",
        "select distinct\n",
        "  u.id\n",
        "from bigquery-public-data.thelook_ecommerce.users u\n",
        "left join bigquery-public-data.thelook_ecommerce.orders o on u.id = o.user_id and date(o.created_at) between \"2022-12-01\" and \"2022-12-31\"\n",
        "where o.user_id is null;\n",
        "```"
      ],
      "metadata": {
        "id": "UiJyQpFC4LeJ"
      }
    },
    {
      "cell_type": "markdown",
      "source": [
        "# 📌 **Informações resumidas sobre os usuários (de todos, tendo ou não compras)**\n",
        "As \"informações resumidas sobre os usuários\" constituem um conjunto de dados agregados que fornecem uma visão detalhada sobre o comportamento de compra e interação dos clientes com a empresa. Esse resumo inclui:\n",
        "\n",
        "- **Id do usuário**: Identificação única de cada cliente.\n",
        "- **Quantidade de compras realizadas**: Número total de transações concluídas pelo usuário.\n",
        "- **Quantidade de itens comprados**: Total de itens adquiridos ao longo de todas as compras.\n",
        "- **Ticket médio**: Valor médio gasto por compra, calculado dividindo o total gasto pelo número de compras.\n",
        "- **Quantidade de produtos distintos comprados**: Número de diferentes tipos de produtos adquiridos pelo usuário.\n",
        "- **Centro de distribuições dos quais o usuário recebeu produtos**: Informações sobre de quais centros de distribuição os produtos foram enviados para o usuário, indicando a logística envolvida.\n",
        "- **Quantidade de criações de carrinho**: Número de vezes que o usuário adicionou itens ao carrinho de compras, independentemente de concluir a compra.\n",
        "\n",
        "Essas informações ajudam a empresa a entender melhor cada cliente, permitindo a personalização de ofertas, a otimização de estratégias de marketing e a melhoria do serviço ao cliente. Além disso, permitem identificar padrões e tendências no comportamento de compra que podem ser cruciais para o planejamento estratégico e operacional.\n",
        "\n",
        "```sql\n",
        "select\n",
        "  u.id,\n",
        "  ticket_medio,\n",
        "  compras_realizadas,\n",
        "  itens_comprados,\n",
        "  produtos_distintos,\n",
        "  centros_distribuicao,\n",
        "  count(distinct e.id) as eventos_carrinho\n",
        "from bigquery-public-data.thelook_ecommerce.users u\n",
        "left join bigquery-public-data.thelook_ecommerce.events e on e.user_id = u.id and event_type = 'cart'\n",
        "left join (\n",
        "  select\n",
        "    o.user_id,\n",
        "    sum(sale_price)/count(distinct o.order_id) as ticket_medio,\n",
        "    count(distinct o.order_id) as compras_realizadas,\n",
        "    count(distinct oi.id) as itens_comprados,\n",
        "    count(distinct p.id) as produtos_distintos,\n",
        "    count(distinct d.id) as centros_distribuicao\n",
        "  from bigquery-public-data.thelook_ecommerce.orders o\n",
        "  left join bigquery-public-data.thelook_ecommerce.order_items oi on o.order_id = oi.order_id\n",
        "  left join bigquery-public-data.thelook_ecommerce.products p on p.id = oi.product_id\n",
        "  left join bigquery-public-data.thelook_ecommerce.distribution_centers d on d.id = p.distribution_center_id\n",
        "  group by 1\n",
        ") as T on T.user_id = u.id\n",
        "group by 1, 2, 3, 4, 5, 6\n",
        "order by id;\n",
        "```"
      ],
      "metadata": {
        "id": "eIpP3G844k6p"
      }
    },
    {
      "cell_type": "markdown",
      "source": [
        "# 📌 **Tempo em dias da data de cadastro até a última compra de cada usuário**\n",
        "- \"Tempo em dias da data de cadastro até a última compra de cada usuário\" é uma métrica que calcula o número de dias entre a data em que um usuário se cadastrou em uma plataforma ou serviço e a data de sua última compra. Essa medida fornece insights sobre o envolvimento e a atividade do cliente ao longo do tempo, ajudando a avaliar o quão engajados e leais os usuários são em relação à empresa. Um intervalo curto entre cadastro e última compra pode indicar alta satisfação e envolvimento, enquanto um intervalo longo pode sugerir desengajamento ou oportunidades para reengajar o cliente.\n",
        "\n",
        "```sql\n",
        "select\n",
        "  u.id,\n",
        "  max(timestamp_diff(o.created_at, u.created_at, day)) as dias_ate_ultima_compra\n",
        "from bigquery-public-data.thelook_ecommerce.orders o\n",
        "join bigquery-public-data.thelook_ecommerce.users u on u.id = o.user_id\n",
        "group by 1\n",
        "order by 2 desc;\n",
        "```"
      ],
      "metadata": {
        "id": "Zb_MYf9i5Rgy"
      }
    },
    {
      "cell_type": "markdown",
      "source": [
        "# 📌 **Tempo em dias entre a primeira e a última compra de cada usuário**\n",
        "- \"Tempo em dias entre a primeira e a última compra de cada usuário\" é uma métrica que mede o intervalo de tempo decorrido entre a data da primeira compra de um cliente e a data de sua última compra registrada. Esta métrica é útil para entender a longevidade e a frequência das interações comerciais de um cliente com a empresa, fornecendo uma visão sobre o ciclo de vida do cliente. Um período longo entre a primeira e a última compra pode indicar fidelidade do cliente, enquanto um período curto pode sugerir uma interação pontual ou necessidades de estratégias de retenção mais eficazes.\n",
        "\n",
        "```sql\n",
        "select\n",
        "  user_id,\n",
        "  timestamp_diff(max(created_at), min(created_at), day) as dias_entre_prim_ult\n",
        "from bigquery-public-data.thelook_ecommerce.orders\n",
        "group by 1\n",
        "order by 2 desc;\n",
        "```"
      ],
      "metadata": {
        "id": "irBCAGy-5k4Q"
      }
    },
    {
      "cell_type": "markdown",
      "source": [
        "# 📌 **Receita acumulada dos usuários, a cada pedido**\n",
        "- \"Receita acumulada dos usuários, a cada pedido\" refere-se à soma total de receita que um cliente gera para a empresa a cada nova compra que realiza. Essa métrica acompanha e soma todos os valores gastos pelo cliente desde sua primeira compra até a mais recente, fornecendo uma visão contínua do valor financeiro que o cliente traz para a empresa ao longo do tempo. Isso ajuda a entender o impacto econômico individual de cada cliente e é crucial para identificar quais clientes são mais valiosos, permitindo a implementação de estratégias de marketing e retenção focadas nos usuários de maior valor.\n",
        "\n",
        "```sql\n",
        "select\n",
        "  o.user_id,\n",
        "  o.order_id,\n",
        "  oi.id as item_id,\n",
        "  o.created_at,\n",
        "  round(sum(sale_price) over(partition by o.user_id order by o.created_at, oi.id rows between unbounded preceding and current row), 2) as receita_acumulada\n",
        "from bigquery-public-data.thelook_ecommerce.orders o\n",
        "join bigquery-public-data.thelook_ecommerce.order_items oi on oi.order_id = o.order_id\n",
        "order by 1, 4, 3;\n",
        "```"
      ],
      "metadata": {
        "id": "3wkGfqE05315"
      }
    },
    {
      "cell_type": "markdown",
      "source": [
        "# 📌 **Tempo em dias entre uma compra e outra para cada usuário**\n",
        "- É o intervalo de tempo, em dias, entre duas compras consecutivas feitas por um mesmo usuário. É a métrica que quantifica o intervalo de tempo entre compras sucessivas feitas por cada cliente, crucial para entender o comportamento de compra e identificar padrões de fidelidade ou churn. Essa informação é essencial para otimizar estratégias de retenção de clientes, personalizar ofertas e melhorar a experiência do cliente.\n",
        "\n",
        "```sql\n",
        "select\n",
        "    user_id,\n",
        "    order_id,\n",
        "    created_at,\n",
        "    timestamp_diff(created_at, lag(created_at) over(partition by user_id order by created_at), day) diferenca_dias\n",
        "from bigquery-public-data.thelook_ecommerce.orders\n",
        "order by 1, 3\n",
        "-- order by 4 desc (para mostrar usuarios com maior diferenca em dias)\n",
        "```"
      ],
      "metadata": {
        "id": "3Nc6sYSU6OvY"
      }
    },
    {
      "cell_type": "markdown",
      "source": [
        "# 📌 **Forma de retornar os usuários com compras recorrentes dentro do mesmo mês (mais de 1 compra)**\n",
        "- É o método para identificar e segmentar usuários que realizam múltiplas compras dentro do mesmo mês, permitindo analisar padrões de comportamento de compra recorrente e criar estratégias específicas de retenção e fidelização.\n",
        "\n",
        "```sql\n",
        "SELECT DISTINCT user_id\n",
        "FROM (\n",
        "  SELECT\n",
        "    user_id,\n",
        "    order_id,\n",
        "    created_at,\n",
        "    ROW_NUMBER() OVER (\n",
        "      PARTITION BY user_id, EXTRACT(YEAR FROM created_at), EXTRACT(MONTH FROM created_at)\n",
        "      ORDER BY created_at\n",
        "    ) AS numero_compra\n",
        "  FROM bigquery-public-data.thelook_ecommerce.orders\n",
        ") AS T\n",
        "WHERE numero_compra > 1\n",
        "ORDER BY user_id;\n",
        "```"
      ],
      "metadata": {
        "id": "HrxgYze268gh"
      }
    },
    {
      "cell_type": "markdown",
      "source": [
        "# 📌 **Produtos mais vendidos por categoria**\n",
        "- É a análise que identifica os produtos com maior volume de vendas em cada categoria específica, fornecendo insights sobre demanda, preferências dos clientes e oportunidades de otimização do mix de produtos.\n",
        "\n",
        "```sql\n",
        "with cte_sales_qty_data as (\n",
        "    select\n",
        "        p.product_name,\n",
        "        c.category_name,\n",
        "        sum(od.quantity) as qty,\n",
        "        rank() over(partition by c.category_name order by sum(od.quantity) desc) as rank\n",
        "    from order_details od\n",
        "    join products p on od.product_id = p.product_id\n",
        "    join categories c on p.category_id = c.category_id\n",
        "    group by p.product_name, c.category_name\n",
        ")\n",
        "\n",
        "select * from cte_sales_qty_data\n",
        "where rank <= 3\n",
        "order by category_name, rank\n",
        "```"
      ],
      "metadata": {
        "id": "AK_ZhTRB7Pta"
      }
    },
    {
      "cell_type": "markdown",
      "source": [
        "# 📌 **Identificar clientes que fizeram pedidos acima da média**\n",
        "**Objetivo:**\n",
        "- A estratégia de identificar clientes que realizaram pedidos com valores acima da média envolve analisar os dados de compra para encontrar os consumidores que gastam mais do que a média geral. Esse grupo de clientes é considerado de alto valor, pois eles contribuem de forma significativa para a receita da empresa. Ao focar nesses clientes, as empresas podem desenvolver campanhas de marketing personalizadas, criar programas de fidelidade exclusivos e oferecer promoções especiais para incentivar a repetição de compras e aumentar a lealdade. Esta abordagem não apenas maximiza o retorno sobre investimento (ROI), mas também ajuda a compreender melhor os padrões de comportamento de consumo, permitindo decisões estratégicas mais informadas e eficazes.\n",
        "\n",
        "**Importância para o Departamento Comercial e Marketing:**\n",
        "\n",
        "- **🎯 Identificação de Clientes Valiosos:**\n",
        "  - A query permite que o departamento comercial identifique clientes que gastam mais do que a média. Esses clientes são frequentemente os mais valiosos para a empresa, representando uma parcela significativa da receita.\n",
        "\n",
        "- **📈 Estratégias de Retenção:**\n",
        "  - Com esses dados, o departamento de marketing pode criar estratégias de retenção específicas para esses clientes, como programas de fidelidade, ofertas exclusivas e promoções especiais, visando manter e aumentar a satisfação e lealdade desses consumidores.\n",
        "\n",
        "- **💡 Personalização de Campanhas:**\n",
        "  - Ao entender quem são os clientes que fazem pedidos de maior valor, a empresa pode personalizar suas campanhas de marketing, direcionando mensagens mais relevantes e ofertas especiais para esse público específico.\n",
        "\n",
        "- **🚀 Aumento da Receita:**\n",
        "  - Focar nos clientes que já demonstram um alto valor de vida útil pode ser uma maneira eficaz de aumentar a receita. Oferecendo produtos premium ou serviços adicionais para esses clientes pode maximizar o valor de cada cliente.\n",
        "\n",
        "- **📊 Análise de Comportamento:**\n",
        "  - A análise desses dados permite que a empresa compreenda melhor o comportamento de compra dos clientes que gastam mais, ajudando a identificar padrões e tendências que podem ser explorados para otimizar a estratégia de negócios.\n",
        "\n",
        "```sql\n",
        "WITH AvgOrderAmount AS (\n",
        "    SELECT AVG(orders_amount) AS avg_amount\n",
        "    FROM orders\n",
        "),\n",
        "HighValueOrders AS (\n",
        "    SELECT customer_id\n",
        "    FROM orders\n",
        "    WHERE orders_amount > (SELECT avg_amount FROM AvgOrderAmount)\n",
        ")\n",
        "SELECT id, name, email\n",
        "FROM customers\n",
        "WHERE id IN (SELECT customer_id FROM HighValueOrders);\n",
        "\n",
        "```\n",
        "\n",
        "Utilizar essa query regularmente pode ajudar a empresa a manter um relacionamento próximo com seus melhores clientes, impulsionar as vendas e garantir uma vantagem competitiva no mercado."
      ],
      "metadata": {
        "id": "I92xOy-RqXsp"
      }
    },
    {
      "cell_type": "markdown",
      "source": [
        "## 📌 **Segmentação por Valor do Cliente**\n",
        "A \"Segmentação por Valor do Cliente\" é uma técnica analítica usada para dividir a base de clientes de uma empresa em grupos com base no valor econômico que cada cliente traz para a empresa. Essa segmentação geralmente envolve o cálculo do Lifetime Value (LTV) de cada cliente, que estima o valor total que um cliente é esperado gerar para a empresa durante o tempo de relacionamento.\n",
        "\n",
        "### Importância da Segmentação por Valor do Cliente:\n",
        "\n",
        "🎯 **Alocação Eficiente de Recursos:** Permite que as empresas concentrem seus recursos e esforços de marketing nos clientes mais valiosos. Isso ajuda a maximizar o retorno sobre investimento (ROI) em campanhas de marketing e outras iniciativas de engajamento de clientes.\n",
        "\n",
        "🚀 **Personalização de Estratégias de Comunicação:** Compreender o valor de diferentes segmentos de clientes possibilita a criação de mensagens e ofertas personalizadas. Por exemplo, clientes de alto valor podem receber tratamento VIP e ofertas exclusivas, enquanto novos clientes com alto potencial podem ser alvo de esforços intensivos de aquisição e retenção.\n",
        "\n",
        "🔍 **Detecção de Oportunidades de Upselling e Cross-selling:** Clientes que já demonstram um alto LTV são muitas vezes mais receptivos a ofertas de produtos ou serviços adicionais, o que pode aumentar ainda mais seu valor para a empresa.\n",
        "\n",
        "⚖️ **Gerenciamento de Riscos e Retenção:** Identificar clientes com alto valor mas alta propensidade ao churn (cancelamento) permite ações proativas para reter esses clientes, equilibrando assim o risco de perder importantes fontes de receita.\n",
        "\n",
        "📊 **Otimização de Produtos e Serviços:** O entendimento de quais clientes geram mais valor pode influenciar decisões de desenvolvimento e ajuste de produtos ou serviços, assegurando que as ofertas estejam alinhadas com as necessidades e preferências dos segmentos mais lucrativos.\n",
        "\n",
        "🔄 **Melhoria Contínua:** A segmentação por valor do cliente oferece uma base para análises contínuas. À medida que os dados sobre o comportamento do cliente são atualizados, as empresas podem ajustar suas estratégias para refletir mudanças no mercado ou nas preferências dos clientes.\n",
        "\n",
        "Em resumo, a segmentação por valor do cliente é crucial para maximizar a eficiência das operações comerciais, personalizar a experiência do cliente, e direcionar estratégias de crescimento de forma mais informada e eficaz.\n",
        "\n",
        "**Abaixo está um exemplo de como você poderia escrever uma query SQL para calcular o LTV e segmentar clientes com base nesse valor:**\n",
        "\n",
        "```sql\n",
        "-- Calcular o LTV dos clientes e segmentar com base no valor\n",
        "WITH historico_compras AS (\n",
        "    SELECT\n",
        "        cliente_id,\n",
        "        SUM(valor_pedido) AS valor_total,\n",
        "        COUNT(DISTINCT pedido_id) AS total_pedidos_unicos,\n",
        "        MIN(data_pedido) AS primeira_compra,\n",
        "        MAX(data_pedido) AS ultima_compra\n",
        "    FROM\n",
        "        pedidos\n",
        "    WHERE\n",
        "        data_pedido IS NOT NULL\n",
        "    GROUP BY\n",
        "        cliente_id\n",
        "),\n",
        "ltv_estimado AS (\n",
        "    SELECT\n",
        "        cliente_id,\n",
        "        valor_total,\n",
        "        total_pedidos_unicos,\n",
        "        EXTRACT(year FROM AGE(ultima_compra, primeira_compra)) + 1 AS anos_ativos,\n",
        "        -- Supondo uma margem de lucro de 20% e taxa de desconto de 10% ao ano\n",
        "        (valor_total * 0.20) / 0.10 AS ltv,\n",
        "        CASE\n",
        "            WHEN total_pedidos_unicos / (EXTRACT(year FROM AGE(ultima_compra, primeira_compra)) + 1) > 12 THEN 'Alto Engajamento'\n",
        "            ELSE 'Engajamento Baixo'\n",
        "        END AS engajamento\n",
        "    FROM\n",
        "        historico_compras\n",
        ")\n",
        "SELECT\n",
        "    cliente_id,\n",
        "    ltv,\n",
        "    engajamento,\n",
        "    CASE\n",
        "        WHEN ltv > 1000 THEN 'VIP'\n",
        "        WHEN ltv BETWEEN 500 AND 1000 THEN 'Preferencial'\n",
        "        WHEN ltv BETWEEN 100 AND 500 THEN 'Padrão'\n",
        "        ELSE 'Baixo Valor'\n",
        "    END AS segmento_cliente\n",
        "FROM\n",
        "    ltv_estimado\n",
        "ORDER BY\n",
        "    ltv DESC;    \n",
        "```\n",
        "Aqui está a explicação detalhada da última query SQL, com a segmentação por valor do cliente:\n",
        "\n",
        "### 1. **historico_compras**\n",
        "- **Objetivo:** Esta Common Table Expression (CTE) serve como a base para coletar e resumir as informações essenciais sobre as compras de cada cliente. Aqui, consolidamos dados fundamentais que serão utilizados para calcular o Lifetime Value (LTV).\n",
        "- **Detalhes:** Calculamos o valor total gasto por cliente (`valor_total`), contamos o número de pedidos únicos (`total_pedidos_unicos`), e registramos a data da primeira (`primeira_compra`) e da última compra (`ultima_compra`). Esses dados fornecem uma visão compreensiva da atividade de compra de cada cliente ao longo do tempo.\n",
        "\n",
        "### 2. **ltv_estimado**\n",
        "- **Objetivo:** Esta CTE é dedicada ao cálculo do LTV, que é uma estimativa do valor financeiro total que um cliente pode gerar durante seu período de relacionamento com a empresa.\n",
        "- **Detalhes:**\n",
        "  - `valor_total`: Utilizamos o total gasto por cada cliente.\n",
        "  - `total_pedidos_unicos`: A quantidade de pedidos únicos, indicando o engajamento do cliente.\n",
        "  - `anos_ativos`: Calculamos o número de anos durante os quais o cliente esteve ativo, baseado na diferença entre a primeira e a última compra. Isso ajuda a entender a longevidade do engajamento do cliente.\n",
        "  - `ltv`: Calculado como `(valor_total * 0.20) / 0.10`, usando uma margem de lucro de 20% e uma taxa de desconto de 10%. Este cálculo transforma o valor total em um valor presente líquido, considerando a margem de lucro e descontando futuras receitas esperadas ao valor presente.\n",
        "  - `engajamento`: Classifica os clientes como 'Alto Engajamento' ou 'Engajamento Baixo' com base na frequência média de pedidos por ano.\n",
        "  - \\> 12: A condição verifica se a média de pedidos por ano é maior que 12. Se um cliente faz mais de 12 pedidos por ano, ele é classificado como 'Alto Engajamento'. O número 12 aqui pode representar uma política interna da empresa que considera um cliente altamente engajado se ele faz pelo menos um pedido por mês.\n",
        "\n",
        "### 3. **segmento_cliente**\n",
        "- **Objetivo:** Esta parte da query categoriza cada cliente em um segmento baseado no seu LTV, permitindo à empresa identificar e diferenciar os tratamentos e estratégias de marketing.\n",
        "- **Detalhes:**\n",
        "  - Os clientes são classificados em 'VIP', 'Preferencial', 'Padrão', ou 'Baixo Valor' dependendo do seu LTV calculado. Esta categorização é crucial para direcionar esforços de marketing e vendas de forma eficaz, garantindo que os recursos sejam focados nos clientes de maior valor.\n",
        "  - `ltv`: Usado como base para a segmentação.\n",
        "  - A ordem dos clientes por `ltv DESC` ajuda na rápida identificação dos clientes de maior valor no topo da lista.\n",
        "\n",
        "Essa estrutura de query não só fornece uma métrica valiosa (LTV) para avaliar o valor dos clientes, mas também integra insights comportamentais (engajamento) para uma segmentação mais rica e ação estratégica direcionada.\n",
        "\n",
        "Esta query é um exemplo básico e pode ser adaptada com critérios mais complexos e específicos, dependendo das necessidades do negócio e da disponibilidade de dados."
      ],
      "metadata": {
        "id": "U8B2PEQJ7yiY"
      }
    }
  ]
}