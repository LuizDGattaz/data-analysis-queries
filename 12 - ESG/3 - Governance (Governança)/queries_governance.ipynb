{
  "nbformat": 4,
  "nbformat_minor": 0,
  "metadata": {
    "colab": {
      "provenance": []
    },
    "kernelspec": {
      "name": "python3",
      "display_name": "Python 3"
    },
    "language_info": {
      "name": "python"
    }
  },
  "cells": [
    {
      "cell_type": "markdown",
      "source": [
        "# 📊 Repositório de Consultas SQL para Analistas de Dados: **Departamento ESG - Governance (Governança)**\n",
        "\n",
        "ESG é um **conjunto de padrões e boas práticas que visa definir se uma empresa é socialmente consciente, sustentável e corretamente gerenciada**. Trata-se de uma forma de medir o desempenho de sustentabilidade de uma organização. A sigla, em inglês, reúne os três pilares desse movimento:\n",
        "-\tEnvironmental (meio ambiente)\n",
        "-\tSocial\n",
        "-\tGovernance (governança)\n",
        "\n",
        "O aspecto governança foca em como uma empresa é administrada pelos gestores e diretores. Nesse caso, o ESG busca entender se a gestão executiva e o conselho administrativo atendem aos interesses das várias partes interessadas da empresa — funcionários, acionistas e clientes.\n",
        "\n",
        "Além disso, há outras questões avaliadas, como:\n",
        "- transparência financeira e contábil;\n",
        "- relatórios financeiros completos e honestos;\n",
        "- remuneração dos acionistas.\n",
        "\n",
        "Além disso, busca-se entender se essa remuneração está atrelada aos aspectos do índice e vinculada ao valor de longo prazo, a viabilidade e a lucratividade da empresa.\n",
        "\n",
        "Comentários sobre o Projeto:\n",
        "- 🔍 Contribuições: Estamos abertos a contribuições da comunidade de analistas de dados! Se você tiver consultas SQL úteis que gostaria de compartilhar ou sugestões para melhorias, sinta-se à vontade para enviar um pull request. Juntos, podemos expandir e aprimorar este repositório para beneficiar toda a comunidade de análise de dados.\n",
        "- 🎯 Sinta-se à vontade para explorar, utilizar e contribuir para este repositório, e que ele possa ser uma ferramenta valiosa em sua jornada como analista de dados!"
      ],
      "metadata": {
        "id": "vjqSg4TxgLfQ"
      }
    },
    {
      "cell_type": "markdown",
      "source": [
        "# 📌 **KPI Departamento**\n",
        "- Explicação KPI\n",
        "\n",
        "```sql\n",
        "SELECT\n",
        "    column_1\n",
        "FROM\n",
        "    table_example\n",
        "WHERE\n",
        "    column_date BETWEEN '2024-01-01' AND '2024-12-31'\n",
        "```"
      ],
      "metadata": {
        "id": "bsV_VOeip4Vu"
      }
    }
  ]
}