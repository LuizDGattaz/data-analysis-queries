{
  "nbformat": 4,
  "nbformat_minor": 0,
  "metadata": {
    "colab": {
      "provenance": []
    },
    "kernelspec": {
      "name": "python3",
      "display_name": "Python 3"
    },
    "language_info": {
      "name": "python"
    }
  },
  "cells": [
    {
      "cell_type": "markdown",
      "source": [
        "# 📊 Repositório de Consultas SQL para Analistas de Dados: **Departamento ESG - Social**\n",
        "\n",
        "ESG é um **conjunto de padrões e boas práticas que visa definir se uma empresa é socialmente consciente, sustentável e corretamente gerenciada**. Trata-se de uma forma de medir o desempenho de sustentabilidade de uma organização. A sigla, em inglês, reúne os três pilares desse movimento:\n",
        "-\tEnvironmental (meio ambiente)\n",
        "-\tSocial\n",
        "-\tGovernance (governança)\n",
        "\n",
        "Quando falamos dos critérios sociais, abrimos um leque muito grande de questões a serem consideradas. Para os investidores, por exemplo, é essencial entender como a empresa preza pelo bem-estar dos funcionários.\n",
        "\n",
        "Entre os pontos analisados pelos investidores e pelos gestores de fundos de investimentos, incluem-se:\n",
        "- Qual a taxa de turnover?\n",
        "- Há algum tipo de plano de previdência para os funcionários?\n",
        "- Qual o nível de envolvimento dos funcionários com a gestão da empresa?\n",
        "- Quais os benefícios e vantagens oferecidos aos funcionários, além do salário? - O salário do funcionário é justo — em relação aos praticados dentro da empresa e também em relação ao mercado?\n",
        "\n",
        "No eixo Social encontra-se também a relação com fornecedores. Por isso, é importante avaliá-los do ponto de vista dos critérios em ESG em relação a trabalho infantil, trabalho escravo, atuação em áreas desmatadas ou queimadas, e promover a transparência na relação.\n",
        "\n",
        "Comentários sobre o Projeto:\n",
        "- 🔍 Contribuições: Estamos abertos a contribuições da comunidade de analistas de dados! Se você tiver consultas SQL úteis que gostaria de compartilhar ou sugestões para melhorias, sinta-se à vontade para enviar um pull request. Juntos, podemos expandir e aprimorar este repositório para beneficiar toda a comunidade de análise de dados.\n",
        "- 🎯 Sinta-se à vontade para explorar, utilizar e contribuir para este repositório, e que ele possa ser uma ferramenta valiosa em sua jornada como analista de dados!"
      ],
      "metadata": {
        "id": "vjqSg4TxgLfQ"
      }
    },
    {
      "cell_type": "markdown",
      "source": [
        "# 📌 **KPI Departamento**\n",
        "- Explicação KPI\n",
        "\n",
        "```sql\n",
        "SELECT\n",
        "    column_1\n",
        "FROM\n",
        "    table_example\n",
        "WHERE\n",
        "    column_date BETWEEN '2024-01-01' AND '2024-12-31'\n",
        "```"
      ],
      "metadata": {
        "id": "bsV_VOeip4Vu"
      }
    }
  ]
}