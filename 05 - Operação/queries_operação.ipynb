{
  "nbformat": 4,
  "nbformat_minor": 0,
  "metadata": {
    "colab": {
      "provenance": []
    },
    "kernelspec": {
      "name": "python3",
      "display_name": "Python 3"
    },
    "language_info": {
      "name": "python"
    }
  },
  "cells": [
    {
      "cell_type": "markdown",
      "source": [
        "# 📊 Repositório de Consultas SQL para Analistas de Dados: **Departamento Operação**\n",
        "O departamento de Operações em uma empresa desempenha um papel fundamental na execução e no gerenciamento das atividades diárias que são essenciais para a entrega eficiente de produtos ou serviços. Aqui estão algumas de suas funções principais:\n",
        "\n",
        "- **Gerenciamento da Produção**: Supervisionar a fabricação de produtos, garantindo eficiência, qualidade e cumprimento dos prazos.\n",
        "- **Logística**: Gerenciar a logística interna e externa, incluindo transporte, distribuição e armazenagem, para otimizar o fluxo de produtos.\n",
        "- **Controle de Qualidade**: Assegurar que todos os produtos ou serviços atendam aos padrões de qualidade estabelecidos antes de serem entregues aos clientes.\n",
        "- **Gestão de Cadeia de Suprimentos**: Administrar relações com fornecedores e gerenciar a aquisição de matérias-primas e insumos necessários para a operação.\n",
        "- **Otimização de Processos**: Melhorar continuamente os processos operacionais para aumentar a eficiência e reduzir custos.\n",
        "- **Suporte Técnico**: Oferecer assistência técnica necessária para a manutenção de máquinas e equipamentos.\n",
        "- **Planejamento de Recursos**: Assegurar que todos os recursos necessários, como mão de obra e materiais, estejam disponíveis para a produção ou entrega de serviços.\n",
        "\n",
        "🔄 O departamento de Operações é, portanto, essencial para manter a roda da empresa girando de forma suave e eficaz, lidando com os aspectos práticos da execução dos negócios.\n",
        "\n",
        "-  🔍 Contribuições: Estamos abertos a contribuições da comunidade de analistas de dados! Se você tiver consultas SQL úteis que gostaria de compartilhar ou sugestões para melhorias, sinta-se à vontade para enviar um pull request. Juntos, podemos expandir e aprimorar este repositório para beneficiar toda a comunidade de análise de dados.\n",
        "- 🎯 Sinta-se à vontade para explorar, utilizar e contribuir para este repositório, e que ele possa ser uma ferramenta valiosa em sua jornada como analista de dados!"
      ],
      "metadata": {
        "id": "vjqSg4TxgLfQ"
      }
    },
    {
      "cell_type": "markdown",
      "source": [
        "# 📌 **Taxa de Entrega no Prazo**\n",
        "- A Taxa de Entrega no Prazo é uma métrica que mede a porcentagem de pedidos que são entregues aos clientes dentro do prazo estimado inicialmente pela empresa. Essa taxa é um indicador chave da eficiência e confiabilidade dos processos de entrega de uma empresa, refletindo sua capacidade de cumprir compromissos de tempo com os clientes. Uma alta taxa de entrega no prazo geralmente contribui para a satisfação do cliente e fortalece a reputação da empresa como confiável e eficiente no atendimento de suas promessas de entrega.\n",
        "\n",
        "```sql\n",
        "SELECT COUNT(*) AS TotalPedidos,\n",
        "       SUM(CASE WHEN entrega_no_prazo = 1 THEN 1 ELSE 0 END) AS PedidosEntreguesNoPrazo,\n",
        "       (PedidosEntreguesNoPrazo / TotalPedidos) * 100 AS TaxaEntregaNoPrazo\n",
        "FROM Pedidos;\n",
        "```"
      ],
      "metadata": {
        "id": "wIsPj1FbiP0n"
      }
    },
    {
      "cell_type": "markdown",
      "source": [
        "# 📌 **Eficiência de Logística**\n",
        "- A Eficiência de Logística, no contexto do tempo médio de preparo e entrega dos pedidos, refere-se à rapidez e eficácia com que uma empresa consegue processar, preparar e entregar pedidos aos clientes. Essa métrica é crucial para avaliar a capacidade da cadeia logística de uma empresa em atender às expectativas dos clientes de maneira rápida e confiável. Uma alta eficiência logística indica que a empresa minimiza atrasos, maximiza a produtividade e otimiza recursos, contribuindo significativamente para a satisfação do cliente e a redução de custos operacionais.\n",
        "\n",
        "```sql\n",
        "SELECT AVG(tempo_preparo + tempo_entrega) AS TempoMedioLogistica\n",
        "FROM Pedidos;\n",
        "```"
      ],
      "metadata": {
        "id": "SGP8CC51i6QJ"
      }
    },
    {
      "cell_type": "markdown",
      "source": [
        "# 📌 **Nível de Estoque Médio**\n",
        "- O Nível de Estoque Médio é uma métrica que representa a média do volume de estoque disponível em uma empresa durante um determinado período de tempo. Esta métrica é calculada tomando a soma dos estoques no início e no fim do período (ou em intervalos regulares dentro do período) e dividindo pelo número de medições. Ela é fundamental para entender como a empresa gerencia seus recursos, ajudando a avaliar se o estoque está sendo mantido em níveis adequados para atender à demanda sem resultar em excesso ou falta de produtos. Monitorar o nível médio de estoque ajuda a otimizar as compras e a produção, minimizando custos e maximizando a eficiência operacional.\n",
        "\n",
        "```sql\n",
        "SELECT\n",
        "  DATE_FORMAT(data, '%Y-%m') AS month,\n",
        "  AVG(estoque_disponivel) AS avg_monthly_inventory_level\n",
        "FROM inventory_table\n",
        "GROUP BY month\n",
        "ORDER BY month;\n",
        "```"
      ],
      "metadata": {
        "id": "3aAAMcnZdRvI"
      }
    },
    {
      "cell_type": "markdown",
      "source": [
        "# 📌 **Taxa de Pedidos Cancelados**\n",
        "- A Taxa de Pedidos Cancelados é uma métrica que mede a porcentagem de pedidos que são cancelados pelos clientes ou pela empresa antes de serem entregues. Essa taxa ajuda a entender a frequência com que os pedidos não são concluídos após serem inicialmente processados. Um alto índice de cancelamentos pode indicar problemas na gestão de estoque, na operação logística, na satisfação do cliente ou na qualidade dos produtos. Monitorar essa taxa é crucial para identificar e resolver as causas subjacentes dos cancelamentos, visando melhorar a eficiência operacional e a satisfação do cliente.\n",
        "\n",
        "```sql\n",
        "SELECT (COUNT(*) / (SELECT COUNT(*) FROM Pedidos)) * 100 AS TaxaPedidosCancelados\n",
        "FROM Pedidos\n",
        "WHERE status_pedido = 'Cancelado';\n",
        "```"
      ],
      "metadata": {
        "id": "HF1pe8ckiaiX"
      }
    },
    {
      "cell_type": "markdown",
      "source": [
        "# 📌 **Taxa de utilização de equipamentos**\n",
        "- A Taxa de Utilização de Equipamentos é uma métrica que mede a proporção do tempo em que os equipamentos são efetivamente usados para produção ou operações em relação ao tempo total disponível. Essa taxa é crucial para avaliar a eficiência com que uma empresa gerencia e opera seus ativos. Uma alta taxa de utilização indica que os equipamentos estão sendo aproveitados ao máximo, minimizando a ociosidade e aumentando a produtividade. Por outro lado, uma taxa baixa pode indicar ineficiências, como manutenção inadequada, falhas operacionais ou planejamento deficiente, que podem levar a um aumento dos custos e redução da eficiência operacional.\n",
        "\n",
        "```sql\n",
        "SELECT (SUM(tempo_utilizado) / SUM(tempo_disponivel)) AS equipment_utilization_rate\n",
        "FROM equipment_table;\n",
        "```"
      ],
      "metadata": {
        "id": "z15IBIpRdAJH"
      }
    },
    {
      "cell_type": "markdown",
      "source": [
        "# 📌 **Calculo de probabilidade de falhas de equipamentos usando a distribuição de Poisson**\n",
        "\n",
        "### O que é a Distribuição de Poisson?\n",
        "\n",
        "A distribuição de Poisson é uma distribuição de probabilidade que descreve a probabilidade de um determinado número de eventos ocorrer em um intervalo fixo de tempo ou espaço, desde que esses eventos ocorram com uma taxa média constante e independentemente do tempo desde o último evento.\n",
        "\n",
        "Quando aplicado ao contexto de falhas de um equipamento, a distribuição de Poisson pode ser usada para modelar a probabilidade de um certo número de falhas ocorrer em um período de tempo específico (por exemplo, um mês ou um ano). Nesse caso:\n",
        "- 𝜆 representa a média de falhas por período de tempo, calculada com base em dados históricos.\n",
        "- 𝑘 é o número de falhas que queremos calcular a probabilidade de ocorrer.\n",
        "\n",
        "### Importância e Utilidade em um Departamento de Operações\n",
        "\n",
        "#### 1. **Previsão de Manutenção**\n",
        "A distribuição de Poisson permite que o departamento de operações preveja a probabilidade de falhas em equipamentos, ajudando a planejar a manutenção preventiva. Manutenções programadas com base nessas previsões podem reduzir o tempo de inatividade e evitar falhas inesperadas.\n",
        "\n",
        "#### 2. **Otimização de Recursos**\n",
        "Compreender a probabilidade de falhas ajuda a alocar recursos de maneira mais eficiente. Por exemplo, se a probabilidade de falhas para um determinado equipamento é alta, a empresa pode decidir ter peças de reposição prontamente disponíveis ou aumentar a frequência de inspeções.\n",
        "\n",
        "#### 3. **Gestão de Riscos**\n",
        "A análise de falhas através da distribuição de Poisson permite que a empresa identifique riscos potenciais e tome medidas proativas para mitigá-los. Isso pode incluir a implementação de redundâncias ou a substituição de equipamentos antigos.\n",
        "\n",
        "#### 4. **Análise de Desempenho**\n",
        "Comparar a distribuição de falhas prevista com os dados reais de falhas pode ajudar a avaliar o desempenho dos equipamentos e a eficácia das estratégias de manutenção. Se as falhas reais forem significativamente maiores do que o previsto, pode ser um indicativo de que o equipamento está se degradando mais rápido do que o esperado.\n",
        "\n",
        "#### 5. **Planejamento Financeiro**\n",
        "Prever falhas ajuda no planejamento financeiro, pois a empresa pode estimar custos relacionados à manutenção e substituição de equipamentos. Isso inclui o custo das peças, mão de obra e tempo de inatividade.\n",
        "\n",
        "### Exemplo Prático\n",
        "\n",
        "Suponha que, com base em dados históricos, um equipamento apresenta em média 2 falhas por mês. Usando a distribuição de Poisson, o departamento de operações pode calcular a probabilidade de ocorrerem 0, 1, 2, 3 ou mais falhas em um mês e, assim, planejar adequadamente as ações de manutenção.\n",
        "\n",
        "Em resumo, a distribuição de Poisson é uma ferramenta valiosa para a gestão de falhas em equipamentos, permitindo que o departamento de operações tome decisões informadas e proativas para garantir a eficiência e a continuidade das operações.\n",
        "\n",
        "## **Query SQL**\n",
        "```sql\n",
        "-- Passo 1: Calcular a média de falhas do último ano\n",
        "WITH average_failures AS (\n",
        "\n",
        "    SELECT\n",
        "        equipment_id,\n",
        "        AVG(failure_count) AS avg_failures_per_month\n",
        "    FROM\n",
        "        equipment_failures\n",
        "    WHERE\n",
        "        failure_date >= NOW() - INTERVAL '1 year'\n",
        "    GROUP BY\n",
        "        equipment_id\n",
        "),\n",
        "\n",
        "-- Passo 2: Gerar a distribuição de Poisson para diferentes valores de falhas (k)\n",
        "poisson_distribution AS (\n",
        "    SELECT\n",
        "        e.equipment_id,\n",
        "        generate_series(0, 20) AS k,  -- Aqui, k varia de 0 a 20 falhas\n",
        "        avg_failures_per_month,\n",
        "        POWER(avg_failures_per_month, generate_series(0, 20)) / EXP(avg_failures_per_month) / FACTORIAL(generate_series(0, 20)) AS poisson_prob\n",
        "    FROM\n",
        "        average_failures e\n",
        ")\n",
        "\n",
        "-- Passo 3: Selecionar a distribuição de Poisson calculada\n",
        "SELECT\n",
        "    equipment_id,\n",
        "    k AS failures,\n",
        "    poisson_prob AS probability\n",
        "FROM\n",
        "    poisson_distribution\n",
        "ORDER BY\n",
        "    equipment_id,\n",
        "    failures;\n",
        "```"
      ],
      "metadata": {
        "id": "5Jnp4-kZm7QF"
      }
    },
    {
      "cell_type": "markdown",
      "source": [
        "# 📌 **Utilização de Recursos**\n",
        "- A Utilização de Recursos, refere-se ao percentual de tempo ou capacidade em que os recursos de entrega, como motos e bicicletas, são efetivamente utilizados para realizar entregas em comparação com o tempo disponível. Esta métrica é fundamental para avaliar a eficiência operacional dos ativos de entrega, indicando quão bem a empresa está gerenciando e maximizando o uso de seus recursos. Uma alta taxa de utilização geralmente sugere que os recursos estão sendo empregados de maneira eficaz, contribuindo para a redução de custos e aumento da produtividade.\n",
        "\n",
        "```sql\n",
        "SELECT recurso_entrega,\n",
        "       COUNT(*) AS TotalPedidos,\n",
        "       (COUNT(*) / (SELECT COUNT(*) FROM Pedidos)) * 100 AS UtilizacaoRecursos\n",
        "FROM Pedidos\n",
        "GROUP BY recurso_entrega;\n",
        "```"
      ],
      "metadata": {
        "id": "_acq98n6ijvA"
      }
    },
    {
      "cell_type": "markdown",
      "source": [
        "# 📌 **Taxa de Retenção de Clientes**\n",
        "- A Taxa de Retenção de Clientes é uma métrica que mede a porcentagem de clientes que continuam utilizando um serviço após fazerem seu primeiro pedido. Essa taxa é crucial para avaliar a fidelidade e a satisfação do cliente com o serviço oferecido. Uma alta taxa de retenção indica que os clientes estão satisfeitos e veem valor contínuo no serviço, sugerindo que a empresa é bem-sucedida em manter seus clientes engajados e interessados em continuar a relação comercial. Acompanhar essa métrica ajuda a empresa a entender a eficácia de suas estratégias de engajamento e retenção.\n",
        "\n",
        "```sql\n",
        "SELECT\n",
        "  (COUNT(DISTINCT cliente_id) / (SELECT COUNT(DISTINCT cliente_id) FROM Pedidos WHERE data_pedido < '2024-01-01')) * 100 AS TaxaRetencaoClientes\n",
        "FROM Pedidos\n",
        "WHERE cliente_id IN (SELECT DISTINCT cliente_id FROM Pedidos WHERE data_pedido < '2024-01-01')\n",
        "  AND data_pedido BETWEEN '2024-01-01' AND '2024-03-31';\n",
        "```"
      ],
      "metadata": {
        "id": "3bw9bLPzhpjX"
      }
    },
    {
      "cell_type": "markdown",
      "source": [
        "# 📌 **Taxa de retrabalho**\n",
        "- A Taxa de Retrabalho é uma métrica que mede a proporção de produtos ou serviços que precisaram ser revisados ou refeitos após a primeira tentativa de produção ou entrega não atender aos padrões de qualidade estabelecidos. Essa taxa é um indicador importante da eficiência e da qualidade dos processos de produção de uma empresa. Um valor alto na taxa de retrabalho sugere ineficiências ou problemas no processo de fabricação, que podem resultar em custos adicionais e atrasos na entrega, além de potencialmente afetar a satisfação do cliente. Acompanhar essa taxa ajuda as empresas a identificar áreas críticas para melhoria na produção ou na prestação de serviços.\n",
        "\n",
        "```sql\n",
        "SELECT (COUNT(CASE WHEN retrabalho = true THEN 1 ELSE NULL END) / CAST(COUNT(*) AS FLOAT)) * 100 AS rework_rate\n",
        "FROM operations_table;\n",
        "```"
      ],
      "metadata": {
        "id": "XZo_nq1gd9XI"
      }
    },
    {
      "cell_type": "markdown",
      "source": [
        "# 📌 **Taxa de eficiência da produção**\n",
        "- A Taxa de Eficiência da Produção é uma métrica que avalia o desempenho da produção de uma empresa em relação à sua capacidade máxima. Ela mede quão bem a empresa utiliza seus recursos produtivos e alcança seus objetivos de produção dentro de um dado período. Essa taxa é calculada comparando a quantidade de produtos fabricados com a capacidade máxima teórica que a planta poderia produzir operando em condições ideais, geralmente expressa em porcentagem. Uma alta taxa de eficiência indica que a empresa está próxima de atingir sua capacidade total, maximizando o uso de suas instalações e equipamentos, enquanto uma taxa baixa pode indicar subutilização, problemas operacionais ou ineficiências.\n",
        "\n",
        "```sql\n",
        "SELECT\n",
        "  DATE_FORMAT(data, '%Y-%m') AS month,\n",
        "  SUM(produto_produzido) AS total_produced,\n",
        "  AVG(capacidade) AS average_capacity,\n",
        "  (SUM(produto_produzido) / (AVG(capacidade) * COUNT(*))) * 100 AS production_efficiency\n",
        "FROM production_table\n",
        "GROUP BY month\n",
        "ORDER BY month;\n",
        "```"
      ],
      "metadata": {
        "id": "BgTet5uyeoHQ"
      }
    },
    {
      "cell_type": "markdown",
      "source": [
        "# 📌 **Tempo médio de ciclo de operação**\n",
        "- O Tempo Médio de Ciclo de Operação é uma métrica que mede o tempo necessário para concluir um ciclo completo de operações dentro de um processo de produção ou serviço, desde o início até o fim. Esta métrica é crucial para avaliar a eficiência e a rapidez dos processos de uma empresa. Um ciclo pode incluir várias etapas, como fabricação, montagem e embalagem de um produto, ou desde o recebimento até a finalização de um pedido de serviço. Reduzir o tempo médio de ciclo geralmente resulta em maior produtividade e pode melhorar a capacidade de resposta ao cliente, reduzindo o tempo total de espera para a entrega de produtos ou serviços.\n",
        "\n",
        "```sql\n",
        "SELECT AVG(DATEDIFF(complete_date, start_date)) AS avg_cycle_time\n",
        "FROM operations_table;\n",
        "```"
      ],
      "metadata": {
        "id": "WUsYVVP5e8jY"
      }
    },
    {
      "cell_type": "markdown",
      "source": [
        "# 📌 **Índice de Satisfação do Cliente**\n",
        "- O Índice de Satisfação do Cliente é uma métrica que mede o grau de satisfação dos clientes com os serviços ou produtos de uma empresa. Geralmente, ele é calculado com base nas avaliações ou notas que os clientes fornecem após a experiência de compra ou uso do serviço. Essas avaliações são então agregadas para formar uma pontuação média que reflete a satisfação geral dos clientes. Este índice é fundamental para entender a percepção dos clientes e identificar áreas que necessitam de melhorias para aumentar a qualidade do serviço e a fidelidade do cliente.\n",
        "\n",
        "```sql\n",
        "SELECT AVG(avaliacao_cliente) AS IndiceSatisfacaoCliente\n",
        "FROM Avaliacoes;\n",
        "```"
      ],
      "metadata": {
        "id": "O3LZqAr2iAc5"
      }
    }
  ]
}