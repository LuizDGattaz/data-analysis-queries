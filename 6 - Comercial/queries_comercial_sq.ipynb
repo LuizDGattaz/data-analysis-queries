{
  "nbformat": 4,
  "nbformat_minor": 0,
  "metadata": {
    "colab": {
      "provenance": []
    },
    "kernelspec": {
      "name": "python3",
      "display_name": "Python 3"
    },
    "language_info": {
      "name": "python"
    }
  },
  "cells": [
    {
      "cell_type": "markdown",
      "source": [
        "# 📊 Repositório de Consultas SQL para Analistas de Dados: **Departamento Comercial/Vendas**\n",
        "-  🔍 Contribuições: Estamos abertos a contribuições da comunidade de analistas de dados! Se você tiver consultas SQL úteis que gostaria de compartilhar ou sugestões para melhorias, sinta-se à vontade para enviar um pull request. Juntos, podemos expandir e aprimorar este repositório para beneficiar toda a comunidade de análise de dados.\n",
        "- 🎯 Sinta-se à vontade para explorar, utilizar e contribuir para este repositório, e que ele possa ser uma ferramenta valiosa em sua jornada como analista de dados!"
      ],
      "metadata": {
        "id": "vjqSg4TxgLfQ"
      }
    },
    {
      "cell_type": "markdown",
      "source": [
        "# **Volume de Pedidos por Região**\n",
        "- O \"Volume de Pedidos por Região\" é uma métrica que quantifica o número total de pedidos recebidos em diferentes áreas geográficas durante um período específico. Essa métrica é crucial para entender onde a demanda por produtos ou serviços é mais alta ou mais baixa, permitindo às empresas ajustar suas estratégias de oferta, distribuição e promoções de acordo com as necessidades e comportamentos específicos de cada região. Analisar o volume de pedidos por região ajuda a otimizar a alocação de recursos, planejar campanhas de marketing localizadas e melhorar a eficiência operacional para atender às demandas do mercado de forma mais eficaz.\n"
      ],
      "metadata": {
        "id": "wIsPj1FbiP0n"
      }
    },
    {
      "cell_type": "code",
      "source": [
        "%%sql\n",
        "SELECT regiao, COUNT(DISTINCT order_id) AS volume_pedidos\n",
        "FROM pedidos\n",
        "GROUP BY regiao\n",
        "ORDER BY volume_pedidos DESC;"
      ],
      "metadata": {
        "id": "DKlVfweIiNIn"
      },
      "execution_count": null,
      "outputs": []
    },
    {
      "cell_type": "markdown",
      "source": [
        "# **Vendas por segmentação de parte do dia**\n",
        "- \"Vendas por segmentação de parte do dia\" é uma análica que divide e avalia as vendas de acordo com diferentes segmentos do dia, como Café da Manhã, Almoço, Snack (Lanche), e Jantar. Esta abordagem ajuda a entender quais períodos do dia são mais lucrativos ou apresentam maior atividade de vendas, permitindo às empresas otimizar suas operações e estratégias promocionais. Por exemplo, se as vendas são maiores no horário do almoço, uma empresa pode focar em promoções ou aumentar o estoque para atender a essa demanda. Isso facilita a alocação de recursos, planejamento de pessoal e estratégias de marketing para maximizar a receita e a satisfação do cliente em cada período específico."
      ],
      "metadata": {
        "id": "SGP8CC51i6QJ"
      }
    },
    {
      "cell_type": "code",
      "source": [
        "%%sql\n",
        "SELECT\n",
        "    EXTRACT(HOUR FROM hora_venda) AS hora,\n",
        "    CASE\n",
        "        WHEN EXTRACT(HOUR FROM hora_venda) BETWEEN 6 AND 10 THEN 'Café da manhã'\n",
        "        WHEN EXTRACT(HOUR FROM hora_venda) BETWEEN 11 AND 14 THEN 'Almoço'\n",
        "        WHEN EXTRACT(HOUR FROM hora_venda) BETWEEN 15 AND 17 THEN 'Snack'\n",
        "        WHEN EXTRACT(HOUR FROM hora_venda) BETWEEN 18 AND 22 THEN 'Jantar'\n",
        "        ELSE 'Outro'\n",
        "    END AS segmento_dia,\n",
        "    EXTRACT(YEAR FROM hora_venda) AS ano,\n",
        "    COUNT(DISTINCT order_id) AS num_vendas\n",
        "FROM vendas\n",
        "GROUP BY hora, segmento_dia, ano\n",
        "ORDER BY segmento_dia, hora, ano;"
      ],
      "metadata": {
        "id": "CAOIBmsYiryH"
      },
      "execution_count": null,
      "outputs": []
    },
    {
      "cell_type": "markdown",
      "source": [
        "# **Gross Merchandise Volume (GMV)**\n",
        "- O Gross Merchandise Volume (GMV) é a métrica que representa o total bruto das vendas de produtos ou serviços em uma plataforma durante um período específico, medido pelo valor total de bens vendidos. Essa métrica é frequentemente usada no comércio eletrônico para avaliar o desempenho de campanhas de marketing ou da plataforma como um todo, indicando o valor monetário total das transações realizadas, antes da dedução de quaisquer descontos, devoluções ou custos associados. O GMV é crucial para medir a saúde financeira e a escala de atividades em marketplaces e plataformas de e-commerce, fornecendo uma visão clara do volume de transações e da capacidade de gerar receita."
      ],
      "metadata": {
        "id": "3aAAMcnZdRvI"
      }
    },
    {
      "cell_type": "code",
      "source": [
        "%%sql\n",
        "SELECT\n",
        "    EXTRACT(MONTH FROM data_venda) AS mes,\n",
        "    EXTRACT(YEAR FROM data_venda) AS ano,\n",
        "    SUM(valor_total_pedido) AS gmv\n",
        "FROM pedidos\n",
        "GROUP BY mes, ano\n",
        "ORDER BY ano, mes;"
      ],
      "metadata": {
        "id": "tksfRLslc8Un"
      },
      "execution_count": null,
      "outputs": []
    },
    {
      "cell_type": "markdown",
      "source": [
        "# **Ticket Médio de Pedidos**\n",
        "- O \"Ticket Médio de Pedidos\" é uma métrica financeira que calcula o valor médio que cada cliente gasta por pedido. Ele é obtido dividindo o total de receitas obtidas com vendas pelo número total de pedidos realizados em um determinado período. Essa métrica é útil para entender o comportamento de compra dos clientes, ajudando as empresas a avaliar a eficácia de suas estratégias de preços e promoções, e a planejar ações para aumentar o valor médio das compras. Um ticket médio alto pode indicar um poder de compra elevado dos clientes ou uma eficácia na oferta de produtos e serviços de maior valor."
      ],
      "metadata": {
        "id": "HF1pe8ckiaiX"
      }
    },
    {
      "cell_type": "code",
      "source": [
        "%%sql\n",
        "SELECT\n",
        "  user_id,\n",
        "  AVG(receita) AS ticket_medio\n",
        "FROM (\n",
        "  SELECT\n",
        "    order_id,\n",
        "    user_id,\n",
        "    ROUND(SUM(sale_price), 2) AS receita\n",
        "  FROM `bigquery-public-data.thelook_ecommerce.order_items`\n",
        "  WHERE status = 'Complete'\n",
        "  GROUP BY 1, 2\n",
        ")\n",
        "GROUP BY 1\n",
        "ORDER BY 2 DESC"
      ],
      "metadata": {
        "id": "3uz9JBtgiZrB"
      },
      "execution_count": null,
      "outputs": []
    },
    {
      "cell_type": "markdown",
      "source": [
        "# **Preço médio de Produto - Por Estado**\n",
        "- O \"Preço Médio de Produto - Por Estado\" é uma métrica que calcula o valor médio ao qual produtos específicos são vendidos em diferentes estados ou regiões geográficas. Essa análise permite identificar variações nos preços devido a fatores regionais, como diferenças econômicas, preferências locais, e concorrência. Ao entender essas variações, as empresas podem ajustar suas estratégias de precificação, marketing e distribuição para melhor atender às demandas de cada mercado estadual, maximizando a penetração de mercado e otimizando o desempenho das marcas em diferentes contextos regionais.\n"
      ],
      "metadata": {
        "id": "z15IBIpRdAJH"
      }
    },
    {
      "cell_type": "code",
      "source": [
        "%%sql\n",
        "SELECT\n",
        "    estado,\n",
        "    marca,\n",
        "    AVG(preco) AS preco_medio\n",
        "FROM tabela_de_vendas\n",
        "WHERE data_venda BETWEEN '2023-01-01' AND '2023-12-31'\n",
        "GROUP BY estado, marca;"
      ],
      "metadata": {
        "id": "CDyse7qpc8bH"
      },
      "execution_count": null,
      "outputs": []
    },
    {
      "cell_type": "markdown",
      "source": [
        "# **Análise de Satisfação dos Clientes**\n",
        "- A \"Análise de Satisfação dos Clientes\" é um processo que avalia a experiência e a percepção dos clientes em relação a uma empresa, seus produtos ou serviços. Utiliza-se de avaliações, feedbacks, e pesquisas para coletar dados sobre a satisfação dos clientes. Esta análise é crucial para entender o que os clientes apreciam ou desejam que seja melhorado, permitindo que a empresa faça ajustes estratégicos para elevar a qualidade do serviço, aperfeiçoar produtos e fortalecer a relação com o cliente. Além disso, uma alta satisfação do cliente contribui positivamente para a reputação da empresa, atraindo mais negócios e promovendo lealdade à marca."
      ],
      "metadata": {
        "id": "_acq98n6ijvA"
      }
    },
    {
      "cell_type": "code",
      "source": [
        "%%sql\n",
        "SELECT AVG(avaliacao) AS satisfacao_media\n",
        "FROM feedback_clientes;"
      ],
      "metadata": {
        "id": "cAqGV3K8iaLA"
      },
      "execution_count": null,
      "outputs": []
    },
    {
      "cell_type": "markdown",
      "source": [
        "# **Taxa de Retenção de Clientes**\n",
        "- A Taxa de Retenção de Clientes é uma métrica que mede a porcentagem de clientes que continuam utilizando um serviço após fazerem seu primeiro pedido. Essa taxa é crucial para avaliar a fidelidade e a satisfação do cliente com o serviço oferecido. Uma alta taxa de retenção indica que os clientes estão satisfeitos e veem valor contínuo no serviço, sugerindo que a empresa é bem-sucedida em manter seus clientes engajados e interessados em continuar a relação comercial. Acompanhar essa métrica ajuda a empresa a entender a eficácia de suas estratégias de engajamento e retenção."
      ],
      "metadata": {
        "id": "3bw9bLPzhpjX"
      }
    },
    {
      "cell_type": "code",
      "execution_count": null,
      "metadata": {
        "id": "BYekpx7Ef7pu"
      },
      "outputs": [],
      "source": [
        "%%sql\n",
        "SELECT\n",
        "  (COUNT(DISTINCT cliente_id) / (SELECT COUNT(DISTINCT cliente_id) FROM Pedidos WHERE data_pedido < '2024-01-01')) * 100 AS TaxaRetencaoClientes\n",
        "FROM Pedidos\n",
        "WHERE cliente_id IN (SELECT DISTINCT cliente_id FROM Pedidos WHERE data_pedido < '2024-01-01')\n",
        "  AND data_pedido BETWEEN '2024-01-01' AND '2024-03-31';"
      ]
    },
    {
      "cell_type": "markdown",
      "source": [
        "# **Top 10 clientes que mais compraram, por região**\n",
        "- \"Top 10 clientes que mais compraram, por região\" é uma análise que identifica os dez clientes que realizaram os maiores volumes de compras em cada região geográfica. Esta análise ajuda a empresa a reconhecer seus clientes mais valiosos e fiéis em diferentes áreas, fornecendo uma base sólida para campanhas publicitárias e estratégias de marketing direcionadas. Ao focar nesses clientes, a empresa pode criar promoções personalizadas, ofertas especiais e programas de fidelidade para manter e aumentar o engajamento desses consumidores chave, maximizando a eficiência das campanhas e fortalecendo as relações de longo prazo."
      ],
      "metadata": {
        "id": "XZo_nq1gd9XI"
      }
    },
    {
      "cell_type": "code",
      "source": [
        "%%sql\n",
        "SELECT\n",
        "    regiao,\n",
        "    cliente_id,\n",
        "    COUNT(DISTINCT order_id) AS num_compras\n",
        "FROM vendas\n",
        "GROUP BY regiao, cliente_id\n",
        "ORDER BY num_compras DESC\n",
        "LIMIT 10;"
      ],
      "metadata": {
        "id": "uVy-1EdPc8Lf"
      },
      "execution_count": null,
      "outputs": []
    },
    {
      "cell_type": "markdown",
      "source": [
        "# **Top 10 Produtos Mais Vendidos**\n",
        "- \"Top 10 Produtos Mais Vendidos\" é uma análise que lista os dez produtos que tiveram o maior volume de vendas em um determinado período. Esta lista é crucial para entender quais produtos estão desempenhando melhor no mercado, permitindo que a empresa identifique tendências de consumo, ajuste estratégias de estoque e planeje ações de marketing direcionadas. Ao destacar os produtos mais populares, as empresas podem otimizar suas ofertas para maximizar as receitas e melhorar a satisfação do cliente, ao mesmo tempo em que ganham insights valiosos sobre as preferências dos consumidores."
      ],
      "metadata": {
        "id": "BgTet5uyeoHQ"
      }
    },
    {
      "cell_type": "code",
      "source": [
        "%%sql\n",
        "SELECT produto, COUNT(DISTINCT order_id) AS num_vendas\n",
        "FROM vendas\n",
        "GROUP BY produto\n",
        "ORDER BY num_vendas DESC\n",
        "LIMIT 10;"
      ],
      "metadata": {
        "id": "0CuSGX0vekZH"
      },
      "execution_count": null,
      "outputs": []
    },
    {
      "cell_type": "markdown",
      "source": [
        "# **Número de clientes por mês**\n",
        "- \"Número de clientes por mês\" é uma métrica que contabiliza quantos clientes únicos fizeram compras ou utilizaram serviços de uma empresa dentro de cada mês específico. Esta métrica ajuda a entender a atração e a retenção de clientes ao longo do tempo, permitindo que a empresa avalie a eficácia de suas campanhas de marketing, promoções e estratégias operacionais. Acompanhar essa métrica é crucial para medir o crescimento ou declínio na base de clientes e para adaptar estratégias de negócio a fim de melhor atender às necessidades do mercado e impulsionar o engajamento dos clientes."
      ],
      "metadata": {
        "id": "WUsYVVP5e8jY"
      }
    },
    {
      "cell_type": "code",
      "source": [
        "%%sql\n",
        "SELECT\n",
        "    EXTRACT(MONTH FROM data_registro) AS mes,\n",
        "    EXTRACT(YEAR FROM data_registro) AS ano,\n",
        "    COUNT(DISTINCT client_id) AS num_clientes\n",
        "FROM clientes\n",
        "GROUP BY mes, ano\n",
        "ORDER BY ano, mes;"
      ],
      "metadata": {
        "id": "93YrWa_iekRx"
      },
      "execution_count": null,
      "outputs": []
    },
    {
      "cell_type": "markdown",
      "source": [
        "# **Número de pedidos por mês**\n",
        "- \"Número de pedidos por mês\" é uma métrica que registra a quantidade total de pedidos feitos pelos clientes em cada mês. Essa métrica é fundamental para avaliar a atividade de vendas de uma empresa, permitindo entender as flutuações na demanda ao longo do tempo. Analisar o número de pedidos mensais ajuda a identificar tendências sazonais, avaliar o impacto de campanhas promocionais e estratégias de marketing, e planejar melhor a gestão de estoque e recursos. Isso também pode indicar a eficácia das iniciativas de engajamento do cliente e a saúde geral do negócio."
      ],
      "metadata": {
        "id": "RAYP9Ema34Yh"
      }
    },
    {
      "cell_type": "code",
      "source": [
        "%%sql\n",
        "SELECT\n",
        "    EXTRACT(MONTH FROM data_pedido) AS mes,\n",
        "    EXTRACT(YEAR FROM data_pedido) AS ano,\n",
        "    COUNT(DISTINCT order_id) AS num_pedidos\n",
        "FROM pedidos\n",
        "GROUP BY mes, ano\n",
        "ORDER BY ano, mes;"
      ],
      "metadata": {
        "id": "WdWT0AZ_3zrC"
      },
      "execution_count": null,
      "outputs": []
    },
    {
      "cell_type": "markdown",
      "source": [
        "# **Usuários que não tem compra em periodo X (exemplo: dezembro de 2022)**\n",
        "- \"Usuários que não têm compra em período X\" refere-se à identificação de clientes que não realizaram nenhuma compra durante um período específico, como, por exemplo, dezembro de 2022. Esta análise é utilizada para detectar clientes potencialmente inativos ou menos engajados, proporcionando uma oportunidade para que a empresa desenvolva estratégias específicas de reengajamento. Ao entender quais clientes não estão comprando em determinados períodos, a empresa pode direcionar esforços de marketing, oferecer promoções personalizadas ou realizar pesquisas para entender os motivos da inatividade e tentar recuperar esses clientes, aumentando assim as vendas e a fidelidade à marca."
      ],
      "metadata": {
        "id": "UiJyQpFC4LeJ"
      }
    },
    {
      "cell_type": "code",
      "source": [
        "%%sql\n",
        "select distinct\n",
        "  u.id\n",
        "from bigquery-public-data.thelook_ecommerce.users u\n",
        "left join bigquery-public-data.thelook_ecommerce.orders o on u.id = o.user_id and date(o.created_at) between \"2022-12-01\" and \"2022-12-31\"\n",
        "where o.user_id is null;"
      ],
      "metadata": {
        "id": "KF04ZQDY3zkZ"
      },
      "execution_count": null,
      "outputs": []
    },
    {
      "cell_type": "markdown",
      "source": [
        "# **Informações resumidas sobre os usuários (de todos, tendo ou não compras)**\n",
        "As \"informações resumidas sobre os usuários\" constituem um conjunto de dados agregados que fornecem uma visão detalhada sobre o comportamento de compra e interação dos clientes com a empresa. Esse resumo inclui:\n",
        "\n",
        "- **Id do usuário**: Identificação única de cada cliente.\n",
        "- **Quantidade de compras realizadas**: Número total de transações concluídas pelo usuário.\n",
        "- **Quantidade de itens comprados**: Total de itens adquiridos ao longo de todas as compras.\n",
        "- **Ticket médio**: Valor médio gasto por compra, calculado dividindo o total gasto pelo número de compras.\n",
        "- **Quantidade de produtos distintos comprados**: Número de diferentes tipos de produtos adquiridos pelo usuário.\n",
        "- **Centro de distribuições dos quais o usuário recebeu produtos**: Informações sobre de quais centros de distribuição os produtos foram enviados para o usuário, indicando a logística envolvida.\n",
        "- **Quantidade de criações de carrinho**: Número de vezes que o usuário adicionou itens ao carrinho de compras, independentemente de concluir a compra.\n",
        "\n",
        "Essas informações ajudam a empresa a entender melhor cada cliente, permitindo a personalização de ofertas, a otimização de estratégias de marketing e a melhoria do serviço ao cliente. Além disso, permitem identificar padrões e tendências no comportamento de compra que podem ser cruciais para o planejamento estratégico e operacional."
      ],
      "metadata": {
        "id": "eIpP3G844k6p"
      }
    },
    {
      "cell_type": "code",
      "source": [
        "%%sql\n",
        "select\n",
        "  u.id,\n",
        "  ticket_medio,\n",
        "  compras_realizadas,\n",
        "  itens_comprados,\n",
        "  produtos_distintos,\n",
        "  centros_distribuicao,\n",
        "  count(distinct e.id) as eventos_carrinho\n",
        "from bigquery-public-data.thelook_ecommerce.users u\n",
        "left join bigquery-public-data.thelook_ecommerce.events e on e.user_id = u.id and event_type = 'cart'\n",
        "left join (\n",
        "  select\n",
        "    o.user_id,\n",
        "    sum(sale_price)/count(distinct o.order_id) as ticket_medio,\n",
        "    count(distinct o.order_id) as compras_realizadas,\n",
        "    count(distinct oi.id) as itens_comprados,\n",
        "    count(distinct p.id) as produtos_distintos,\n",
        "    count(distinct d.id) as centros_distribuicao\n",
        "  from bigquery-public-data.thelook_ecommerce.orders o\n",
        "  left join bigquery-public-data.thelook_ecommerce.order_items oi on o.order_id = oi.order_id\n",
        "  left join bigquery-public-data.thelook_ecommerce.products p on p.id = oi.product_id\n",
        "  left join bigquery-public-data.thelook_ecommerce.distribution_centers d on d.id = p.distribution_center_id\n",
        "  group by 1\n",
        ") as T on T.user_id = u.id\n",
        "group by 1, 2, 3, 4, 5, 6\n",
        "order by id;"
      ],
      "metadata": {
        "id": "Bpf90HCA3zdK"
      },
      "execution_count": null,
      "outputs": []
    },
    {
      "cell_type": "markdown",
      "source": [
        "# **Tempo em dias da data de cadastro até a última compra de cada usuário**\n",
        "- \"Tempo em dias da data de cadastro até a última compra de cada usuário\" é uma métrica que calcula o número de dias entre a data em que um usuário se cadastrou em uma plataforma ou serviço e a data de sua última compra. Essa medida fornece insights sobre o envolvimento e a atividade do cliente ao longo do tempo, ajudando a avaliar o quão engajados e leais os usuários são em relação à empresa. Um intervalo curto entre cadastro e última compra pode indicar alta satisfação e envolvimento, enquanto um intervalo longo pode sugerir desengajamento ou oportunidades para reengajar o cliente."
      ],
      "metadata": {
        "id": "Zb_MYf9i5Rgy"
      }
    },
    {
      "cell_type": "code",
      "source": [
        "%%sql\n",
        "select\n",
        "  u.id,\n",
        "  max(timestamp_diff(o.created_at, u.created_at, day)) as dias_ate_ultima_compra\n",
        "from bigquery-public-data.thelook_ecommerce.orders o\n",
        "join bigquery-public-data.thelook_ecommerce.users u on u.id = o.user_id\n",
        "group by 1\n",
        "order by 2 desc;"
      ],
      "metadata": {
        "id": "j54UNv2o3zLx"
      },
      "execution_count": null,
      "outputs": []
    },
    {
      "cell_type": "markdown",
      "source": [
        "# **Tempo em dias entre a primeira e a última compra de cada usuário**\n",
        "- \"Tempo em dias entre a primeira e a última compra de cada usuário\" é uma métrica que mede o intervalo de tempo decorrido entre a data da primeira compra de um cliente e a data de sua última compra registrada. Esta métrica é útil para entender a longevidade e a frequência das interações comerciais de um cliente com a empresa, fornecendo uma visão sobre o ciclo de vida do cliente. Um período longo entre a primeira e a última compra pode indicar fidelidade do cliente, enquanto um período curto pode sugerir uma interação pontual ou necessidades de estratégias de retenção mais eficazes."
      ],
      "metadata": {
        "id": "irBCAGy-5k4Q"
      }
    },
    {
      "cell_type": "code",
      "source": [
        "%%sql\n",
        "select\n",
        "  user_id,\n",
        "  timestamp_diff(max(created_at), min(created_at), day) as dias_entre_prim_ult\n",
        "from bigquery-public-data.thelook_ecommerce.orders\n",
        "group by 1\n",
        "order by 2 desc;"
      ],
      "metadata": {
        "id": "Osfv5NTW38Oa"
      },
      "execution_count": null,
      "outputs": []
    },
    {
      "cell_type": "markdown",
      "source": [
        "# **Receita acumulada dos usuários, a cada pedido**\n",
        "- \"Receita acumulada dos usuários, a cada pedido\" refere-se à soma total de receita que um cliente gera para a empresa a cada nova compra que realiza. Essa métrica acompanha e soma todos os valores gastos pelo cliente desde sua primeira compra até a mais recente, fornecendo uma visão contínua do valor financeiro que o cliente traz para a empresa ao longo do tempo. Isso ajuda a entender o impacto econômico individual de cada cliente e é crucial para identificar quais clientes são mais valiosos, permitindo a implementação de estratégias de marketing e retenção focadas nos usuários de maior valor."
      ],
      "metadata": {
        "id": "3wkGfqE05315"
      }
    },
    {
      "cell_type": "code",
      "source": [
        "%%sql\n",
        "select\n",
        "  o.user_id,\n",
        "  o.order_id,\n",
        "  oi.id as item_id,\n",
        "  o.created_at,\n",
        "  round(sum(sale_price) over(partition by o.user_id order by o.created_at, oi.id rows between unbounded preceding and current row), 2) as receita_acumulada\n",
        "from bigquery-public-data.thelook_ecommerce.orders o\n",
        "join bigquery-public-data.thelook_ecommerce.order_items oi on oi.order_id = o.order_id\n",
        "order by 1, 4, 3;"
      ],
      "metadata": {
        "id": "ul24h7K339Wp"
      },
      "execution_count": null,
      "outputs": []
    },
    {
      "cell_type": "markdown",
      "source": [
        "# **Tempo em dias entre uma compra e outra para cada usuário**\n",
        "- É o intervalo de tempo, em dias, entre duas compras consecutivas feitas por um mesmo usuário. É a métrica que quantifica o intervalo de tempo entre compras sucessivas feitas por cada cliente, crucial para entender o comportamento de compra e identificar padrões de fidelidade ou churn. Essa informação é essencial para otimizar estratégias de retenção de clientes, personalizar ofertas e melhorar a experiência do cliente."
      ],
      "metadata": {
        "id": "3Nc6sYSU6OvY"
      }
    },
    {
      "cell_type": "code",
      "source": [
        "%%sql\n",
        "select\n",
        "    user_id,\n",
        "    order_id,\n",
        "    created_at,\n",
        "    timestamp_diff(created_at, lag(created_at) over(partition by user_id order by created_at), day) diferenca_dias\n",
        "from bigquery-public-data.thelook_ecommerce.orders\n",
        "order by 1, 3\n",
        "-- order by 4 desc (para mostrar usuarios com maior diferenca em dias)"
      ],
      "metadata": {
        "id": "4sqnkEs439IR"
      },
      "execution_count": null,
      "outputs": []
    },
    {
      "cell_type": "markdown",
      "source": [
        "# **Forma de retornar os usuários com compras recorrentes dentro do mesmo mês (mais de 1 compra)**\n",
        "- É o método para identificar e segmentar usuários que realizam múltiplas compras dentro do mesmo mês, permitindo analisar padrões de comportamento de compra recorrente e criar estratégias específicas de retenção e fidelização."
      ],
      "metadata": {
        "id": "HrxgYze268gh"
      }
    },
    {
      "cell_type": "code",
      "source": [
        "%%sql\n",
        "SELECT DISTINCT user_id\n",
        "FROM (\n",
        "  SELECT\n",
        "    user_id,\n",
        "    order_id,\n",
        "    created_at,\n",
        "    ROW_NUMBER() OVER (\n",
        "      PARTITION BY user_id, EXTRACT(YEAR FROM created_at), EXTRACT(MONTH FROM created_at)\n",
        "      ORDER BY created_at\n",
        "    ) AS numero_compra\n",
        "  FROM bigquery-public-data.thelook_ecommerce.orders\n",
        ") AS T\n",
        "WHERE numero_compra > 1\n",
        "ORDER BY user_id;"
      ],
      "metadata": {
        "id": "WNB2i3oQ382C"
      },
      "execution_count": null,
      "outputs": []
    },
    {
      "cell_type": "markdown",
      "source": [
        "# **Produtos mais vendidos por categoria**\n",
        "- É a análise que identifica os produtos com maior volume de vendas em cada categoria específica, fornecendo insights sobre demanda, preferências dos clientes e oportunidades de otimização do mix de produtos."
      ],
      "metadata": {
        "id": "AK_ZhTRB7Pta"
      }
    },
    {
      "cell_type": "code",
      "source": [
        "%%sql\n",
        "with cte_sales_qty_data as (\n",
        "    select\n",
        "        p.product_name,\n",
        "        c.category_name,\n",
        "        sum(od.quantity) as qty,\n",
        "        rank() over(partition by c.category_name order by sum(od.quantity) desc) as rank\n",
        "    from order_details od\n",
        "    join products p on od.product_id = p.product_id\n",
        "    join categories c on p.category_id = c.category_id\n",
        "    group by p.product_name, c.category_name\n",
        ")\n",
        "\n",
        "select * from cte_sales_qty_data\n",
        "where rank <= 3\n",
        "order by category_name, rank"
      ],
      "metadata": {
        "id": "RKAxAsAH38kh"
      },
      "execution_count": null,
      "outputs": []
    }
  ]
}