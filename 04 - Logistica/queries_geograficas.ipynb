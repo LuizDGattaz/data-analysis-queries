{
  "nbformat": 4,
  "nbformat_minor": 0,
  "metadata": {
    "colab": {
      "provenance": []
    },
    "kernelspec": {
      "name": "python3",
      "display_name": "Python 3"
    },
    "language_info": {
      "name": "python"
    }
  },
  "cells": [
    {
      "cell_type": "markdown",
      "source": [
        "# 📊 Repositório de Consultas SQL para Analistas de Dados: **Departamento Logistica - Queries Geograficas**\n",
        "-  🔍 Contribuições: Estamos abertos a contribuições da comunidade de analistas de dados! Se você tiver consultas SQL úteis que gostaria de compartilhar ou sugestões para melhorias, sinta-se à vontade para enviar um pull request. Juntos, podemos expandir e aprimorar este repositório para beneficiar toda a comunidade de análise de dados.\n",
        "- 🎯 Sinta-se à vontade para explorar, utilizar e contribuir para este repositório, e que ele possa ser uma ferramenta valiosa em sua jornada como analista de dados!"
      ],
      "metadata": {
        "id": "vjqSg4TxgLfQ"
      }
    },
    {
      "cell_type": "markdown",
      "source": [
        "# **Informações Geograficas de Rotas**\n",
        "- Calculo de distância em metros\n",
        "- Velocidade média\n",
        "- Bases de dados Bigquery Public Data\n",
        "\n",
        "\n",
        "\n",
        "\n",
        "\n"
      ],
      "metadata": {
        "id": "EBJSqEuzisYg"
      }
    },
    {
      "cell_type": "code",
      "source": [
        "%%sql\n",
        "select\n",
        "  trip_id,\n",
        "  /* infos da estação de partida */\n",
        "  start_station_latitude,\n",
        "  start_station_longitude,\n",
        "  start_station_geom,\n",
        "  st_geogpoint(start_station_longitude, start_station_latitude) as ponto_geografico_start,\n",
        "  /* infos da estação de chegada */\n",
        "  end_station_latitude,\n",
        "  end_station_longitude,\n",
        "  end_station_geom,\n",
        "  st_geogpoint(end_station_longitude, end_station_latitude) as ponto_geografico_end,\n",
        "  /* distancia e velocidade média (m/s) */\n",
        "  round(st_distance(start_station_geom, end_station_geom), 0) as distancia_metros,\n",
        "  round(st_distance(start_station_geom, end_station_geom) / duration_sec, 0) as velocidade_media,\n",
        "  /* st_x e st_y */\n",
        "  st_x(start_station_geom) as longitude,\n",
        "  st_y(start_station_geom) as latitude,\n",
        "  /* st_makeline é usado para colocar linhas em uma visualização de Mapa */\n",
        "  st_makeline(start_station_geom, end_station_geom) as rota\n",
        "from `bigquery-public-data.san_francisco_bikeshare.bikeshare_trips`\n",
        "where start_station_latitude is not null and start_station_longitude is not null\n",
        "  and end_station_latitude is not null and end_station_longitude is not null\n",
        "  and round(st_distance(start_station_geom, end_station_geom), 0) > 0\n",
        "order by rand() # pegando dados aleatorios\n",
        "limit 100;"
      ],
      "metadata": {
        "id": "VcqPJaS4ir_n"
      },
      "execution_count": null,
      "outputs": []
    },
    {
      "cell_type": "markdown",
      "source": [
        "# **Query com 10 localizações geograficas de crimes usando dataset publico austin_crime**\n",
        "- Cria pontos geográficos\n",
        "- Pega 10 crimes aleatorios\n",
        "- A partir de um ponto geografico do mcdonalds da cidade, calcula a distancia (em km) entre o ponto do crime/incidente até o ponto geografico do mcdonalds\n",
        "- Crie também as rotas de cada incidente á cordenada (linhas de rota)"
      ],
      "metadata": {
        "id": "AHBUx4-dRTHe"
      }
    },
    {
      "cell_type": "code",
      "source": [
        "%%sql\n",
        "SELECT\n",
        "  unique_key,\n",
        "  /* infos dos crimes */\n",
        "  latitude,\n",
        "  longitude,\n",
        "  st_geogpoint(longitude, latitude) as ponto_geografico_crime,\n",
        "  clearance_status,\n",
        "  description,\n",
        "  year,\n",
        "  /* infos do mcdonalds 30.2723734,-97.6981411 */\n",
        "  ST_GEOGPOINT(-97.6981411, 30.2723734) AS ponto_geografico_mcdonalds,\n",
        "  /* distancia */\n",
        "  round(ST_DISTANCE(ST_GEOGPOINT(longitude, latitude), ST_GEOGPOINT(-97.6981411, 30.2723734))/1000, 2) as distancia,\n",
        "  /* criando linhas de rota */\n",
        "  ST_MAKELINE(ST_GEOGPOINT(longitude, latitude), ST_GEOGPOINT(-97.6981411, 30.2723734)) AS rota\n",
        "from `bigquery-public-data.austin_crime.crime`\n",
        "where latitude is not null and longitude is not null\n",
        "order by rand() # pegando dados aleatorios\n",
        "limit 10"
      ],
      "metadata": {
        "id": "gtJxb6aTRQFP"
      },
      "execution_count": null,
      "outputs": []
    },
    {
      "cell_type": "markdown",
      "source": [
        "# **Query calcula a mínima e a máxima distância do resultado da query acima**"
      ],
      "metadata": {
        "id": "oA9Sj6eLRlT9"
      }
    },
    {
      "cell_type": "code",
      "source": [
        "%%sql\n",
        "WITH dist as (\n",
        "  select\n",
        "    unique_key,\n",
        "    /* infos dos incidentes */\n",
        "    latitude,\n",
        "    longitude,\n",
        "    ST_GEOGPOINT(longitude, latitude) AS ponto_geografico_incidente,\n",
        "    /* infos do mcdonalds 30.2723734,-97.6981411 */\n",
        "    ST_GEOGPOINT(-97.6981411, 30.2723734) AS ponto_geografico_mcdonalds,\n",
        "    /* distancia */\n",
        "    round(ST_DISTANCE(ST_GEOGPOINT(longitude, latitude), ST_GEOGPOINT(-97.6981411, 30.2723734))/1000, 2) as distancia,\n",
        "    /* criando linhas de rota */\n",
        "    ST_MAKELINE(ST_GEOGPOINT(longitude, latitude), ST_GEOGPOINT(-97.6981411, 30.2723734)) AS rota\n",
        "  from bigquery-public-data.austin_crime.crime\n",
        "  where latitude is not null\n",
        "    and longitude is not null\n",
        "  order by rand()\n",
        "  limit 10)\n",
        "\n",
        "select\n",
        "  min(distancia) as minimo,\n",
        "  max(distancia) as maximo\n",
        "from dist;"
      ],
      "metadata": {
        "id": "Q9P6fe6gRgd1"
      },
      "execution_count": null,
      "outputs": []
    }
  ]
}