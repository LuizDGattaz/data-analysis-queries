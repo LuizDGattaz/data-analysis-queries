{
  "nbformat": 4,
  "nbformat_minor": 0,
  "metadata": {
    "colab": {
      "provenance": []
    },
    "kernelspec": {
      "name": "python3",
      "display_name": "Python 3"
    },
    "language_info": {
      "name": "python"
    }
  },
  "cells": [
    {
      "cell_type": "markdown",
      "source": [
        "# 📊 Repositório de Consultas SQL para Analistas de Dados: **Departamento Logistica**\n",
        "-  🔍 Contribuições: Estamos abertos a contribuições da comunidade de analistas de dados! Se você tiver consultas SQL úteis que gostaria de compartilhar ou sugestões para melhorias, sinta-se à vontade para enviar um pull request. Juntos, podemos expandir e aprimorar este repositório para beneficiar toda a comunidade de análise de dados.\n",
        "- 🎯 Sinta-se à vontade para explorar, utilizar e contribuir para este repositório, e que ele possa ser uma ferramenta valiosa em sua jornada como analista de dados!"
      ],
      "metadata": {
        "id": "vjqSg4TxgLfQ"
      }
    },
    {
      "cell_type": "markdown",
      "source": [
        "# 📌 **Taxa de Entrega no Prazo - OTD (On Time Delivery)**\n",
        "- A Taxa de Entrega no Prazo é uma métrica de desempenho logístico que mede a porcentagem de pedidos que são entregues aos clientes dentro do prazo estimado inicialmente. Esta taxa é crucial para avaliar a eficiência e a confiabilidade dos processos de entrega de uma empresa. Uma alta taxa de entrega no prazo indica um serviço de entrega eficaz, que cumpre com os compromissos de tempo acordados com os clientes, contribuindo para a satisfação do cliente e a reputação positiva da empresa.\n",
        "\n",
        "```sql\n",
        "SELECT\n",
        "    modal,\n",
        "    COUNT(DISTINCT order_id) AS TotalPedidos,\n",
        "    SUM(CASE WHEN entrega_no_prazo = 1 THEN 1 ELSE 0 END) AS PedidosEntreguesNoPrazo,\n",
        "    SUM(CASE WHEN entrega_no_prazo = 0 THEN 1 ELSE 0 END) AS PedidosAtrasados,\n",
        "    (SUM(CASE WHEN entrega_no_prazo = 1 THEN 1 ELSE 0 END) * 100.0 / COUNT(DISTINCT order_id)) AS TaxaEntregaNoPrazo,\n",
        "    (SUM(CASE WHEN entrega_no_prazo = 0 THEN 1 ELSE 0 END) * 100.0 / COUNT(DISTINCT order_id)) AS TaxaPedidosAtrasados,\n",
        "    meta_estabelecida\n",
        "FROM\n",
        "    Pedidos\n",
        "GROUP BY\n",
        "    modal, meta_estabelecida;\n",
        "```"
      ],
      "metadata": {
        "id": "3bw9bLPzhpjX"
      }
    },
    {
      "cell_type": "markdown",
      "source": [
        "# 📌 **Eficiência de Logística**\n",
        "- A Eficiência de Logística é uma métrica que avalia o desempenho dos processos logísticos de uma empresa, focando especialmente no tempo médio necessário para preparar e entregar pedidos aos clientes. Essa métrica é fundamental para entender quão ágil e eficaz é a cadeia de suprimentos da empresa, desde o recebimento de um pedido até sua entrega final. Uma maior eficiência logística significa que a empresa é capaz de processar e entregar pedidos de maneira rápida e eficiente, aumentando a satisfação do cliente e otimizando os custos operacionais.\n",
        "\n",
        "```sql\n",
        "SELECT AVG(tempo_preparo + tempo_entrega) AS TempoMedioLogistica\n",
        "FROM Pedidos;\n",
        "```"
      ],
      "metadata": {
        "id": "O3LZqAr2iAc5"
      }
    },
    {
      "cell_type": "markdown",
      "source": [
        "# 📌 **Taxa de Pedidos Atrasados**\n",
        "- A Taxa de Pedidos Atrasados é uma métrica que indica a porcentagem de pedidos que não foram entregues dentro do prazo estimado originalmente. Esta taxa é essencial para avaliar a eficiência operacional de uma empresa no que diz respeito à gestão de tempo e logística de entrega. Um alto índice de pedidos atrasados pode sinalizar problemas na cadeia de suprimentos, na gestão de estoque, ou na execução de entregas, impactando negativamente a satisfação do cliente e a confiança na marca.\n",
        "\n",
        "```sql\n",
        "SELECT\n",
        "    (COUNT(DISTINCT order_id) * 100.0 / (SELECT COUNT(DISTINCT order_id) FROM Pedidos)) AS TaxaPedidosAtrasados\n",
        "FROM\n",
        "    Pedidos\n",
        "WHERE\n",
        "    entrega_no_prazo = 0;\n",
        "```"
      ],
      "metadata": {
        "id": "SGP8CC51i6QJ"
      }
    },
    {
      "cell_type": "markdown",
      "source": [
        "# 📌 **Ranking de Exceções**\n",
        "\n",
        "O indicador \"Ranking de Exceções\" é uma métrica que classifica os principais tipos de exceções que causam desvios nas operações logísticas. Essas exceções podem incluir atrasos do fornecedor, avarias (dano ou defeito que ocorre em mercadorias durante o transporte, armazenamento ou manuseio, comprometendo sua integridade ou qualidade), problemas de documentação, entre outros. A query SQL utilizada para calcular esse indicador soma a quantidade de ocorrências de cada tipo de exceção e as ordena em ordem decrescente, fornecendo uma visão clara e hierarquizada das principais causas de desvios operacionais.\n",
        "\n",
        "#### Query SQL para o Ranking de Exceções\n",
        "```sql\n",
        "SELECT\n",
        "    date_trunc('month', data_excecao) AS mes_ano,\n",
        "    tipo_excecao,\n",
        "    SUM(quantidade) AS TotalOcorrencias\n",
        "FROM\n",
        "    ExcecoesLogisticas\n",
        "GROUP BY\n",
        "    mes_ano,\n",
        "    tipo_excecao\n",
        "ORDER BY\n",
        "    mes_ano,\n",
        "    TotalOcorrencias DESC;\n",
        "```\n",
        "\n",
        "### Importância do Indicador para o Departamento Logístico e para a Empresa\n",
        "\n",
        "#### 1. **Identificação de Problemas Recorrentes**\n",
        "- 🕵️‍♂️ **Diagnóstico**: O \"Ranking de Exceções\" permite identificar os tipos de problemas que ocorrem com mais frequência nas operações logísticas.\n",
        "- 🔍 **Foco nas Prioridades**: Ao saber quais exceções são mais comuns, o departamento logístico pode priorizar esforços e recursos para resolver esses problemas de maneira eficiente.\n",
        "\n",
        "#### 2. **Melhoria Contínua**\n",
        "- 📈 **Eficiência Operacional**: Identificar e mitigar as principais causas de exceções contribui para a melhoria contínua dos processos logísticos, aumentando a eficiência e reduzindo desperdícios.\n",
        "- 🔄 **Feedback Loop**: O indicador serve como um feedback loop para implementar e avaliar a eficácia de medidas corretivas.\n",
        "\n",
        "#### 3. **Redução de Custos**\n",
        "- 💰 **Custos Operacionais**: Exceções como atrasos e avarias geralmente resultam em custos adicionais. Reduzindo a frequência dessas exceções, a empresa pode diminuir os custos operacionais.\n",
        "- 🚚 **Gerenciamento de Inventário**: Problemas como atrasos do fornecedor podem afetar a gestão de inventário. Identificar e resolver essas exceções ajuda a manter níveis de estoque adequados, evitando excesso ou falta de produtos.\n",
        "\n",
        "#### 4. **Satisfação do Cliente**\n",
        "- 😀 **Experiência do Cliente**: Reduzir a frequência de exceções melhora a experiência do cliente, pois produtos são entregues no prazo e em boas condições.\n",
        "- 🏆 **Confiança na Marca**: Uma logística eficiente e confiável aumenta a confiança do cliente na marca, contribuindo para a fidelização e a reputação da empresa no mercado.\n",
        "\n",
        "#### 5. **Tomada de Decisão Informada**\n",
        "- 📊 **Dados e Insights**: O \"Ranking de Exceções\" fornece dados valiosos que podem ser utilizados em análises mais aprofundadas, ajudando os gestores a tomar decisões informadas e estratégicas.\n",
        "- 📉 **Acompanhamento de KPI**: Monitorar esse indicador ao longo do tempo permite acompanhar o desempenho dos KPIs logísticos e ajustar as estratégias conforme necessário.\n",
        "\n",
        "### Conclusão\n",
        "\n",
        "O indicador \"Ranking de Exceções\" é uma ferramenta crucial para o departamento logístico, ajudando a identificar, priorizar e mitigar os principais problemas que afetam a eficiência operacional. Para a empresa, isso se traduz em redução de custos, melhoria na satisfação do cliente, e um fortalecimento da marca no mercado. Adicionar essa métrica ao seu repositório de consultas SQL proporciona uma base sólida para análises contínuas e para a tomada de decisões estratégicas baseadas em dados."
      ],
      "metadata": {
        "id": "dq9WbadCwOqY"
      }
    },
    {
      "cell_type": "markdown",
      "source": [
        "# 📌 **Utilização de Recursos**\n",
        "- A Utilização de Recursos é uma métrica que mede o percentual de uso efetivo dos recursos disponíveis, como motos, bicicletas, veículos de entrega, etc., em relação à sua capacidade total disponível. Esta métrica é crucial para avaliar a eficiência operacional e otimização da gestão de ativos de uma empresa. Uma alta taxa de utilização indica que os recursos estão sendo empregados de maneira eficaz, maximizando o retorno sobre os investimentos e minimizando o tempo de inatividade, o que contribui para a redução de custos e melhoria no serviço de entrega.\n",
        "\n",
        "```sql\n",
        "SELECT recurso_entrega,\n",
        "       COUNT(DISTINCT order_id) AS TotalPedidos,\n",
        "       (COUNT(DISTINCT order_id) / (SELECT COUNT(DISTINCT order_id) FROM Pedidos)) * 100 AS UtilizacaoRecursos\n",
        "FROM Pedidos\n",
        "GROUP BY recurso_entrega;\n",
        "```"
      ],
      "metadata": {
        "id": "wIsPj1FbiP0n"
      }
    },
    {
      "cell_type": "markdown",
      "source": [
        "# 📌 **Taxa de Devoluções**\n",
        "- A Taxa de Devoluções é uma métrica que indica a porcentagem de pedidos que foram devolvidos pelos clientes após a compra. Essa taxa é importante para avaliar a satisfação do cliente e a qualidade dos produtos ou serviços oferecidos. Uma alta taxa de devoluções pode sinalizar problemas como produtos defeituosos, expectativas do cliente não atendidas ou falhas no processo de entrega, impactando negativamente a reputação e os custos operacionais da empresa.\n",
        "\n",
        "```sql\n",
        "SELECT (COUNT(DISTINCT order_id) / (SELECT COUNT(DISTINCT order_id) FROM Pedidos)) * 100 AS TaxaDevolucoes\n",
        "FROM Pedidos\n",
        "WHERE status_pedido = 'Devolvido';\n",
        "```"
      ],
      "metadata": {
        "id": "HF1pe8ckiaiX"
      }
    },
    {
      "cell_type": "markdown",
      "source": [
        "# 📌 **Custo de Logística por Pedido**\n",
        "- O Custo de Logística por Pedido é uma métrica que calcula o custo médio associado à logística de entrega de cada pedido. Inclui despesas como transporte, armazenamento, manuseio de materiais, e salários dos funcionários envolvidos no processo de entrega. Essa métrica ajuda as empresas a entender o impacto financeiro da logística sobre as operações e a identificar áreas onde podem ser feitas melhorias para reduzir custos e aumentar a eficiência operacional, mantendo ou melhorando a qualidade do serviço de entrega.\n",
        "\n",
        "```sql\n",
        "SELECT AVG(custo_logistica) AS CustoLogisticaPorPedido\n",
        "FROM Pedidos;\n",
        "```"
      ],
      "metadata": {
        "id": "_acq98n6ijvA"
      }
    }
  ]
}