{
  "nbformat": 4,
  "nbformat_minor": 0,
  "metadata": {
    "colab": {
      "provenance": []
    },
    "kernelspec": {
      "name": "python3",
      "display_name": "Python 3"
    },
    "language_info": {
      "name": "python"
    }
  },
  "cells": [
    {
      "cell_type": "markdown",
      "source": [
        "# 📊 Repositório de Consultas SQL para Analistas de Dados: **Departamento Data Insights**\n",
        "-  🔍 Contribuições: Estamos abertos a contribuições da comunidade de analistas de dados! Se você tiver consultas SQL úteis que gostaria de compartilhar ou sugestões para melhorias, sinta-se à vontade para enviar um pull request. Juntos, podemos expandir e aprimorar este repositório para beneficiar toda a comunidade de análise de dados.\n",
        "- 🎯 Sinta-se à vontade para explorar, utilizar e contribuir para este repositório, e que ele possa ser uma ferramenta valiosa em sua jornada como analista de dados!"
      ],
      "metadata": {
        "id": "vjqSg4TxgLfQ"
      }
    },
    {
      "cell_type": "markdown",
      "source": [
        "# **Market Basket Analysis - Crossbasket (Análise de Cesta de Compras)**\n",
        "- A Market Basket Analysis, ou Análise de Cesta de Compras, especialmente no contexto de \"Crossbasket\", é uma técnica estatística utilizada para entender as relações entre diferentes produtos comprados pelos clientes durante suas compras. Esta análise examina padrões e tendências de compra, determinando quais itens são frequentemente comprados juntos.\n",
        "\n",
        "### **Explicação da Query:**\n",
        "- Paired_Products: Esta CTE cria pares de produtos que foram comprados juntos no mesmo pedido. A condição oi1.product_id < oi2.product_id garante que cada combinação seja contada apenas uma vez e evita duplicidade.\n",
        "- Product_Combinations: Agrupa esses pares para contar quantas vezes cada par de produtos foi pedido.\n",
        "- Total_Orders_Per_Product: Conta quantos pedidos contêm cada produto individualmente.\n",
        "- Consulta Final: Calcula a porcentagem de pedidos contendo o produto menos frequente no par que também inclui o outro produto do par. Isso é feito dividindo o número de pedidos que contêm ambos os produtos pela quantidade total de pedidos do produto menos comum no par. Os resultados são ordenados por order_count para destacar os pares mais comuns.\n",
        "\n",
        "💡 Essa análise ajuda a identificar oportunidades para promoções cruzadas ou recomendações de produtos baseadas em padrões de compra observados, aumentando potencialmente as vendas e a satisfação do cliente ao antecipar suas necessidades.\n",
        "\n",
        "### **Cálculo da Porcentagem:**\n",
        "Na consulta SQL que preparamos, a porcentagem é calculada da seguinte forma:\n",
        "\n",
        "Primeiro, identificamos todos os pedidos que contêm cada par possível de produtos (Produto1 e Produto2) que foram comprados juntos.\n",
        "Em seguida, contamos o número total de pedidos que contêm cada um desses produtos individualmente.\n",
        "A porcentagem é calculada usando o número de pedidos que contêm ambos os produtos dividido pelo número total de pedidos que contêm o produto menos comum no par. Isso é feito para destacar a força da associação entre os dois produtos.\n",
        "\n",
        "### **Explicação da \"Porcentagem\":**\n",
        "\"Produto menos comum no par\": Este é o produto que aparece em menos pedidos entre os dois produtos que estamos comparando. Por exemplo, se o Produto A está em 100 pedidos e o Produto B em 150, então o Produto A é o \"produto menos comum\".\n",
        "Cálculo da porcentagem: A porcentagem mostra qual fração dos pedidos que contêm o produto menos comum também contêm o outro produto. Se a porcentagem é alta, isso indica uma forte associação entre os dois produtos no contexto de compras conjuntas.\n",
        "\n",
        "### **Exemplo Prático**\n",
        "*Imagine que:*\n",
        "\n",
        "- Produto A está em 100 pedidos.\n",
        "- Produto B está em 150 pedidos.\n",
        "- Ambos, Produto A e B, estão juntos em 50 pedidos.\n",
        "\n",
        "*Neste caso:*\n",
        "\n",
        "Produto A é o menos comum (100 pedidos vs. 150 pedidos de Produto B).\n",
        "A porcentagem será (50 / 100) * 100 = 50%.\n",
        "Isso significa que, dos pedidos que incluem Produto A, 50% também incluem Produto B. Esta é uma métrica crucial para entender quão dependente é a compra do Produto B quando o Produto A é comprado, indicando uma possível recomendação de Produto B para os compradores de Produto A.\n",
        "\n",
        "💡 Essa análise ajuda a identificar oportunidades para promoções cruzadas ou recomendações de produtos baseadas em padrões de compra observados, aumentando potencialmente as vendas e a satisfação do cliente ao antecipar suas necessidades."
      ],
      "metadata": {
        "id": "wIsPj1FbiP0n"
      }
    },
    {
      "cell_type": "code",
      "source": [
        "%%sql\n",
        "WITH Paired_Products AS (\n",
        "    SELECT\n",
        "        oi1.order_id,\n",
        "        oi1.product_id AS product_id1,\n",
        "        oi2.product_id AS product_id2\n",
        "    FROM\n",
        "        `bigquery-public-data.thelook_ecommerce.order_items` oi1\n",
        "    JOIN\n",
        "        `bigquery-public-data.thelook_ecommerce.order_items` oi2\n",
        "        ON oi1.order_id = oi2.order_id AND oi1.product_id < oi2.product_id\n",
        "    WHERE\n",
        "        oi1.status = 'Complete' AND oi2.status = 'Complete'\n",
        "),\n",
        "Product_Combinations AS (\n",
        "    SELECT\n",
        "        product_id1,\n",
        "        product_id2,\n",
        "        COUNT(DISTINCT order_id) AS order_count\n",
        "    FROM\n",
        "        Paired_Products\n",
        "    GROUP BY\n",
        "        product_id1, product_id2\n",
        "),\n",
        "Total_Orders_Per_Product AS (\n",
        "    SELECT\n",
        "        product_id,\n",
        "        COUNT(DISTINCT order_id) AS total_orders\n",
        "    FROM\n",
        "        `bigquery-public-data.thelook_ecommerce.order_items`\n",
        "    WHERE\n",
        "        status = 'Complete'\n",
        "    GROUP BY\n",
        "        product_id\n",
        ")\n",
        "\n",
        "SELECT\n",
        "    pc.product_id1,\n",
        "    pc.product_id2,\n",
        "    pc.order_count,\n",
        "    ROUND((CAST(pc.order_count AS FLOAT64) / MIN(tp.total_orders)) * 100, 2) AS percentage\n",
        "FROM\n",
        "    Product_Combinations pc\n",
        "JOIN\n",
        "    Total_Orders_Per_Product tp ON pc.product_id1 = tp.product_id OR pc.product_id2 = tp.product_id\n",
        "GROUP BY\n",
        "    pc.product_id1, pc.product_id2, pc.order_count\n",
        "ORDER BY\n",
        "    pc.order_count DESC;"
      ],
      "metadata": {
        "id": "DKlVfweIiNIn"
      },
      "execution_count": null,
      "outputs": []
    },
    {
      "cell_type": "markdown",
      "source": [
        "# **Lifetime Value (LTV) dos Clientes**\n",
        "- O Lifetime Value (LTV) dos Clientes é uma métrica financeira que estima o valor total de receita ou lucro que um cliente contribui para uma empresa ao longo de todo o seu relacionamento com ela. O LTV calcula não apenas as vendas imediatas, mas também incorpora a projeção de todas as futuras transações que o cliente pode realizar. Esta métrica é crucial para empresas entenderem o valor a longo prazo de manter relacionamentos com clientes, auxiliando na decisão de quanto investir em aquisição e retenção de clientes. Um LTV alto indica um cliente altamente valioso, que justifica investimentos maiores em marketing e serviços para garantir sua satisfação e fidelidade."
      ],
      "metadata": {
        "id": "SGP8CC51i6QJ"
      }
    },
    {
      "cell_type": "code",
      "source": [
        "%%sql\n",
        "SELECT\n",
        "    cliente_id,\n",
        "    AVG(valor_total) AS ltv\n",
        "FROM pedidos\n",
        "GROUP BY cliente_id;"
      ],
      "metadata": {
        "id": "CAOIBmsYiryH"
      },
      "execution_count": null,
      "outputs": []
    },
    {
      "cell_type": "markdown",
      "source": [
        "# **Custo de Aquisição de Clientes (CAC)**\n",
        "- O Custo de Aquisição de Clientes (CAC) é uma métrica financeira que calcula o custo médio envolvido na aquisição de um novo cliente. Ele inclui todos os custos de marketing e vendas divididos pelo número de clientes adquiridos durante um período específico. O CAC é essencial para avaliar a eficácia das estratégias de marketing e vendas de uma empresa, ajudando a entender quanto está sendo efetivamente investido para ganhar cada novo cliente. Uma gestão eficiente do CAC é crucial para garantir que a empresa não esteja gastando excessivamente para atrair clientes, mantendo a rentabilidade."
      ],
      "metadata": {
        "id": "3aAAMcnZdRvI"
      }
    },
    {
      "cell_type": "code",
      "source": [
        "%%sql\n",
        "SELECT\n",
        "    DATE_TRUNC('month', data_cadastro) AS mes,\n",
        "    SUM(custo_campanhas + custo_vendas) / COUNT(DISTINCT cliente_id) AS cac_mensal\n",
        "FROM clientes\n",
        "GROUP BY mes\n",
        "ORDER BY mes;"
      ],
      "metadata": {
        "id": "tksfRLslc8Un"
      },
      "execution_count": null,
      "outputs": []
    },
    {
      "cell_type": "markdown",
      "source": [
        "# **Taxa de Engajamento nas Redes Sociais**\n",
        "- A Taxa de Engajamento nas Redes Sociais é uma métrica que mede a interação dos usuários com o conteúdo publicado em plataformas de mídia social. Ela é calculada com base no número de interações ativas que o conteúdo recebe, como curtidas, comentários, compartilhamentos e visualizações, dividido pelo número total de seguidores ou alcance do post. Essa taxa é um indicador importante da relevância e do impacto do conteúdo, mostrando o quanto ele é capaz de envolver e atrair a atenção dos usuários."
      ],
      "metadata": {
        "id": "z15IBIpRdAJH"
      }
    },
    {
      "cell_type": "code",
      "source": [
        "%%sql\n",
        "SELECT (Interações / Seguidores) AS Engajamento\n",
        "FROM redes_sociais\n",
        "WHERE plataforma = 'Instagram'\n",
        "AND data_postagem BETWEEN '2024-01-01' AND '2024-03-31';"
      ],
      "metadata": {
        "id": "CDyse7qpc8bH"
      },
      "execution_count": null,
      "outputs": []
    },
    {
      "cell_type": "markdown",
      "source": [
        "# **Tempo Médio de Resposta (MTTR)**\n",
        "- Tempo Médio de Resposta (MTTR) é uma métrica que indica o tempo médio que leva para resolver problemas técnicos ou responder a solicitações dos clientes após eles serem identificados. É essencial para avaliar a eficiência de equipes de suporte e manutenção."
      ],
      "metadata": {
        "id": "RJNpsLoTmWB4"
      }
    },
    {
      "cell_type": "code",
      "source": [
        "%%sql\n",
        "SELECT AVG(TIMESTAMPDIFF(MINUTE, created_at, resolved_at)) AS tempo_medio_resolucao\n",
        "FROM tickets_suporte\n",
        "WHERE resolved_at IS NOT NULL AND data BETWEEN '2024-04-01' AND '2024-04-30';"
      ],
      "metadata": {
        "id": "rjoQ1xfHmjVQ"
      },
      "execution_count": null,
      "outputs": []
    },
    {
      "cell_type": "markdown",
      "source": [
        "# **Taxa de Retenção de Usuários**\n",
        "- A Taxa de Retenção de Clientes é uma métrica que mede a porcentagem de clientes que retornam para fazer pedidos novamente ou renovam suas assinaturas em um determinado período. Essencialmente, ela reflete o sucesso de uma empresa em manter seus clientes engajados e satisfeitos ao longo do tempo. Uma alta taxa de retenção é geralmente um indicador de boa saúde do cliente e da eficácia das estratégias de relacionamento e fidelização da empresa.\n",
        "\n",
        "📋 **Explicação da Query:**\n",
        "\n",
        "- pedidos_mensais é um CTE (Common Table Expression) que agrupa pedidos por usuário e mês/ano, para identificar em quais meses os usuários estiveram ativos.\n",
        "- clientes_retidos é outro CTE que junta os dados do mesmo usuário entre dois meses consecutivos, verificando se o cliente que fez um pedido em um mês também fez no seguinte.\n",
        "- A query final seleciona o ano e mês de início, conta o total de clientes únicos e quantos desses foram retidos no mês seguinte.\n",
        "- Calcula a taxa de retenção como a proporção de clientes retidos em relação ao total de clientes do mês anterior.\n",
        "\n",
        "Ajuste as colunas e a lógica conforme necessário para se alinhar com a estrutura e as necessidades específicas de seus dados."
      ],
      "metadata": {
        "id": "V9wt7GSqmeiQ"
      }
    },
    {
      "cell_type": "code",
      "source": [
        "%%sql\n",
        "-- Suponha que temos uma tabela chamada 'pedidos' com colunas 'id_usuario' e 'data_pedido'\n",
        "WITH pedidos_mensais AS (\n",
        "    SELECT\n",
        "        id_usuario,\n",
        "        EXTRACT(YEAR FROM data_pedido) AS ano,\n",
        "        EXTRACT(MONTH FROM data_pedido) AS mes\n",
        "    FROM\n",
        "        pedidos\n",
        "    GROUP BY\n",
        "        id_usuario, ano, mes\n",
        "),\n",
        "\n",
        "clientes_retidos AS (\n",
        "    SELECT\n",
        "        a.id_usuario,\n",
        "        a.ano AS ano_inicio,\n",
        "        a.mes AS mes_inicio,\n",
        "        b.ano AS ano_retido,\n",
        "        b.mes AS mes_retido\n",
        "    FROM\n",
        "        pedidos_mensais a\n",
        "    JOIN\n",
        "        pedidos_mensais b ON a.id_usuario = b.id_usuario\n",
        "    WHERE\n",
        "        (b.ano > a.ano OR (b.ano = a.ano AND b.mes = a.mes + 1))\n",
        ")\n",
        "\n",
        "SELECT\n",
        "    ano_inicio,\n",
        "    mes_inicio,\n",
        "    COUNT(DISTINCT id_usuario) AS total_clientes,\n",
        "    COUNT(DISTINCT id_usuario) FILTER (WHERE ano_retido IS NOT NULL AND mes_retido IS NOT NULL) AS clientes_retidos,\n",
        "    ROUND((COUNT(DISTINCT id_usuario) FILTER (WHERE ano_retido IS NOT NULL AND mes_retido IS NOT NULL) * 100.0) / COUNT(DISTINCT id_usuario), 2) AS taxa_retencao\n",
        "FROM\n",
        "    clientes_retidos\n",
        "GROUP BY\n",
        "    ano_inicio, mes_inicio\n",
        "ORDER BY\n",
        "    ano_inicio, mes_inicio;"
      ],
      "metadata": {
        "id": "6HZq93lgiByf"
      },
      "execution_count": null,
      "outputs": []
    },
    {
      "cell_type": "markdown",
      "source": [
        "# **Análise de Cohort**\n",
        "- Agrupa os clientes com base em características semelhantes para analisar seu comportamento ao longo do tempo."
      ],
      "metadata": {
        "id": "_acq98n6ijvA"
      }
    },
    {
      "cell_type": "code",
      "source": [
        "%%sql\n",
        "-- Em Desenvolvimento"
      ],
      "metadata": {
        "id": "cAqGV3K8iaLA"
      },
      "execution_count": null,
      "outputs": []
    },
    {
      "cell_type": "markdown",
      "source": [
        "# **Taxa de Churn**\n",
        "- Mede a proporção de clientes que cancelam ou não renovam seus serviços em um determinado período de tempo."
      ],
      "metadata": {
        "id": "6UqSQNpemoWY"
      }
    },
    {
      "cell_type": "code",
      "source": [
        "%%sql\n",
        "-- Em Desenvolvimento"
      ],
      "metadata": {
        "id": "c7pjgWzQmnyY"
      },
      "execution_count": null,
      "outputs": []
    }
  ]
}