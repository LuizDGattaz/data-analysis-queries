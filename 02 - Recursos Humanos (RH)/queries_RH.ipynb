{
  "nbformat": 4,
  "nbformat_minor": 0,
  "metadata": {
    "colab": {
      "provenance": []
    },
    "kernelspec": {
      "name": "python3",
      "display_name": "Python 3"
    },
    "language_info": {
      "name": "python"
    }
  },
  "cells": [
    {
      "cell_type": "markdown",
      "source": [
        "# 📊 Repositório de Consultas SQL para Analistas de Dados: **Departamento de Recursos Humanos (RH)**\n",
        "-  🔍 Contribuições: Estamos abertos a contribuições da comunidade de analistas de dados! Se você tiver consultas SQL úteis que gostaria de compartilhar ou sugestões para melhorias, sinta-se à vontade para enviar um pull request. Juntos, podemos expandir e aprimorar este repositório para beneficiar toda a comunidade de análise de dados.\n",
        "- 🎯 Sinta-se à vontade para explorar, utilizar e contribuir para este repositório, e que ele possa ser uma ferramenta valiosa em sua jornada como analista de dados!"
      ],
      "metadata": {
        "id": "vjqSg4TxgLfQ"
      }
    },
    {
      "cell_type": "markdown",
      "source": [
        "# **Taxa de Rotatividade (Turnover Rate)**\n",
        "- A Taxa de Rotatividade (Turnover Rate) é uma métrica usada para medir a frequência com que os empregados deixam uma organização durante um período determinado, geralmente um ano. É calculada dividindo o número de funcionários que saíram pelo número médio de funcionários no período, e geralmente é expressa em porcentagem. Essa taxa ajuda as empresas a entender a estabilidade do seu quadro de pessoal e a eficácia das suas políticas de retenção.\n",
        "- KPI: Turnover Rate = (Número de Desligamentos / Média de Funcionários) * 100"
      ],
      "metadata": {
        "id": "3bw9bLPzhpjX"
      }
    },
    {
      "cell_type": "code",
      "source": [
        "%%sql\n",
        "SELECT\n",
        "  (COUNT(DISTINCT employee_id) / AVG(total_employees)) * 100 AS turnover_rate\n",
        "FROM\n",
        "  employee_departures, total_employees\n",
        "WHERE\n",
        "  departure_date BETWEEN 'YYYY-MM-DD' AND 'YYYY-MM-DD';"
      ],
      "metadata": {
        "id": "4HoBi8AQtAXU"
      },
      "execution_count": null,
      "outputs": []
    },
    {
      "cell_type": "markdown",
      "source": [
        "# **Custo de Contratação (Cost Per Hire)**\n",
        "- O Custo de Contratação (Cost Per Hire) é uma métrica usada para calcular o total de despesas envolvidas no processo de contratação de um novo funcionário. Isso inclui custos diretos e indiretos, como anúncios de vagas, taxas de agências de recrutamento, tempo gasto pela equipe de RH, testes, entrevistas, treinamento inicial, e até a integração do novo empregado. Essa métrica ajuda as organizações a avaliar a eficiência e os custos associados aos seus processos de recrutamento e seleção.\n",
        "- KPI: Cost Per Hire = (Custo Total de Contratação / Número de Contratações)"
      ],
      "metadata": {
        "id": "O3LZqAr2iAc5"
      }
    },
    {
      "cell_type": "code",
      "source": [
        "%%sql\n",
        "SELECT\n",
        "  SUM(cost) / COUNT(DISTINCT hire_id) AS cost_per_hire\n",
        "FROM\n",
        "  hiring_costs\n",
        "WHERE\n",
        "  hire_date BETWEEN 'YYYY-MM-DD' AND 'YYYY-MM-DD';"
      ],
      "metadata": {
        "id": "6HZq93lgiByf"
      },
      "execution_count": null,
      "outputs": []
    },
    {
      "cell_type": "markdown",
      "source": [
        "# **Índice de Satisfação dos Funcionários (Employee Satisfaction Index)**\n",
        "- O Índice de Satisfação dos Funcionários (Employee Satisfaction Index) é uma métrica utilizada para avaliar o grau de contentamento e bem-estar dos empregados em uma organização. Esse índice é geralmente obtido por meio de pesquisas periódicas que abordam diversos aspectos do ambiente de trabalho, como condições físicas, relacionamentos interpessoais, remuneração, oportunidades de desenvolvimento, e equilíbrio entre vida pessoal e profissional. O resultado é expresso em uma pontuação ou percentual que reflete o nível geral de satisfação dos funcionários, sendo um indicador crucial para a gestão de recursos humanos no sentido de identificar áreas para melhorias e implementar estratégias de retenção.\n",
        "- SQL: Dependente da estrutura de dados de pesquisa.\n",
        "- Supondo que exista uma tabela employee_surveys com campos como employee_id, survey_date, satisfaction_score (onde a pontuação de satisfação é quantificada), a query SQL poderia ser:\n"
      ],
      "metadata": {
        "id": "wIsPj1FbiP0n"
      }
    },
    {
      "cell_type": "code",
      "source": [
        "%%sql\n",
        "SELECT\n",
        "  AVG(satisfaction_score) AS employee_satisfaction_index\n",
        "FROM\n",
        "  employee_surveys\n",
        "WHERE\n",
        "  survey_date BETWEEN 'YYYY-MM-DD' AND 'YYYY-MM-DD';"
      ],
      "metadata": {
        "id": "DKlVfweIiNIn"
      },
      "execution_count": null,
      "outputs": []
    },
    {
      "cell_type": "markdown",
      "source": [
        "# **Tempo Médio para Preencher Vagas (Time to Fill)**\n",
        "- O Tempo Médio para Preencher Vagas (Time to Fill) é uma métrica de RH que mede o número de dias que leva desde o momento em que uma vaga é anunciada até o dia em que um candidato aceita a oferta de emprego. Essa métrica ajuda a avaliar a eficiência dos processos de recrutamento e seleção de uma empresa, indicando quanto tempo a organização geralmente precisa para encontrar e contratar o candidato adequado para uma posição. É importante para planejar e garantir que as operações não sejam afetadas negativamente por vagas abertas por períodos prolongados.\n",
        "- KPI: Time to Fill = (Data de Preenchimento - Data de Abertura da Vaga)"
      ],
      "metadata": {
        "id": "HF1pe8ckiaiX"
      }
    },
    {
      "cell_type": "code",
      "source": [
        "%%sql\n",
        "SELECT\n",
        "  AVG(DATEDIFF(fill_date, open_date)) AS time_to_fill\n",
        "FROM\n",
        "  job_openings\n",
        "WHERE\n",
        "  fill_date BETWEEN 'YYYY-MM-DD' AND 'YYYY-MM-DD';"
      ],
      "metadata": {
        "id": "3uz9JBtgiZrB"
      },
      "execution_count": null,
      "outputs": []
    },
    {
      "cell_type": "markdown",
      "source": [
        "# **Índice de Absenteísmo (Absenteeism Rate)**\n",
        "- O Índice de Absenteísmo (Absenteeism Rate) é uma métrica usada para quantificar a frequência e a duração das ausências dos funcionários de seus postos de trabalho durante um período determinado. Ele é calculado dividindo o total de dias perdidos devido a faltas pelo número possível de dias de trabalho no mesmo período, normalmente expresso como uma porcentagem. Esse índice ajuda as organizações a identificar problemas relacionados ao bem-estar dos funcionários e a eficácia das políticas de saúde e de ambiente de trabalho.\n",
        "- KPI: Absenteeism Rate = (Dias Perdidos / Total de Dias Trabalháveis) * 100"
      ],
      "metadata": {
        "id": "_acq98n6ijvA"
      }
    },
    {
      "cell_type": "code",
      "source": [
        "%%sql\n",
        "SELECT\n",
        "  (SUM(absent_days) / SUM(working_days)) * 100 AS absenteeism_rate\n",
        "FROM\n",
        "  attendance_records\n",
        "WHERE\n",
        "  record_date BETWEEN 'YYYY-MM-DD' AND 'YYYY-MM-DD';"
      ],
      "metadata": {
        "id": "cAqGV3K8iaLA"
      },
      "execution_count": null,
      "outputs": []
    },
    {
      "cell_type": "markdown",
      "source": [
        "# **Índice de Gastos com Salários (Salary Expense Ratio)**\n",
        "- O Índice de Gastos com Salários (Salary Expense Ratio) é uma métrica financeira que mede a proporção dos gastos totais de uma empresa destinados a salários e benefícios dos funcionários. Ele é calculado dividindo o total de gastos com salários pelo total de receitas da empresa, e é geralmente expresso como uma porcentagem. Esse índice é importante para avaliar o impacto dos custos de mão de obra nas operações e na lucratividade da organização, ajudando a identificar se esses gastos estão em linha com os padrões do setor e com as metas financeiras da empresa.\n",
        "- KPI: Salary Expense Ratio = (Total de Gastos com Salários / Receita Total) * 100\n",
        "- A query SQL pressupõe que há tabelas payroll (folha de pagamento) e financials (dados financeiros) com um campo comum period (período), permitindo correlacionar gastos com receita."
      ],
      "metadata": {
        "id": "EBJSqEuzisYg"
      }
    },
    {
      "cell_type": "code",
      "source": [
        "%%sql\n",
        "SELECT\n",
        "  (SUM(salaries) / SUM(revenue)) * 100 AS salary_expense_ratio\n",
        "FROM\n",
        "  payroll, financials\n",
        "WHERE\n",
        "  payroll.period = financials.period;"
      ],
      "metadata": {
        "id": "VcqPJaS4ir_n"
      },
      "execution_count": null,
      "outputs": []
    },
    {
      "cell_type": "markdown",
      "source": [
        "# **Identificar os funcionários que estão prontos para serem promovidos**\n",
        "Em uma grande organização, os gerentes de RH geralmente enfrentam o desafio de identificar os funcionários que estão prontos para serem promovidos.\n",
        "Não se trata apenas de analisar a pontuação de desempenho mais recente.\n",
        "Trata-se de considerar toda a jornada do funcionário dentro da empresa. Os fatores podem incluir:\n",
        "- Alto desempenho consistente ao longo de vários anos.\n",
        "- Permanência na empresa (por exemplo, funcionários que estão na empresa há mais de 3 anos).\n",
        "- Conclusão de programas específicos de treinamento ou certificação.\n",
        "Abaixo está uma consulta SQL hipotética que poderia fornecer os insights de que você precisa. Ela identifica os funcionários que:\n",
        "- Estão na empresa desde pelo menos 2020.\n",
        "- Concluíram um \"Programa de Liderança Avançada\".\n",
        "- Mantiveram uma pontuação média de desempenho acima de 4,5 (em uma escala de 1 a 5) por vários anos.\n",
        "\n",
        "O resultado? Uma lista selecionada de funcionários, classificada por seu desempenho consistente, pronta para possíveis promoções internas."
      ],
      "metadata": {
        "id": "SGP8CC51i6QJ"
      }
    },
    {
      "cell_type": "code",
      "source": [
        "%%sql\n",
        "SELECT\n",
        "\te.employee_name,\n",
        "\te.department,\n",
        "\tAVG(r.performance_score) as avg_score,\n",
        "\te.join_date,\n",
        "\tt.training_completed\n",
        "FROM employees e\n",
        "\tJOIN annual_reviews r ON e.employee_id = r.employee_id\n",
        "\tJOIN training_programs t ON e.employee_id = t.employee_id\n",
        "WHERE e.join_date <= '2020-01-01'\n",
        "\tAND t.training_completed = 'Advanced Leadership Program'\n",
        "GROUP BY e.employee_name, e.department, e.join_date, t.training_completed\n",
        "HAVING AVG(r.performance_score) > 4.5\n",
        "ORDER BY avg_score DESC;"
      ],
      "metadata": {
        "id": "CAOIBmsYiryH"
      },
      "execution_count": null,
      "outputs": []
    },
    {
      "cell_type": "markdown",
      "source": [
        "# **Identificar quantidade de aniversarios de funcionários por mês**\n",
        "- Objetivo desta query seria preparação antecipada de celebrações."
      ],
      "metadata": {
        "id": "-_-7b3B_jC5w"
      }
    },
    {
      "cell_type": "code",
      "source": [
        "%%sql\n",
        "WITH cte_mes AS (\n",
        "  SELECT\n",
        "    employee_id,\n",
        "    EXTRACT(MONTH FROM birth_date) AS mes_nascimento\n",
        "  FROM employees\n",
        ")\n",
        "\n",
        "SELECT\n",
        "  mes_nascimento,\n",
        "  COUNT(CASE WHEN mes_nascimento = 1 THEN 1 END) AS Janeiro,\n",
        "  COUNT(CASE WHEN mes_nascimento = 2 THEN 1 END) AS Fevereiro,\n",
        "  COUNT(CASE WHEN mes_nascimento = 3 THEN 1 END) AS Marco,\n",
        "  COUNT(CASE WHEN mes_nascimento = 4 THEN 1 END) AS Abril,\n",
        "  COUNT(CASE WHEN mes_nascimento = 5 THEN 1 END) AS Maio,\n",
        "  COUNT(CASE WHEN mes_nascimento = 6 THEN 1 END) AS Junho,\n",
        "  COUNT(CASE WHEN mes_nascimento = 7 THEN 1 END) AS Julho,\n",
        "  COUNT(CASE WHEN mes_nascimento = 8 THEN 1 END) AS Agosto,\n",
        "  COUNT(CASE WHEN mes_nascimento = 9 THEN 1 END) AS Setembro,\n",
        "  COUNT(CASE WHEN mes_nascimento = 10 THEN 1 END) AS Outubro,\n",
        "  COUNT(CASE WHEN mes_nascimento = 11 THEN 1 END) AS Novembro,\n",
        "  COUNT(CASE WHEN mes_nascimento = 12 THEN 1 END) AS Dezembro\n",
        "FROM cte_mes\n",
        "GROUP BY mes_nascimento\n",
        "ORDER BY mes_nascimento"
      ],
      "metadata": {
        "id": "tcCqBY1Qirex"
      },
      "execution_count": null,
      "outputs": []
    }
  ]
}