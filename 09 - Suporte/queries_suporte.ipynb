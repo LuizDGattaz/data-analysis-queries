{
  "nbformat": 4,
  "nbformat_minor": 0,
  "metadata": {
    "colab": {
      "provenance": []
    },
    "kernelspec": {
      "name": "python3",
      "display_name": "Python 3"
    },
    "language_info": {
      "name": "python"
    }
  },
  "cells": [
    {
      "cell_type": "markdown",
      "source": [
        "# 📊 Repositório de Consultas SQL para Analistas de Dados: **Departamento Suporte**\n",
        "- Os KPIs aqui exibidos são essenciais para monitorar a eficácia e eficiência do suporte, além de ajudar na tomada de decisões para melhorar continuamente o serviço oferecido aos usuários.\n",
        "-  🔍 Contribuições: Estamos abertos a contribuições da comunidade de analistas de dados! Se você tiver consultas SQL úteis que gostaria de compartilhar ou sugestões para melhorias, sinta-se à vontade para enviar um pull request. Juntos, podemos expandir e aprimorar este repositório para beneficiar toda a comunidade de análise de dados.\n",
        "- 🎯 Sinta-se à vontade para explorar, utilizar e contribuir para este repositório, e que ele possa ser uma ferramenta valiosa em sua jornada como analista de dados!"
      ],
      "metadata": {
        "id": "vjqSg4TxgLfQ"
      }
    },
    {
      "cell_type": "markdown",
      "source": [
        "# 📌 **Tempo Médio de Resolução**\n",
        "- O \"Tempo Médio de Resolução\" é uma métrica de desempenho usada para avaliar a eficiência dos serviços de suporte ao cliente, medindo o tempo médio que leva para resolver um ticket desde sua abertura até sua conclusão. Essa métrica ajuda a entender a rapidez e a eficácia com que uma equipe de suporte pode diagnosticar e solucionar problemas ou questões apresentadas pelos clientes. Um tempo médio de resolução menor geralmente indica um serviço de suporte mais eficiente, resultando em maior satisfação do cliente e melhor experiência geral do usuário.\n",
        "\n",
        "```sql\n",
        "SELECT AVG(TIMESTAMPDIFF(MINUTE, created_at, resolved_at)) AS tempo_medio_resolucao\n",
        "FROM tickets_suporte\n",
        "WHERE resolved_at IS NOT NULL AND data BETWEEN '2024-04-01' AND '2024-04-30';\n",
        "```\n"
      ],
      "metadata": {
        "id": "wIsPj1FbiP0n"
      }
    },
    {
      "cell_type": "markdown",
      "source": [
        "# 📌 **Tempo Médio de Resposta (TMR)**\n",
        "- O \"Tempo Médio de Resposta\" (TMR) é uma métrica crucial nos serviços de suporte ao cliente que mede o tempo médio decorrido desde a criação de um ticket até o momento em que o suporte fornece uma primeira resposta ao cliente. Esta métrica é fundamental para avaliar a rapidez e a eficiência da equipe de suporte em reconhecer e iniciar a gestão de questões ou problemas dos clientes. Um TMR baixo é geralmente indicativo de um serviço ágil, o que pode significar uma melhor satisfação do cliente, pois uma resposta rápida muitas vezes é percebida como um indicativo de um serviço atencioso e eficiente.\n",
        "\n",
        "```sql\n",
        "SELECT AVG(TIMESTAMPDIFF(MINUTE, created_at, first_response_at)) AS tempo_medio_resposta\n",
        "FROM tickets_suporte\n",
        "WHERE data BETWEEN '2024-04-01' AND '2024-04-30';\n",
        "```"
      ],
      "metadata": {
        "id": "SGP8CC51i6QJ"
      }
    },
    {
      "cell_type": "markdown",
      "source": [
        "# 📌 **Taxa de Satisfação do Cliente (CSAT)**\n",
        "- A \"Taxa de Satisfação do Cliente\" (CSAT) é uma métrica chave que mede a porcentagem de clientes que classificaram a qualidade do serviço ou produto como 'Bom' ou 'Excelente'. Normalmente, é obtida através de pesquisas de satisfação enviadas aos clientes após interações ou transações específicas. Essa taxa é um indicador direto da percepção do cliente sobre a empresa e é essencial para avaliar o desempenho do serviço ao cliente, a qualidade do produto, e a eficácia geral das estratégias de atendimento. Um alto CSAT sugere que os clientes estão satisfeitos com a empresa, o que pode levar a maior lealdade do cliente e a recomendações positivas.\n",
        "\n",
        "```sql\n",
        "SELECT (COUNT(*) FILTER (WHERE satisfaction IN ('Bom', 'Excelente')) * 100.0 / COUNT(*)) AS taxa_satisfacao\n",
        "FROM avaliacoes_suporte\n",
        "WHERE data_avaliacao BETWEEN '2024-04-01' AND '2024-04-30';\n",
        "```"
      ],
      "metadata": {
        "id": "3aAAMcnZdRvI"
      }
    },
    {
      "cell_type": "markdown",
      "source": [
        "# 📌 **Índice de satisfação do cliente (NPS - Net Promoter Score)**\n",
        "- **NPS (Net Promoter Score)** é uma métrica de lealdade do cliente que avalia a probabilidade de um cliente recomendar uma empresa, produto ou serviço a outras pessoas. Os clientes são classificados em três categorias com base em suas respostas a uma pergunta simples: \"Em uma escala de 0 a 10, quão provável é que você recomende nossa empresa/produto/serviço a um amigo ou colega?\":\n",
        "\n",
        "- **Promotores (Clientes que dão uma pontuação de 9 ou 10)**: Clientes altamente satisfeitos e leais que provavelmente recomendarão a empresa.\n",
        "- **Neutros (Clientes que dão uma pontuação de 7 ou 8)**: Clientes satisfeitos, mas não entusiasmados; são vulneráveis à concorrência.\n",
        "- **Detratores (Clientes que dão uma pontuação de 0 a 6)**: Clientes insatisfeitos que podem prejudicar a reputação da empresa através de críticas negativas.\n",
        "\n",
        "O NPS é calculado como a porcentagem de promotores menos a porcentagem de detratores.\n",
        "\n",
        "### Importância do NPS:\n",
        "\n",
        "- **Indicador de Lealdade**: Ajuda a medir a fidelidade do cliente e prever o crescimento a longo prazo.\n",
        "- **Identificação de Problemas**: Destaca áreas onde a experiência do cliente pode ser melhorada, proporcionando feedback acionável.\n",
        "- **Benchmarking**: Permite comparar o desempenho com concorrentes e padrões da indústria.\n",
        "- **Foco no Cliente**: Orienta estratégias para aumentar a satisfação e lealdade, promovendo uma cultura centrada no cliente.\n",
        "\n",
        "Para departamentos como Marketing, Suporte (Atendimento ao Cliente), e Produto, o NPS é essencial para entender e melhorar a experiência do cliente, aumentando a retenção e impulsionando o crescimento do negócio.\n",
        "\n",
        "Vamos imaginar que temos uma tabela chamada `customer_feedback` com as seguintes colunas:\n",
        "\n",
        "- `feedback_id`: ID do feedback.\n",
        "- `customer_id`: ID do cliente.\n",
        "- `order_id`: ID do pedido.\n",
        "- `nps_score`: Pontuação NPS (valor de 0 a 10).\n",
        "- `feedback_date`: Data do feedback.\n",
        "\n",
        "\n",
        "\n",
        "Aqui está uma query SQL para calcular o NPS para um determinado período:\n",
        "\n",
        "```sql\n",
        "SELECT\n",
        "    DATE_TRUNC('month', feedback_date) AS month,\n",
        "    (SUM(CASE WHEN nps_score >= 9 THEN 1 ELSE 0 END) * 100.0 / COUNT(DISTINCT order_id)) -\n",
        "    (SUM(CASE WHEN nps_score <= 6 THEN 1 ELSE 0 END) * 100.0 / COUNT(DISTINCT order_id)) AS nps_score,\n",
        "    COUNT(DISTINCT order_id) AS total_orders\n",
        "FROM\n",
        "    customer_feedback\n",
        "WHERE\n",
        "    feedback_date BETWEEN '2024-01-01' AND '2024-12-31'\n",
        "GROUP BY\n",
        "    DATE_TRUNC('month', feedback_date)\n",
        "ORDER BY\n",
        "    month;\n",
        "```"
      ],
      "metadata": {
        "id": "A637pTFts62O"
      }
    },
    {
      "cell_type": "markdown",
      "source": [
        "# 📌 **Índice de esforço do cliente (CES - Customer Effort Score)**\n",
        "- **CES (Customer Effort Score)** é uma métrica utilizada para avaliar o nível de esforço que um cliente precisa fazer para interagir com uma empresa, seja para resolver um problema, obter uma informação ou completar uma transação. Os clientes são solicitados a avaliar, geralmente em uma escala de 1 a 5 ou 1 a 7, o quão fácil foi a sua experiência.\n",
        "\n",
        "### Importância do CES:\n",
        "\n",
        "1. **Previsão de Lealdade do Cliente**:\n",
        "   - *Menor Esforço, Maior Lealdade*: Clientes que encontram menos dificuldades em suas interações tendem a ser mais leais e a continuar usando os serviços da empresa. É o que mostra uma pesquisa de 2010 da Harvard Business Review chamada “Stop Trying to Delight Your Costumers”. O resultado da pesquisa apontou que quanto mais esforço um cliente precisa fazer para se relacionar com a sua empresa, menor a chance dele ser fiel a ela. Por que a fidelidade dos clientes é tão importante? Existem muitas respostas para essa pergunta. Uma delas é que é de *5 a 25 vezes mais caro adquirir um novo cliente do que manter um cliente atual*.\n",
        "\n",
        "2. **Identificação de Problemas Operacionais**:\n",
        "   - *Áreas de Melhoria*: Um alto CES pode indicar processos ineficientes ou complicados que precisam ser simplificados. Isso ajuda a empresa a identificar onde os clientes estão enfrentando dificuldades.\n",
        "\n",
        "3. **Redução de Custos**:\n",
        "   - *Menos Chamadas de Suporte*: Clientes que têm uma experiência fácil provavelmente precisarão de menos suporte, reduzindo os custos associados ao atendimento ao cliente.\n",
        "\n",
        "4. **Aumento da Satisfação do Cliente**:\n",
        "   - *Experiência Positiva*: Um menor esforço resulta em uma experiência mais positiva, aumentando a satisfação geral do cliente.\n",
        "\n",
        "5. **Vantagem Competitiva**:\n",
        "   - *Diferenciação*: Empresas que proporcionam interações fáceis e sem fricções se destacam perante a concorrência, atraindo e retendo mais clientes.\n",
        "\n",
        "### Aplicação do CES em Departamentos:\n",
        "\n",
        "- **Atendimento ao Cliente**: Avaliar e melhorar a eficiência dos processos de suporte, garantindo que os clientes obtenham respostas rápidas e resoluções eficazes.\n",
        "- **Suporte Técnico**: Medir a facilidade com que os clientes resolvem problemas técnicos, ajudando a identificar áreas onde o suporte técnico pode ser aprimorado.\n",
        "- **Produto e Desenvolvimento**: Informar decisões sobre o design e a usabilidade de produtos, garantindo que os novos desenvolvimentos sejam intuitivos e fáceis de usar.\n",
        "- **Marketing e Vendas**: Utilizar feedbacks para ajustar a comunicação e o treinamento das equipes, assegurando que os clientes tenham uma experiência de compra sem complicações.\n",
        "\n",
        "Em resumo, o CES é uma ferramenta valiosa para qualquer departamento que tenha interação direta com clientes, ajudando a garantir que essas interações sejam o mais simples e eficazes possível.\n",
        "\n",
        "Vamos imaginar uma situação onde os clientes de uma empresa de delivery avaliam o esforço necessário para resolver um problema ou completar uma tarefa. Suponhamos que temos uma tabela chamada `customer_feedback` com as seguintes colunas:\n",
        "\n",
        "- `feedback_id`: ID do feedback.\n",
        "- `customer_id`: ID do cliente.\n",
        "- `order_id`: ID do pedido.\n",
        "- `effort_score`: Pontuação do esforço (valor de 1 a 5, onde 1 é pouco esforço e 5 é muito esforço).\n",
        "- `feedback_date`: Data do feedback.\n",
        "\n",
        "A query a seguir calcula o CES médio (Customer Effort Score) para um determinado período:\n",
        "\n",
        "```sql\n",
        "SELECT\n",
        "    AVG(effort_score) AS average_ces,\n",
        "    COUNT(*) AS total_responses,\n",
        "    DATE_TRUNC('month', feedback_date) AS month\n",
        "FROM\n",
        "    customer_feedback\n",
        "WHERE\n",
        "    feedback_date BETWEEN '2024-01-01' AND '2024-12-31'\n",
        "GROUP BY\n",
        "    DATE_TRUNC('month', feedback_date)\n",
        "ORDER BY\n",
        "    month;\n",
        "```\n",
        "\n",
        "Explicação:\n",
        "- `AVG(effort_score) AS average_ces`: Calcula a média da pontuação de esforço.\n",
        "- `COUNT(*) AS total_responses`: Conta o número total de respostas para o período.\n",
        "- `DATE_TRUNC('month', feedback_date) AS month`: Agrupa os resultados por mês.\n",
        "- `WHERE feedback_date BETWEEN '2024-01-01' AND '2024-12-31'`: Filtra os feedbacks dentro do ano de 2024.\n",
        "- `GROUP BY DATE_TRUNC('month', feedback_date)`: Agrupa os dados por mês.\n",
        "- `ORDER BY month`: Ordena os resultados por mês.\n",
        "\n",
        "Esta query fornecerá o CES médio por mês ao longo do ano, ajudando a empresa de delivery a monitorar as tendências de esforço dos clientes ao longo do tempo."
      ],
      "metadata": {
        "id": "bsV_VOeip4Vu"
      }
    },
    {
      "cell_type": "markdown",
      "source": [
        "# 📌 **Primeira Taxa de Resolução de Contato (FCR)**\n",
        "- A \"Primeira Taxa de Resolução de Contato\" (FCR) é uma métrica de desempenho no atendimento ao cliente que mede o percentual de tickets ou problemas resolvidos na primeira interação com o cliente, sem a necessidade de seguimento ou intervenções adicionais. Esta métrica é crucial para avaliar a eficiência e a eficácia do serviço de suporte, indicando a capacidade da equipe em resolver questões rapidamente e na primeira tentativa. Uma alta FCR geralmente resulta em maior satisfação do cliente e eficiência operacional, pois reduz a carga de trabalho do suporte ao minimizar o número de interações necessárias para resolver um problema.\n",
        "\n",
        "```sql\n",
        "SELECT (COUNT(*) FILTER (WHERE resolvido_primeiro_contato = TRUE) * 100.0 / COUNT(*)) AS fcr\n",
        "FROM tickets_suporte\n",
        "WHERE data BETWEEN '2024-04-01' AND '2024-04-30';\n",
        "```"
      ],
      "metadata": {
        "id": "HF1pe8ckiaiX"
      }
    },
    {
      "cell_type": "markdown",
      "source": [
        "# 📌 **Taxa de Reabertura de Tickets**\n",
        "- A \"Taxa de Reabertura de Tickets\" é uma métrica utilizada no suporte ao cliente para medir o percentual de tickets que foram reabertos após serem inicialmente marcados como resolvidos. Esta taxa é importante para avaliar a eficácia da resolução de problemas na primeira tentativa e a qualidade do suporte oferecido. Um valor alto nesta taxa pode indicar que os problemas não estão sendo completamente resolvidos na primeira interação, levando a insatisfações do cliente e ineficiências operacionais, pois requer trabalho adicional e recursos para tratar repetidamente os mesmos problemas. Reduzir a taxa de reabertura é crucial para melhorar a satisfação do cliente e a eficiência do serviço de suporte.\n",
        "\n",
        "```sql\n",
        "SELECT (COUNT(*) FILTER (WHERE reaberto = TRUE) * 100.0 / COUNT(*)) AS taxa_reabertura\n",
        "FROM tickets_suporte\n",
        "WHERE data BETWEEN '2024-04-01' AND '2024-04-30';\n",
        "```\n"
      ],
      "metadata": {
        "id": "z15IBIpRdAJH"
      }
    },
    {
      "cell_type": "markdown",
      "source": [
        "# 📌 **Volume de Tickets**\n",
        "- O \"Volume de Tickets\" é uma métrica usada para quantificar o número total de tickets ou solicitações de suporte recebidos por um serviço de atendimento ao cliente ou suporte técnico durante um período específico. Essa métrica é essencial para avaliar a carga de trabalho da equipe de suporte, planejar recursos necessários e entender os padrões de demanda dos clientes. Um aumento no volume de tickets pode indicar problemas mais amplos com um produto ou serviço, enquanto uma diminuição pode sugerir melhorias ou reduções sazonais na demanda de suporte.\n",
        "\n",
        "```sql\n",
        "SELECT data, COUNT(*) AS volume_tickets\n",
        "FROM tickets_suporte\n",
        "GROUP BY data\n",
        "ORDER BY data;\n",
        "```"
      ],
      "metadata": {
        "id": "_acq98n6ijvA"
      }
    },
    {
      "cell_type": "markdown",
      "source": [
        "# 📌 **Percentual de Tickets Escalados**\n",
        "- O \"Percentual de Tickets Escalados\" é uma métrica que mede a proporção de tickets de suporte que precisam ser encaminhados para equipes especializadas ou de nível superior dentro de uma organização de suporte ao cliente. Esta métrica é importante para avaliar a complexidade dos problemas recebidos e a eficiência do primeiro nível de suporte. Um alto percentual de escalonamentos pode indicar que os problemas são complexos ou que o suporte de primeiro nível pode precisar de mais treinamento ou recursos para resolver questões sem escalonamento, enquanto um percentual mais baixo sugere que a maioria dos problemas está sendo resolvida rapidamente e eficientemente no primeiro contato.\n",
        "\n",
        "```sql\n",
        "SELECT (COUNT(*) FILTER (WHERE escalado = TRUE) * 100.0 / COUNT(*)) AS percentual_escalados\n",
        "FROM tickets_suporte\n",
        "WHERE data BETWEEN '2024-04-01' AND '2024-04-30';\n",
        "```"
      ],
      "metadata": {
        "id": "3bw9bLPzhpjX"
      }
    },
    {
      "cell_type": "markdown",
      "source": [
        "# 📌 **Eficiência do Suporte**\n",
        "- A \"Eficiência do Suporte\" é uma métrica que avalia a capacidade da equipe de suporte ao cliente de resolver tickets dentro de um período de tempo específico, em comparação com o número total de tickets recebidos. Essa métrica fornece uma visão sobre quão rápido e eficazmente os problemas dos clientes estão sendo solucionados. Uma alta eficiência no suporte indica que a equipe está conseguindo gerenciar e resolver os tickets de maneira eficiente, maximizando a satisfação do cliente e minimizando atrasos. Essa avaliação é crucial para manter a qualidade do serviço de suporte e garantir que os clientes recebam assistência tempestiva e efetiva.\n",
        "\n",
        "```sql\n",
        "SELECT data, (COUNT(*) FILTER (WHERE resolvido = TRUE) * 100.0 / COUNT(*)) AS eficiencia_suporte\n",
        "FROM tickets_suporte\n",
        "GROUP BY data\n",
        "ORDER BY data;\n",
        "```"
      ],
      "metadata": {
        "id": "XZo_nq1gd9XI"
      }
    },
    {
      "cell_type": "markdown",
      "source": [
        "# 📌 **Média de Interações por Ticket**\n",
        "- A \"Média de Interações por Ticket\" é uma métrica que mede o número médio de interações — como mensagens, emails ou ligações — que ocorrem por ticket de suporte até que ele seja resolvido. Essa métrica ajuda a entender a complexidade e o esforço necessário para resolver os problemas dos clientes. Uma média alta de interações por ticket pode indicar que os problemas são complexos ou que o suporte inicial pode não estar efetivamente equipado para resolver questões rapidamente. Por outro lado, uma média baixa sugere que os tickets estão sendo resolvidos de forma eficiente, com menos trocas de comunicação, o que geralmente leva a uma melhor experiência do cliente.\n",
        "\n",
        "```sql\n",
        "SELECT AVG(numero_interacoes) AS media_interacoes\n",
        "FROM tickets_suporte\n",
        "WHERE data BETWEEN '2024-04-01' AND '2024-04-30';\n",
        "```"
      ],
      "metadata": {
        "id": "BgTet5uyeoHQ"
      }
    },
    {
      "cell_type": "markdown",
      "source": [
        "# 📌 **Tempo de Espera Médio**\n",
        "- O \"Tempo de Espera Médio\" é uma métrica que quantifica o tempo médio que os clientes esperam na fila antes de receberem suporte ou atendimento. Essa medida é fundamental para avaliar a eficiência do serviço de atendimento ao cliente, indicando quão rápido os clientes estão sendo atendidos após iniciarem uma solicitação de suporte. Um tempo de espera longo pode levar à insatisfação do cliente e afetar negativamente a percepção da qualidade do serviço, enquanto um tempo de espera curto geralmente reflete um atendimento ao cliente ágil e eficiente. Esta métrica é essencial para gerenciar a carga de trabalho de atendimento e otimizar os recursos para melhorar a experiência do cliente.\n",
        "\n",
        "```sql\n",
        "SELECT AVG(TIMESTAMPDIFF(MINUTE, created_at, first_contact_at)) AS tempo_espera_medio\n",
        "FROM tickets_suporte\n",
        "WHERE first_contact_at IS NOT NULL AND data BETWEEN '2024-04-01' AND '2024-04-30';\n",
        "```"
      ],
      "metadata": {
        "id": "WUsYVVP5e8jY"
      }
    }
  ]
}