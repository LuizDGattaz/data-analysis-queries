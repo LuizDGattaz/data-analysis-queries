{
  "nbformat": 4,
  "nbformat_minor": 0,
  "metadata": {
    "colab": {
      "provenance": []
    },
    "kernelspec": {
      "name": "python3",
      "display_name": "Python 3"
    },
    "language_info": {
      "name": "python"
    }
  },
  "cells": [
    {
      "cell_type": "markdown",
      "source": [
        "# 📊 Repositório de Consultas SQL para Analistas de Dados: **Departamento Logistica**\n",
        "-  🔍 Contribuições: Estamos abertos a contribuições da comunidade de analistas de dados! Se você tiver consultas SQL úteis que gostaria de compartilhar ou sugestões para melhorias, sinta-se à vontade para enviar um pull request. Juntos, podemos expandir e aprimorar este repositório para beneficiar toda a comunidade de análise de dados.\n",
        "- 🎯 Sinta-se à vontade para explorar, utilizar e contribuir para este repositório, e que ele possa ser uma ferramenta valiosa em sua jornada como analista de dados!"
      ],
      "metadata": {
        "id": "vjqSg4TxgLfQ"
      }
    },
    {
      "cell_type": "markdown",
      "source": [
        "# **Taxa de Entrega no Prazo**\n",
        "- A Taxa de Entrega no Prazo é uma métrica de desempenho logístico que mede a porcentagem de pedidos que são entregues aos clientes dentro do prazo estimado inicialmente. Esta taxa é crucial para avaliar a eficiência e a confiabilidade dos processos de entrega de uma empresa. Uma alta taxa de entrega no prazo indica um serviço de entrega eficaz, que cumpre com os compromissos de tempo acordados com os clientes, contribuindo para a satisfação do cliente e a reputação positiva da empresa."
      ],
      "metadata": {
        "id": "3bw9bLPzhpjX"
      }
    },
    {
      "cell_type": "code",
      "execution_count": null,
      "metadata": {
        "id": "BYekpx7Ef7pu"
      },
      "outputs": [],
      "source": [
        "%%sql\n",
        "SELECT COUNT(DISTINCT order_id) AS TotalPedidos,\n",
        "       SUM(CASE WHEN entrega_no_prazo = 1 THEN 1 ELSE 0 END) AS PedidosEntreguesNoPrazo,\n",
        "       (PedidosEntreguesNoPrazo / TotalPedidos) * 100 AS TaxaEntregaNoPrazo\n",
        "FROM Pedidos;"
      ]
    },
    {
      "cell_type": "markdown",
      "source": [
        "# **Eficiência de Logística**\n",
        "- A Eficiência de Logística é uma métrica que avalia o desempenho dos processos logísticos de uma empresa, focando especialmente no tempo médio necessário para preparar e entregar pedidos aos clientes. Essa métrica é fundamental para entender quão ágil e eficaz é a cadeia de suprimentos da empresa, desde o recebimento de um pedido até sua entrega final. Uma maior eficiência logística significa que a empresa é capaz de processar e entregar pedidos de maneira rápida e eficiente, aumentando a satisfação do cliente e otimizando os custos operacionais."
      ],
      "metadata": {
        "id": "O3LZqAr2iAc5"
      }
    },
    {
      "cell_type": "code",
      "source": [
        "%%sql\n",
        "SELECT AVG(tempo_preparo + tempo_entrega) AS TempoMedioLogistica\n",
        "FROM Pedidos;"
      ],
      "metadata": {
        "id": "6HZq93lgiByf"
      },
      "execution_count": null,
      "outputs": []
    },
    {
      "cell_type": "markdown",
      "source": [
        "# **Taxa de Pedidos Atrasados**\n",
        "- A Taxa de Pedidos Atrasados é uma métrica que indica a porcentagem de pedidos que não foram entregues dentro do prazo estimado originalmente. Esta taxa é essencial para avaliar a eficiência operacional de uma empresa no que diz respeito à gestão de tempo e logística de entrega. Um alto índice de pedidos atrasados pode sinalizar problemas na cadeia de suprimentos, na gestão de estoque, ou na execução de entregas, impactando negativamente a satisfação do cliente e a confiança na marca."
      ],
      "metadata": {
        "id": "SGP8CC51i6QJ"
      }
    },
    {
      "cell_type": "code",
      "source": [
        "%%sql\n",
        "SELECT (COUNT(DISTINCT order_id) / (SELECT COUNT(DISTINCT order_id) FROM Pedidos)) * 100 AS TaxaPedidosAtrasados\n",
        "FROM Pedidos\n",
        "WHERE entrega_no_prazo = 0;"
      ],
      "metadata": {
        "id": "CAOIBmsYiryH"
      },
      "execution_count": null,
      "outputs": []
    },
    {
      "cell_type": "markdown",
      "source": [
        "# **Utilização de Recursos**\n",
        "- A Utilização de Recursos é uma métrica que mede o percentual de uso efetivo dos recursos disponíveis, como motos, bicicletas, veículos de entrega, etc., em relação à sua capacidade total disponível. Esta métrica é crucial para avaliar a eficiência operacional e otimização da gestão de ativos de uma empresa. Uma alta taxa de utilização indica que os recursos estão sendo empregados de maneira eficaz, maximizando o retorno sobre os investimentos e minimizando o tempo de inatividade, o que contribui para a redução de custos e melhoria no serviço de entrega."
      ],
      "metadata": {
        "id": "wIsPj1FbiP0n"
      }
    },
    {
      "cell_type": "code",
      "source": [
        "%%sql\n",
        "SELECT recurso_entrega,\n",
        "       COUNT(DISTINCT order_id) AS TotalPedidos,\n",
        "       (COUNT(DISTINCT order_id) / (SELECT COUNT(DISTINCT order_id) FROM Pedidos)) * 100 AS UtilizacaoRecursos\n",
        "FROM Pedidos\n",
        "GROUP BY recurso_entrega;"
      ],
      "metadata": {
        "id": "DKlVfweIiNIn"
      },
      "execution_count": null,
      "outputs": []
    },
    {
      "cell_type": "markdown",
      "source": [
        "# **Taxa de Devoluções**\n",
        "- A Taxa de Devoluções é uma métrica que indica a porcentagem de pedidos que foram devolvidos pelos clientes após a compra. Essa taxa é importante para avaliar a satisfação do cliente e a qualidade dos produtos ou serviços oferecidos. Uma alta taxa de devoluções pode sinalizar problemas como produtos defeituosos, expectativas do cliente não atendidas ou falhas no processo de entrega, impactando negativamente a reputação e os custos operacionais da empresa."
      ],
      "metadata": {
        "id": "HF1pe8ckiaiX"
      }
    },
    {
      "cell_type": "code",
      "source": [
        "%%sql\n",
        "SELECT (COUNT(DISTINCT order_id) / (SELECT COUNT(DISTINCT order_id) FROM Pedidos)) * 100 AS TaxaDevolucoes\n",
        "FROM Pedidos\n",
        "WHERE status_pedido = 'Devolvido';"
      ],
      "metadata": {
        "id": "3uz9JBtgiZrB"
      },
      "execution_count": null,
      "outputs": []
    },
    {
      "cell_type": "markdown",
      "source": [
        "# **Custo de Logística por Pedido**\n",
        "- O Custo de Logística por Pedido é uma métrica que calcula o custo médio associado à logística de entrega de cada pedido. Inclui despesas como transporte, armazenamento, manuseio de materiais, e salários dos funcionários envolvidos no processo de entrega. Essa métrica ajuda as empresas a entender o impacto financeiro da logística sobre as operações e a identificar áreas onde podem ser feitas melhorias para reduzir custos e aumentar a eficiência operacional, mantendo ou melhorando a qualidade do serviço de entrega."
      ],
      "metadata": {
        "id": "_acq98n6ijvA"
      }
    },
    {
      "cell_type": "code",
      "source": [
        "%%sql\n",
        "SELECT AVG(custo_logistica) AS CustoLogisticaPorPedido\n",
        "FROM Pedidos;"
      ],
      "metadata": {
        "id": "cAqGV3K8iaLA"
      },
      "execution_count": null,
      "outputs": []
    }
  ]
}