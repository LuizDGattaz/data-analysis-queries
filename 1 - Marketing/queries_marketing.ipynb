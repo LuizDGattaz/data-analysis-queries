{
  "nbformat": 4,
  "nbformat_minor": 0,
  "metadata": {
    "colab": {
      "provenance": []
    },
    "kernelspec": {
      "name": "python3",
      "display_name": "Python 3"
    },
    "language_info": {
      "name": "python"
    }
  },
  "cells": [
    {
      "cell_type": "markdown",
      "source": [
        "# 📊 Repositório de Consultas SQL para Analistas de Dados: **Departamento de Marketing**\n",
        "-  🔍 Contribuições: Estamos abertos a contribuições da comunidade de analistas de dados! Se você tiver consultas SQL úteis que gostaria de compartilhar ou sugestões para melhorias, sinta-se à vontade para enviar um pull request. Juntos, podemos expandir e aprimorar este repositório para beneficiar toda a comunidade de análise de dados.\n",
        "- 🎯 Sinta-se à vontade para explorar, utilizar e contribuir para este repositório, e que ele possa ser uma ferramenta valiosa em sua jornada como analista de dados!"
      ],
      "metadata": {
        "id": "vjqSg4TxgLfQ"
      }
    },
    {
      "cell_type": "markdown",
      "source": [
        "# **Custo por Clique (CPC) de Campanhas**\n",
        "- Calcula o custo médio que a empresa paga por cada clique em uma determinada campanha de marketing."
      ],
      "metadata": {
        "id": "3bw9bLPzhpjX"
      }
    },
    {
      "cell_type": "code",
      "execution_count": null,
      "metadata": {
        "id": "BYekpx7Ef7pu"
      },
      "outputs": [],
      "source": [
        "%%sql\n",
        "SELECT (Valor_Gasto_em_Marketing / Cliques) AS CPC\n",
        "FROM campanhas_table\n",
        "WHERE campanha = 'Nome_da_Campanha';"
      ]
    },
    {
      "cell_type": "markdown",
      "source": [
        "# **Custo de Aquisição do Cliente (CAC)**\n",
        "- Calcula o custo médio para adquirir um novo cliente através de uma campanha de marketing."
      ],
      "metadata": {
        "id": "O3LZqAr2iAc5"
      }
    },
    {
      "cell_type": "code",
      "source": [
        "%%sql\n",
        "SELECT (Valor_Gasto_em_Marketing / Novos_Clientes_Adquiridos) AS CAC\n",
        "FROM campanhas_table\n",
        "WHERE campanha = 'Nome_da_Campanha';"
      ],
      "metadata": {
        "id": "6HZq93lgiByf"
      },
      "execution_count": null,
      "outputs": []
    },
    {
      "cell_type": "markdown",
      "source": [
        "# **Retorno sobre o investimento em marketing (ROI)**\n",
        "- Calcula o retorno financeiro gerado por uma campanha de marketing em relação ao investimento feito."
      ],
      "metadata": {
        "id": "wIsPj1FbiP0n"
      }
    },
    {
      "cell_type": "code",
      "source": [
        "%%sql\n",
        "SELECT ((Receita_Gerada - Valor_Gasto_em_Marketing) / Valor_Gasto_em_Marketing) AS ROI\n",
        "FROM campanhas_table\n",
        "WHERE campanha = 'Nome_da_Campanha';"
      ],
      "metadata": {
        "id": "DKlVfweIiNIn"
      },
      "execution_count": null,
      "outputs": []
    },
    {
      "cell_type": "markdown",
      "source": [
        "# **Taxa de Cliques (CTR)**\n",
        "- Mede a proporção de cliques em relação ao número de impressões de anúncios."
      ],
      "metadata": {
        "id": "HF1pe8ckiaiX"
      }
    },
    {
      "cell_type": "code",
      "source": [
        "%%sql\n",
        "SELECT (Cliques / Impressões) AS CTR\n",
        "FROM campanhas_table\n",
        "WHERE campanha = 'Nome_da_Campanha';"
      ],
      "metadata": {
        "id": "3uz9JBtgiZrB"
      },
      "execution_count": null,
      "outputs": []
    },
    {
      "cell_type": "markdown",
      "source": [
        "# **Conversão**\n",
        "- Calcula a taxa de conversão de cliques em pedidos."
      ],
      "metadata": {
        "id": "_acq98n6ijvA"
      }
    },
    {
      "cell_type": "code",
      "source": [
        "%%sql\n",
        "SELECT (Pedidos / Cliques) AS Conversão\n",
        "FROM campanhas_table\n",
        "WHERE campanha = 'Nome_da_Campanha';"
      ],
      "metadata": {
        "id": "cAqGV3K8iaLA"
      },
      "execution_count": null,
      "outputs": []
    },
    {
      "cell_type": "markdown",
      "source": [
        "# **Taxa de Conversão de Cliques em Pedidos (CCR)**\n",
        "- Métrica para medir a eficácia das campanhas de marketing em gerar pedidos."
      ],
      "metadata": {
        "id": "EBJSqEuzisYg"
      }
    },
    {
      "cell_type": "code",
      "source": [
        "%%sql\n",
        "SELECT (COUNT(DISTINCT pedidos) / COUNT(DISTINCT cliques)) AS CCR\n",
        "FROM cliques_table\n",
        "WHERE campanha = 'Nome_da_Campanha';"
      ],
      "metadata": {
        "id": "VcqPJaS4ir_n"
      },
      "execution_count": null,
      "outputs": []
    },
    {
      "cell_type": "markdown",
      "source": [
        "# **Taxa de Retenção de Clientes**\n",
        "- Indica a porcentagem de clientes que retornam para fazer pedidos novamente."
      ],
      "metadata": {
        "id": "SGP8CC51i6QJ"
      }
    },
    {
      "cell_type": "code",
      "source": [
        "%%sql\n",
        "SELECT (COUNT(DISTINCT clientes_retornados) / COUNT(DISTINCT todos_os_clientes)) AS Retenção_Clientes\n",
        "FROM pedidos_table\n",
        "WHERE data BETWEEN '2024-01-01' AND '2024-03-31';"
      ],
      "metadata": {
        "id": "CAOIBmsYiryH"
      },
      "execution_count": null,
      "outputs": []
    },
    {
      "cell_type": "markdown",
      "source": [
        "# **Custo por Aquisição (CPA)**\n",
        "- Quanto custa para adquirir um novo cliente através de uma campanha de marketing."
      ],
      "metadata": {
        "id": "-_-7b3B_jC5w"
      }
    },
    {
      "cell_type": "code",
      "source": [
        "%%sql\n",
        "SELECT (Valor_Gasto_em_Marketing / Novos_Clientes_Adquiridos) AS CPA\n",
        "FROM campanhas_table\n",
        "WHERE data = '2024-03-01';"
      ],
      "metadata": {
        "id": "tcCqBY1Qirex"
      },
      "execution_count": null,
      "outputs": []
    },
    {
      "cell_type": "markdown",
      "source": [
        "# **Lifetime Value (LTV) do Cliente**\n",
        "- Valor total esperado que um cliente gasta durante seu relacionamento com a marca."
      ],
      "metadata": {
        "id": "yial7NNvjK8B"
      }
    },
    {
      "cell_type": "code",
      "source": [
        "%%sql\n",
        "SELECT AVG(valor_total_pedidos) AS LTV\n",
        "FROM pedidos_table\n",
        "WHERE data BETWEEN '2023-01-01' AND '2024-01-01';"
      ],
      "metadata": {
        "id": "DjQbFwAxjKjo"
      },
      "execution_count": null,
      "outputs": []
    },
    {
      "cell_type": "markdown",
      "source": [
        "#**Taxa de Engajamento nas Redes Sociais**\n",
        "- Mede a interação dos usuários com o conteúdo da empresa nas redes sociais."
      ],
      "metadata": {
        "id": "1TlPGV_HjV-P"
      }
    },
    {
      "cell_type": "code",
      "source": [
        "%%sql\n",
        "SELECT (Interações / Seguidores) AS Engajamento\n",
        "FROM redes_sociais\n",
        "WHERE plataforma = 'Instagram'\n",
        "AND data_postagem BETWEEN '2024-01-01' AND '2024-03-31';"
      ],
      "metadata": {
        "id": "x2nnAPMDjKdp"
      },
      "execution_count": null,
      "outputs": []
    },
    {
      "cell_type": "markdown",
      "source": [
        "# **Vendas totais por campanha (GMV)**\n",
        "- Calcula o valor total das vendas gerado por uma campanha de marketing."
      ],
      "metadata": {
        "id": "oyODPstUjexH"
      }
    },
    {
      "cell_type": "code",
      "source": [
        "%%sql\n",
        "SELECT campanha, SUM(valor_total_pedidos) AS GMV\n",
        "FROM pedidos_table\n",
        "WHERE campanha = 'Nome_da_Campanha'\n",
        "GROUP BY campanha;"
      ],
      "metadata": {
        "id": "cZYzNRtHjKWY"
      },
      "execution_count": null,
      "outputs": []
    },
    {
      "cell_type": "markdown",
      "source": [
        "# **Número de pedidos**\n",
        "- Conta o número total de pedidos realizados."
      ],
      "metadata": {
        "id": "lRji6-AojnBH"
      }
    },
    {
      "cell_type": "code",
      "source": [
        "%%sql\n",
        "SELECT campanha, COUNT(DISTINCT order_id) AS Num_Pedidos\n",
        "FROM pedidos_table\n",
        "WHERE campanha = 'Nome_da_Campanha'\n",
        "GROUP BY campanha;"
      ],
      "metadata": {
        "id": "fvDbvdzNjaV_"
      },
      "execution_count": null,
      "outputs": []
    },
    {
      "cell_type": "markdown",
      "source": [
        "# **Número de Clientes por Campanha**\n",
        "- Conta o número de clientes distintos que fizeram pedidos durante uma campanha."
      ],
      "metadata": {
        "id": "o1huqklYjuSA"
      }
    },
    {
      "cell_type": "code",
      "source": [
        "%%sql\n",
        "SELECT COUNT(DISTINCT cliente_id) AS Num_Clientes\n",
        "FROM pedidos_table\n",
        "WHERE campanha = 'Nome_da_Campanha';"
      ],
      "metadata": {
        "id": "HF4AqJtPjaN3"
      },
      "execution_count": null,
      "outputs": []
    },
    {
      "cell_type": "markdown",
      "source": [
        "# **Vendas por segmentação de parte do dia**\n",
        "- Calcula as vendas por segmento de horário do dia (Manhã, Meio-dia, Anoitecer/Final da Tarde, Noite, De manhã cedo)."
      ],
      "metadata": {
        "id": "4DZrbNrzj5bA"
      }
    },
    {
      "cell_type": "code",
      "source": [
        "%%sql\n",
        "SELECT\n",
        "    CASE\n",
        "        WHEN hora > 4 AND hora <= 8 THEN 'Early Morning'\n",
        "        WHEN hora > 8 AND hora <= 12 THEN 'Morning'\n",
        "        WHEN hora > 12 AND hora <= 16 THEN 'Afternoon'\n",
        "        WHEN hora > 16 AND hora <= 20 THEN 'Evening'\n",
        "        WHEN hora > 20 AND hora <= 24 THEN 'Night'\n",
        "        WHEN hora <= 4 THEN 'Late Night'\n",
        "    END AS part_of_day,\n",
        "    COUNT(DISTINCT order_id) AS Num_Pedidos\n",
        "FROM pedidos_table\n",
        "WHERE campanha = 'Nome_da_Campanha'\n",
        "AND data_pedido BETWEEN '2024-01-01' AND '2024-03-31'\n",
        "GROUP BY part_of_day;"
      ],
      "metadata": {
        "id": "JUlEnDnAjaF_"
      },
      "execution_count": null,
      "outputs": []
    },
    {
      "cell_type": "markdown",
      "source": [
        "# **Usuários que não tem compra em dezembro de 2022**"
      ],
      "metadata": {
        "id": "pfTIfRCwkBZ_"
      }
    },
    {
      "cell_type": "code",
      "source": [
        "%%sql\n",
        "select distinct\n",
        "  u.id\n",
        "from bigquery-public-data.thelook_ecommerce.users u\n",
        "left join bigquery-public-data.thelook_ecommerce.orders o on u.id = o.user_id and date(o.created_at) between \"2022-12-01\" and \"2022-12-31\"\n",
        "where o.user_id is null;"
      ],
      "metadata": {
        "id": "F0iftl9cj3kv"
      },
      "execution_count": null,
      "outputs": []
    },
    {
      "cell_type": "markdown",
      "source": [
        "# **Ticket Médio de Pedidos**\n",
        "- Mede o valor médio gasto por pedido, indicando o poder de compra dos clientes e o desempenho das vendas.\n",
        "- Marketing pode selecionar usuários com uma certa faixa especifica para uma campanha especifica."
      ],
      "metadata": {
        "id": "eNvphrbckN4u"
      }
    },
    {
      "cell_type": "code",
      "source": [
        "%%sql\n",
        "SELECT\n",
        "  user_id,\n",
        "  AVG(receita) AS ticket_medio\n",
        "FROM (\n",
        "  SELECT\n",
        "    order_id,\n",
        "    user_id,\n",
        "    ROUND(SUM(sale_price), 2) AS receita\n",
        "  FROM `bigquery-public-data.thelook_ecommerce.order_items`\n",
        "  WHERE status = 'Complete'\n",
        "  GROUP BY 1, 2\n",
        ")\n",
        "GROUP BY 1\n",
        "ORDER BY 2 DESC"
      ],
      "metadata": {
        "id": "fcGzHvcaj3d_"
      },
      "execution_count": null,
      "outputs": []
    },
    {
      "cell_type": "markdown",
      "source": [
        "# **Tempo em dias da data de cadastro até a última compra de cada usuário**\n",
        "- O time de marketing pode fazer uma ação/campanha focado nestes maiores usuários."
      ],
      "metadata": {
        "id": "GejpV_xTkd73"
      }
    },
    {
      "cell_type": "code",
      "source": [
        "%%sql\n",
        "SELECT\n",
        "  u.id,\n",
        "  MAX(timestamp_diff(o.created_at, u.created_at, DAY)) AS dias_ate_ultima_compra\n",
        "FROM bigquery-public-data.thelook_ecommerce.orders o\n",
        "JOIN bigquery-public-data.thelook_ecommerce.users u ON u.id = o.user_id\n",
        "GROUP BY 1\n",
        "ORDER BY 2 DESC;"
      ],
      "metadata": {
        "id": "AUa8NhK8j3Zh"
      },
      "execution_count": null,
      "outputs": []
    },
    {
      "cell_type": "markdown",
      "source": [
        "# **Tempo em dias entre a primeira e a última compra de cada usuário.**\n",
        "- O time de marketing pode fazer uma ação/campanha focado nestes maiores usuários."
      ],
      "metadata": {
        "id": "4T0N_Zw-kpWf"
      }
    },
    {
      "cell_type": "code",
      "source": [
        "%%sql\n",
        "SELECT\n",
        "  user_id,\n",
        "  timestamp_diff(MAX(created_at), MIN(created_at), DAY) AS dias_entre_prim_ult\n",
        "FROM bigquery-public-data.thelook_ecommerce.orders\n",
        "GROUP BY 1\n",
        "ORDER BY 2 DESC;"
      ],
      "metadata": {
        "id": "wSdTd9cekpH5"
      },
      "execution_count": null,
      "outputs": []
    },
    {
      "cell_type": "markdown",
      "source": [
        "# **Forma de retornar os usuários com compras recorrentes dentro do mesmo mês (mais de 1 compra).**\n",
        "- O time de marketing pode fazer uma campanha focada em usuarios mais fiéis aumentando a previsibilidade do resultado."
      ],
      "metadata": {
        "id": "tbFwE-Wyk3nw"
      }
    },
    {
      "cell_type": "code",
      "source": [
        "%%sql\n",
        "SELECT DISTINCT user_id\n",
        "FROM (\n",
        "  SELECT\n",
        "    user_id,\n",
        "    order_id,\n",
        "    created_at,\n",
        "    ROW_NUMBER() OVER (\n",
        "      PARTITION BY user_id, EXTRACT(YEAR FROM created_at), EXTRACT(MONTH FROM created_at)\n",
        "      ORDER BY created_at\n",
        "    ) AS numero_compra\n",
        "  FROM bigquery-public-data.thelook_ecommerce.orders\n",
        ") AS T\n",
        "WHERE numero_compra > 1\n",
        "ORDER BY user_id;"
      ],
      "metadata": {
        "id": "D3l5-YjakpC5"
      },
      "execution_count": null,
      "outputs": []
    },
    {
      "cell_type": "markdown",
      "source": [
        "## **Análise RFM - Segmentação de Clientes:**\n",
        "A análise RFM é uma técnica de marketing usada para quantificar o valor de um cliente com base em três aspectos específicos do seu comportamento de compra. RFM significa:\n",
        "\n",
        "- Recência (R): Há quanto tempo o cliente fez a última compra. Clientes que compraram recentemente são mais propensos a comprar novamente em comparação com aqueles que não compram há muito tempo.\n",
        "- Frequência (F): Com que frequência o cliente compra dentro de um determinado período. Clientes que compram com frequência são considerados mais engajados e valiosos.\n",
        "- Monetário (M): O valor monetário total gasto pelo cliente. Clientes que gastam mais são vistos como mais valiosos.\n",
        "\n",
        "A combinação desses três indicadores ajuda as empresas a identificar quais clientes são mais valiosos e a personalizar as estratégias de marketing para diferentes segmentos de clientes, de acordo com suas características de compra.\n",
        "Por exemplo, um cliente que fez uma compra recentemente, compra com frequência e gasta muito é idealmente o mais valioso para a empresa e provavelmente será o foco de campanhas de marketing intensivas.\n",
        "\n",
        "**Aqui está um exemplo de query SQL que calcula os scores de Recência, Frequência e Monetário para cada cliente:**"
      ],
      "metadata": {
        "id": "o7SkDO_dlJi3"
      }
    },
    {
      "cell_type": "code",
      "source": [
        "%%sql\n",
        "WITH Recency AS (\n",
        "    SELECT\n",
        "        customer_id,\n",
        "        MAX(order_date) AS last_purchase\n",
        "    FROM sales\n",
        "    GROUP BY customer_id\n",
        "),\n",
        "\n",
        "Frequency AS (\n",
        "    SELECT\n",
        "        customer_id,\n",
        "        COUNT(*) AS total_purchases\n",
        "    FROM sales\n",
        "    GROUP BY customer_id\n",
        "),\n",
        "\n",
        "Monetary AS (\n",
        "    SELECT\n",
        "        customer_id,\n",
        "        SUM(order_value) AS total_spent\n",
        "    FROM sales\n",
        "    GROUP BY customer_id\n",
        ")\n",
        "\n",
        "SELECT\n",
        "    R.customer_id,\n",
        "    R.last_purchase AS recency,\n",
        "    F.total_purchases AS frequency,\n",
        "    M.total_spent AS monetary\n",
        "FROM Recency R\n",
        "JOIN Frequency F ON R.customer_id = F.customer_id\n",
        "JOIN Monetary M ON R.customer_id = M.customer_id;"
      ],
      "metadata": {
        "id": "S4MDwtMxko-Y"
      },
      "execution_count": null,
      "outputs": []
    },
    {
      "cell_type": "markdown",
      "source": [
        "### **Explicação:**\n",
        "\n",
        "1. Recency: A CTE (Common Table Expression) `Recency` calcula a data mais recente de compra para cada cliente.\n",
        "2. Frequency: A CTE `Frequency` conta o número total de compras feitas por cada cliente.\n",
        "3. Monetary: A CTE `Monetary` soma o valor total gasto por cada cliente.\n",
        "4. Join Final: Essas três CTEs são então combinadas para fornecer um único resultado com `customer_id`, recência (data da última compra), frequência (total de compras) e monetário (total gasto).\n",
        "\n",
        "Esse SQL te dá uma tabela básica de RFM que você pode usar para segmentar seus clientes e desenvolver estratégias de marketing personalizadas com base em seus comportamentos de compra.\n",
        "\n",
        "A partir da tabela básica de RFM que criamos anteriormente, podemos segmentar os clientes com base em critérios definidos para Recência, Frequência e Monetário. Aqui está uma abordagem simples para categorizar cada um dos aspectos em três níveis: Alto, Médio e Baixo.\n",
        "\n",
        "Vamos supor que você tenha calculado ou definido alguns limites para cada categoria com base em sua distribuição de dados ou necessidades de negócios. Por exemplo:\n",
        "\n",
        "- Recência: Menos dias desde a última compra = mais recente = melhor\n",
        "  - Alto: até 30 dias\n",
        "  - Médio: 31 a 90 dias\n",
        "  - Baixo: mais de 90 dias\n",
        "\n",
        "- Frequência: Mais compras = melhor\n",
        "  - Alto: 10 ou mais compras\n",
        "  - Médio: 4 a 9 compras\n",
        "  - Baixo: menos de 4 compras\n",
        "\n",
        "- Monetário: Mais gasto = melhor\n",
        "  - Alto: mais de R\\$500\n",
        "  - Médio: R\\$200 a R\\$500\n",
        "  - Baixo: menos de R\\$200\n",
        "\n",
        "Aqui está uma query SQL que utiliza esses critérios para segmentar os clientes:\n",
        "\n",
        "### **Explicação:**\n",
        "- Recency_Score, Frequency_Score, Monetary_Score: Calcula a pontuação de Recência, Frequência e Monetário para cada cliente.\n",
        "- RFM_Class: Concatena as pontuações de Recência, Frequência e Monetário para criar uma classificação RFM combinada, que pode ser usada para identificar segmentos de clientes de alto valor, médio e baixo.\n",
        "\n",
        "Essa segmentação ajuda você a entender melhor seus clientes e a otimizar suas estratégias de marketing e comunicação com base no comportamento de compra dos clientes.\n",
        "Ela permite desenvolver estratégias de marketing personalizadas para cada segmento, como oferecer promoções específicas para aumentar a frequência de compras dos clientes esporádicos ou manter o engajamento dos clientes mais valiosos."
      ],
      "metadata": {
        "id": "BEjNCeZjlfJI"
      }
    },
    {
      "cell_type": "code",
      "source": [
        "%%sql\n",
        "WITH RFM AS (\n",
        "    SELECT\n",
        "        customer_id,\n",
        "        MAX(order_date) AS last_purchase,\n",
        "        COUNT(*) AS total_purchases,\n",
        "        SUM(order_value) AS total_spent\n",
        "    FROM sales\n",
        "    GROUP BY customer_id\n",
        "),\n",
        "\n",
        "RFM_Segmentation AS (\n",
        "    SELECT\n",
        "        customer_id,\n",
        "        last_purchase,\n",
        "        total_purchases,\n",
        "        total_spent,\n",
        "        -- Recency Score\n",
        "        CASE\n",
        "            WHEN last_purchase >= CURRENT_DATE - INTERVAL '30' DAY THEN 'Alto'\n",
        "            WHEN last_purchase < CURRENT_DATE - INTERVAL '30' DAY AND last_purchase >= CURRENT_DATE - INTERVAL '90' DAY THEN 'Médio'\n",
        "            ELSE 'Baixo'\n",
        "        END AS Recency_Score,\n",
        "        -- Frequency Score\n",
        "        CASE\n",
        "            WHEN total_purchases >= 10 THEN 'Alto'\n",
        "            WHEN total_purchases >= 4 AND total_purchases < 10 THEN 'Médio'\n",
        "            ELSE 'Baixo'\n",
        "        END AS Frequency_Score,\n",
        "        -- Monetary Score\n",
        "        CASE\n",
        "            WHEN total_spent > 500 THEN 'Alto'\n",
        "            WHEN total_spent BETWEEN 200 AND 500 THEN 'Médio'\n",
        "            ELSE 'Baixo'\n",
        "        END AS Monetary_Score\n",
        "    FROM RFM\n",
        ")\n",
        "\n",
        "SELECT\n",
        "    *,\n",
        "    Recency_Score,\n",
        "    Frequency_Score,\n",
        "    Monetary_Score,\n",
        "    -- Overall RFM Score\n",
        "    CONCAT(Recency_Score, Frequency_Score, Monetary_Score) AS RFM_Class\n",
        "FROM RFM_Segmentation;"
      ],
      "metadata": {
        "id": "2lUSiiK-ko5B"
      },
      "execution_count": null,
      "outputs": []
    }
  ]
}