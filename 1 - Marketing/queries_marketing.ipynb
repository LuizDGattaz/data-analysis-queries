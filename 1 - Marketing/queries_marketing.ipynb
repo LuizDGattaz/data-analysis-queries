{
  "nbformat": 4,
  "nbformat_minor": 0,
  "metadata": {
    "colab": {
      "provenance": []
    },
    "kernelspec": {
      "name": "python3",
      "display_name": "Python 3"
    },
    "language_info": {
      "name": "python"
    }
  },
  "cells": [
    {
      "cell_type": "markdown",
      "source": [
        "# 📊 Repositório de Consultas SQL para Analistas de Dados: **Departamento de Marketing**\n",
        "-  🔍 Contribuições: Estamos abertos a contribuições da comunidade de analistas de dados! Se você tiver consultas SQL úteis que gostaria de compartilhar ou sugestões para melhorias, sinta-se à vontade para enviar um pull request. Juntos, podemos expandir e aprimorar este repositório para beneficiar toda a comunidade de análise de dados.\n",
        "- 🎯 Sinta-se à vontade para explorar, utilizar e contribuir para este repositório, e que ele possa ser uma ferramenta valiosa em sua jornada como analista de dados!"
      ],
      "metadata": {
        "id": "vjqSg4TxgLfQ"
      }
    },
    {
      "cell_type": "markdown",
      "source": [
        "# **Custo por Clique (CPC) de Campanhas**\n",
        "- O Custo por Clique (CPC) é uma métrica usada em campanhas de publicidade digital para medir quanto custa cada clique recebido em um anúncio. Ele é calculado dividindo o custo total da campanha pelo número total de cliques que o anúncio recebeu. Essa métrica é fundamental para avaliar a eficiência e o custo-benefício de campanhas pagas, especialmente em plataformas como Google Ads e redes sociais."
      ],
      "metadata": {
        "id": "3bw9bLPzhpjX"
      }
    },
    {
      "cell_type": "code",
      "execution_count": null,
      "metadata": {
        "id": "BYekpx7Ef7pu"
      },
      "outputs": [],
      "source": [
        "%sql\n",
        "SELECT (Valor_Gasto_em_Marketing / Cliques) AS CPC\n",
        "FROM campanhas_table\n",
        "WHERE campanha = 'Nome_da_Campanha';"
      ]
    },
    {
      "cell_type": "markdown",
      "source": [
        "# **Custo de Aquisição do Cliente (CAC)**\n",
        "- O Custo de Aquisição do Cliente (CAC) é uma métrica que calcula o custo total incorrido para adquirir um novo cliente. Isso inclui todos os gastos de marketing e vendas divididos pelo número de clientes adquiridos em um determinado período. O CAC é essencial para avaliar a eficácia das estratégias de marketing e vendas de uma empresa e para garantir que o investimento em aquisição de clientes seja sustentável a longo prazo."
      ],
      "metadata": {
        "id": "O3LZqAr2iAc5"
      }
    },
    {
      "cell_type": "code",
      "source": [
        "%%sql\n",
        "SELECT (Valor_Gasto_em_Marketing / Novos_Clientes_Adquiridos) AS CAC\n",
        "FROM campanhas_table\n",
        "WHERE campanha = 'Nome_da_Campanha';"
      ],
      "metadata": {
        "id": "6HZq93lgiByf"
      },
      "execution_count": null,
      "outputs": []
    },
    {
      "cell_type": "markdown",
      "source": [
        "# **Retorno sobre o investimento em marketing (ROI)**\n",
        "- O Retorno sobre o Investimento em Marketing (ROI) é uma métrica usada para avaliar a eficácia e a rentabilidade das despesas em marketing. Ele é calculado pela diferença entre o ganho obtido com as campanhas de marketing e o custo dessas campanhas, dividido pelo custo, geralmente expresso em porcentagem. Esse índice ajuda as empresas a entender quais estratégias de marketing estão gerando mais valor e quais podem precisar de ajustes ou serem descontinuadas."
      ],
      "metadata": {
        "id": "wIsPj1FbiP0n"
      }
    },
    {
      "cell_type": "code",
      "source": [
        "%%sql\n",
        "SELECT ((Receita_Gerada - Valor_Gasto_em_Marketing) / Valor_Gasto_em_Marketing) AS ROI\n",
        "FROM campanhas_table\n",
        "WHERE campanha = 'Nome_da_Campanha';"
      ],
      "metadata": {
        "id": "DKlVfweIiNIn"
      },
      "execution_count": null,
      "outputs": []
    },
    {
      "cell_type": "markdown",
      "source": [
        "# **Taxa de Cliques (CTR)**\n",
        "- A Taxa de Cliques (CTR, do inglês \"Click-Through Rate\") é uma métrica que mede a eficácia de um anúncio ou campanha digital, calculando a proporção de usuários que clicam em um anúncio em relação ao número total de visualizações (impressões) que o anúncio recebe. É expressa em porcentagem e indica quão atraente e relevante o anúncio é para o público-alvo. Um CTR alto geralmente sugere que o anúncio está bem otimizado e é eficaz em atrair a atenção dos usuários."
      ],
      "metadata": {
        "id": "HF1pe8ckiaiX"
      }
    },
    {
      "cell_type": "code",
      "source": [
        "%%sql\n",
        "SELECT (Cliques / Impressões) AS CTR\n",
        "FROM campanhas_table\n",
        "WHERE campanha = 'Nome_da_Campanha';"
      ],
      "metadata": {
        "id": "3uz9JBtgiZrB"
      },
      "execution_count": null,
      "outputs": []
    },
    {
      "cell_type": "markdown",
      "source": [
        "# **Conversão**\n",
        "- A taxa de conversão é uma métrica crucial em marketing e vendas que mede o percentual de usuários que completam uma ação desejada (como fazer uma compra, se inscrever para um serviço, ou preencher um formulário) em relação ao total de visitantes. Essa taxa é essencial para avaliar a eficiência de campanhas, páginas de destino ou anúncios em converter visitantes em clientes ou leads. Uma alta taxa de conversão indica que as estratégias implementadas estão sendo eficazes em motivar os usuários a realizar ações específicas."
      ],
      "metadata": {
        "id": "_acq98n6ijvA"
      }
    },
    {
      "cell_type": "code",
      "source": [
        "%%sql\n",
        "SELECT (Pedidos / Cliques) AS Conversão\n",
        "FROM campanhas_table\n",
        "WHERE campanha = 'Nome_da_Campanha';"
      ],
      "metadata": {
        "id": "cAqGV3K8iaLA"
      },
      "execution_count": null,
      "outputs": []
    },
    {
      "cell_type": "markdown",
      "source": [
        "# **Taxa de Conversão de Cliques em Pedidos (CCR)**\n",
        "- A Taxa de Conversão de Cliques em Pedidos (CCR, de \"Click-to-Conversion Rate\") é uma métrica que mede a eficiência com que os cliques em anúncios ou links se convertem em ações concretas, como pedidos de compra ou subscrições. Ela é calculada dividindo o número de conversões (pedidos) pelo número total de cliques. Essa taxa ajuda a entender o quão bem uma campanha digital está performando em termos de gerar resultados efetivos, além de simplesmente atrair cliques.\n",
        "\n",
        "\n",
        "\n",
        "\n",
        "\n"
      ],
      "metadata": {
        "id": "EBJSqEuzisYg"
      }
    },
    {
      "cell_type": "code",
      "source": [
        "%%sql\n",
        "SELECT (COUNT(DISTINCT pedidos) / COUNT(DISTINCT cliques)) AS CCR\n",
        "FROM cliques_table\n",
        "WHERE campanha = 'Nome_da_Campanha';"
      ],
      "metadata": {
        "id": "VcqPJaS4ir_n"
      },
      "execution_count": null,
      "outputs": []
    },
    {
      "cell_type": "markdown",
      "source": [
        "# **Taxa de Retenção de Clientes**\n",
        "- A Taxa de Retenção de Clientes é uma métrica que mede a porcentagem de clientes que retornam para fazer pedidos novamente ou renovam suas assinaturas em um determinado período. Essencialmente, ela reflete o sucesso de uma empresa em manter seus clientes engajados e satisfeitos ao longo do tempo. Uma alta taxa de retenção é geralmente um indicador de boa saúde do cliente e da eficácia das estratégias de relacionamento e fidelização da empresa.\n",
        "\n",
        "📋 **Explicação da Query:**\n",
        "\n",
        "- pedidos_mensais é um CTE (Common Table Expression) que agrupa pedidos por usuário e mês/ano, para identificar em quais meses os usuários estiveram ativos.\n",
        "- clientes_retidos é outro CTE que junta os dados do mesmo usuário entre dois meses consecutivos, verificando se o cliente que fez um pedido em um mês também fez no seguinte.\n",
        "- A query final seleciona o ano e mês de início, conta o total de clientes únicos e quantos desses foram retidos no mês seguinte.\n",
        "- Calcula a taxa de retenção como a proporção de clientes retidos em relação ao total de clientes do mês anterior.\n",
        "\n",
        "Ajuste as colunas e a lógica conforme necessário para se alinhar com a estrutura e as necessidades específicas de seus dados."
      ],
      "metadata": {
        "id": "SGP8CC51i6QJ"
      }
    },
    {
      "cell_type": "code",
      "source": [
        "%%sql\n",
        "%%sql\n",
        "-- Suponha que temos uma tabela chamada 'pedidos' com colunas 'id_usuario' e 'data_pedido'\n",
        "WITH pedidos_mensais AS (\n",
        "    SELECT\n",
        "        id_usuario,\n",
        "        EXTRACT(YEAR FROM data_pedido) AS ano,\n",
        "        EXTRACT(MONTH FROM data_pedido) AS mes\n",
        "    FROM\n",
        "        pedidos\n",
        "    GROUP BY\n",
        "        id_usuario, ano, mes\n",
        "),\n",
        "\n",
        "clientes_retidos AS (\n",
        "    SELECT\n",
        "        a.id_usuario,\n",
        "        a.ano AS ano_inicio,\n",
        "        a.mes AS mes_inicio,\n",
        "        b.ano AS ano_retido,\n",
        "        b.mes AS mes_retido\n",
        "    FROM\n",
        "        pedidos_mensais a\n",
        "    JOIN\n",
        "        pedidos_mensais b ON a.id_usuario = b.id_usuario\n",
        "    WHERE\n",
        "        (b.ano > a.ano OR (b.ano = a.ano AND b.mes = a.mes + 1))\n",
        ")\n",
        "\n",
        "SELECT\n",
        "    ano_inicio,\n",
        "    mes_inicio,\n",
        "    COUNT(DISTINCT id_usuario) AS total_clientes,\n",
        "    COUNT(DISTINCT id_usuario) FILTER (WHERE ano_retido IS NOT NULL AND mes_retido IS NOT NULL) AS clientes_retidos,\n",
        "    ROUND((COUNT(DISTINCT id_usuario) FILTER (WHERE ano_retido IS NOT NULL AND mes_retido IS NOT NULL) * 100.0) / COUNT(DISTINCT id_usuario), 2) AS taxa_retencao\n",
        "FROM\n",
        "    clientes_retidos\n",
        "GROUP BY\n",
        "    ano_inicio, mes_inicio\n",
        "ORDER BY\n",
        "    ano_inicio, mes_inicio;"
      ],
      "metadata": {
        "id": "CAOIBmsYiryH"
      },
      "execution_count": null,
      "outputs": []
    },
    {
      "cell_type": "markdown",
      "source": [
        "# **Custo por Aquisição (CPA)**\n",
        "- O Custo por Aquisição (CPA) é uma métrica financeira que mede o custo total associado à aquisição de um novo cliente através de esforços de marketing e vendas. Ele é calculado dividindo todos os custos de campanhas de marketing e vendas pelo número de novos clientes adquiridos durante um determinado período. O CPA é crucial para avaliar a eficiência e rentabilidade das estratégias de marketing, ajudando as empresas a entender quanto estão investindo para ganhar cada cliente."
      ],
      "metadata": {
        "id": "-_-7b3B_jC5w"
      }
    },
    {
      "cell_type": "code",
      "source": [
        "%%sql\n",
        "SELECT (Valor_Gasto_em_Marketing / Novos_Clientes_Adquiridos) AS CPA\n",
        "FROM campanhas_table\n",
        "WHERE data = '2024-03-01';"
      ],
      "metadata": {
        "id": "tcCqBY1Qirex"
      },
      "execution_count": null,
      "outputs": []
    },
    {
      "cell_type": "markdown",
      "source": [
        "# **Lifetime Value (LTV) do Cliente**\n",
        "- O Lifetime Value (LTV) do Cliente é uma métrica financeira que estima o valor total de receita que uma empresa pode esperar de um único cliente ao longo de toda a sua relação com a empresa. O LTV ajuda a entender quanto um cliente vale em termos de receita e é crucial para tomar decisões sobre quanto investir em aquisição e retenção de clientes. Ele permite que as empresas avaliem a lucratividade a longo prazo de suas relações com os clientes e ajustem suas estratégias de marketing e vendas para otimizar esse valor."
      ],
      "metadata": {
        "id": "yial7NNvjK8B"
      }
    },
    {
      "cell_type": "code",
      "source": [
        "%%sql\n",
        "SELECT AVG(valor_total_pedidos) AS LTV\n",
        "FROM pedidos_table\n",
        "WHERE data BETWEEN '2023-01-01' AND '2024-01-01';"
      ],
      "metadata": {
        "id": "DjQbFwAxjKjo"
      },
      "execution_count": null,
      "outputs": []
    },
    {
      "cell_type": "markdown",
      "source": [
        "#**Taxa de Engajamento nas Redes Sociais**\n",
        "- A Taxa de Engajamento nas Redes Sociais é uma métrica que mede a interação dos usuários com o conteúdo publicado em plataformas de mídia social. Ela é calculada com base no número de interações ativas que o conteúdo recebe, como curtidas, comentários, compartilhamentos e visualizações, dividido pelo número total de seguidores ou alcance do post. Essa taxa é um indicador importante da relevância e do impacto do conteúdo, mostrando o quanto ele é capaz de envolver e atrair a atenção dos usuários."
      ],
      "metadata": {
        "id": "1TlPGV_HjV-P"
      }
    },
    {
      "cell_type": "code",
      "source": [
        "%%sql\n",
        "SELECT (Interações / Seguidores) AS Engajamento\n",
        "FROM redes_sociais\n",
        "WHERE plataforma = 'Instagram'\n",
        "AND data_postagem BETWEEN '2024-01-01' AND '2024-03-31';"
      ],
      "metadata": {
        "id": "x2nnAPMDjKdp"
      },
      "execution_count": null,
      "outputs": []
    },
    {
      "cell_type": "markdown",
      "source": [
        "# **Vendas totais por campanha (GMV)**\n",
        "- O GMV (Gross Merchandise Volume) refere-se ao volume total de vendas gerado por uma campanha ou plataforma durante um período específico, medido pelo valor total de bens vendidos. Essa métrica é frequentemente usada no comércio eletrônico para avaliar o desempenho de campanhas de marketing ou da plataforma como um todo, indicando o valor monetário total das transações realizadas, antes da dedução de quaisquer descontos, devoluções ou custos associados."
      ],
      "metadata": {
        "id": "oyODPstUjexH"
      }
    },
    {
      "cell_type": "code",
      "source": [
        "%%sql\n",
        "SELECT campanha, SUM(valor_total_pedidos) AS GMV\n",
        "FROM pedidos_table\n",
        "WHERE campanha = 'Nome_da_Campanha'\n",
        "GROUP BY campanha;"
      ],
      "metadata": {
        "id": "cZYzNRtHjKWY"
      },
      "execution_count": null,
      "outputs": []
    },
    {
      "cell_type": "markdown",
      "source": [
        "# **Número de pedidos**\n",
        "- O Número de Pedidos é uma métrica que conta o total de transações ou pedidos concluídos pelos clientes em um período específico. Essa métrica é essencial para negócios de e-commerce, restaurantes, ou qualquer serviço que processa vendas e pedidos, permitindo avaliar a quantidade de atividade comercial e a demanda pelos produtos ou serviços oferecidos pela empresa. É uma medida fundamental para análise de desempenho e planejamento operacional."
      ],
      "metadata": {
        "id": "lRji6-AojnBH"
      }
    },
    {
      "cell_type": "code",
      "source": [
        "%%sql\n",
        "SELECT campanha, COUNT(DISTINCT order_id) AS Num_Pedidos\n",
        "FROM pedidos_table\n",
        "WHERE campanha = 'Nome_da_Campanha'\n",
        "GROUP BY campanha;"
      ],
      "metadata": {
        "id": "fvDbvdzNjaV_"
      },
      "execution_count": null,
      "outputs": []
    },
    {
      "cell_type": "markdown",
      "source": [
        "# **Número de Clientes por Campanha**\n",
        "- O \"Número de Clientes por Campanha\" é uma métrica que indica quantos clientes distintos fizeram pedidos durante uma campanha promocional específica. Essa métrica é utilizada para avaliar o alcance e a eficácia de uma campanha em atrair clientes diferentes, ajudando a entender a capacidade da campanha de engajar novos ou retornar clientes e gerar vendas. É particularmente útil para medir a penetração de mercado e a resposta do cliente às iniciativas de marketing."
      ],
      "metadata": {
        "id": "o1huqklYjuSA"
      }
    },
    {
      "cell_type": "code",
      "source": [
        "%%sql\n",
        "SELECT COUNT(DISTINCT cliente_id) AS Num_Clientes\n",
        "FROM pedidos_table\n",
        "WHERE campanha = 'Nome_da_Campanha';"
      ],
      "metadata": {
        "id": "HF4AqJtPjaN3"
      },
      "execution_count": null,
      "outputs": []
    },
    {
      "cell_type": "markdown",
      "source": [
        "# **Vendas por segmentação de parte do dia**\n",
        "- \"Vendas por segmentação de parte do dia\" é uma métrica que divide e calcula as vendas de acordo com diferentes segmentos do dia, como Manhã, Meio-dia, Anoitecer/Final da Tarde, Noite e De manhã cedo. Essa análise ajuda a identificar quais períodos do dia são mais lucrativos ou têm maior atividade de vendas, permitindo às empresas otimizar suas operações, promoções e estratégias de marketing com base nos padrões de compra dos clientes durante esses horários específicos."
      ],
      "metadata": {
        "id": "4DZrbNrzj5bA"
      }
    },
    {
      "cell_type": "code",
      "source": [
        "%%sql\n",
        "SELECT\n",
        "    CASE\n",
        "        WHEN hora > 4 AND hora <= 8 THEN 'Early Morning'\n",
        "        WHEN hora > 8 AND hora <= 12 THEN 'Morning'\n",
        "        WHEN hora > 12 AND hora <= 16 THEN 'Afternoon'\n",
        "        WHEN hora > 16 AND hora <= 20 THEN 'Evening'\n",
        "        WHEN hora > 20 AND hora <= 24 THEN 'Night'\n",
        "        WHEN hora <= 4 THEN 'Late Night'\n",
        "    END AS part_of_day,\n",
        "    COUNT(DISTINCT order_id) AS Num_Pedidos\n",
        "FROM pedidos_table\n",
        "WHERE campanha = 'Nome_da_Campanha'\n",
        "AND data_pedido BETWEEN '2024-01-01' AND '2024-03-31'\n",
        "GROUP BY part_of_day;"
      ],
      "metadata": {
        "id": "JUlEnDnAjaF_"
      },
      "execution_count": null,
      "outputs": []
    },
    {
      "cell_type": "markdown",
      "source": [
        "# **Usuários que não tem compra em dezembro de 2022**\n",
        "- Usuários cujos IDs não aparecem em nenhum pedido neste período são selecionados, indicando que não fizeram compras durante esse mês. Esta consulta é útil para identificar clientes inativos ou menos engajados durante um período específico, permitindo estratégias direcionadas para reengajá-los."
      ],
      "metadata": {
        "id": "pfTIfRCwkBZ_"
      }
    },
    {
      "cell_type": "code",
      "source": [
        "%%sql\n",
        "select distinct\n",
        "  u.id\n",
        "from bigquery-public-data.thelook_ecommerce.users u\n",
        "left join bigquery-public-data.thelook_ecommerce.orders o on u.id = o.user_id and date(o.created_at) between \"2022-12-01\" and \"2022-12-31\"\n",
        "where o.user_id is null;"
      ],
      "metadata": {
        "id": "F0iftl9cj3kv"
      },
      "execution_count": null,
      "outputs": []
    },
    {
      "cell_type": "markdown",
      "source": [
        "# **Ticket Médio de Pedidos**\n",
        "- O Ticket Médio de Pedidos é uma métrica financeira que representa o valor médio gasto por cliente em cada compra. É calculado dividindo o total de receitas obtidas com vendas pelo número total de pedidos realizados em um determinado período. Essa métrica é útil para entender o comportamento de compra dos clientes, ajudando as empresas a avaliar a eficácia de suas estratégias de preços e promoções, e a planejar ações para aumentar o valor médio das compras.\n",
        "- Marketing pode selecionar usuários com uma certa faixa especifica para uma campanha especifica."
      ],
      "metadata": {
        "id": "eNvphrbckN4u"
      }
    },
    {
      "cell_type": "code",
      "source": [
        "%%sql\n",
        "SELECT\n",
        "  user_id,\n",
        "  AVG(receita) AS ticket_medio\n",
        "FROM (\n",
        "  SELECT\n",
        "    order_id,\n",
        "    user_id,\n",
        "    ROUND(SUM(sale_price), 2) AS receita\n",
        "  FROM `bigquery-public-data.thelook_ecommerce.order_items`\n",
        "  WHERE status = 'Complete'\n",
        "  GROUP BY 1, 2\n",
        ")\n",
        "GROUP BY 1\n",
        "ORDER BY 2 DESC"
      ],
      "metadata": {
        "id": "fcGzHvcaj3d_"
      },
      "execution_count": null,
      "outputs": []
    },
    {
      "cell_type": "markdown",
      "source": [
        "# **Tempo em dias da data de cadastro até a última compra de cada usuário**\n",
        "- \"Tempo em dias da data de cadastro até a última compra de cada usuário\" é uma métrica que calcula o intervalo de tempo entre a data em que um usuário se cadastrou em uma plataforma ou serviço e a data de sua última compra. Essa métrica ajuda a entender o engajamento e a lealdade do cliente ao longo do tempo. Ao identificar usuários que têm longos períodos de atividade ou grandes intervalos entre o cadastro e a última compra, o time de marketing pode direcionar ações ou campanhas para reengajar esses clientes ou recompensar a fidelidade dos que continuam ativos por longos períodos."
      ],
      "metadata": {
        "id": "GejpV_xTkd73"
      }
    },
    {
      "cell_type": "code",
      "source": [
        "%%sql\n",
        "SELECT\n",
        "  u.id,\n",
        "  MAX(timestamp_diff(o.created_at, u.created_at, DAY)) AS dias_ate_ultima_compra\n",
        "FROM bigquery-public-data.thelook_ecommerce.orders o\n",
        "JOIN bigquery-public-data.thelook_ecommerce.users u ON u.id = o.user_id\n",
        "GROUP BY 1\n",
        "ORDER BY 2 DESC;"
      ],
      "metadata": {
        "id": "AUa8NhK8j3Zh"
      },
      "execution_count": null,
      "outputs": []
    },
    {
      "cell_type": "markdown",
      "source": [
        "# **Tempo em dias entre a primeira e a última compra de cada usuário.**\n",
        "-\n",
        "\"Tempo em dias entre a primeira e a última compra de cada usuário\" é uma métrica que mede o intervalo de tempo decorrido entre a primeira e a última compra realizada por cada cliente. Esta métrica é útil para avaliar o ciclo de vida de compra do cliente dentro de uma empresa. Identificar os clientes com longos períodos entre compras pode ajudar o time de marketing a desenvolver estratégias específicas para aumentar a frequência de compras, reter clientes ativos por mais tempo ou reengajar aqueles que podem estar se distanciando."
      ],
      "metadata": {
        "id": "4T0N_Zw-kpWf"
      }
    },
    {
      "cell_type": "code",
      "source": [
        "%%sql\n",
        "SELECT\n",
        "  user_id,\n",
        "  timestamp_diff(MAX(created_at), MIN(created_at), DAY) AS dias_entre_prim_ult\n",
        "FROM bigquery-public-data.thelook_ecommerce.orders\n",
        "GROUP BY 1\n",
        "ORDER BY 2 DESC;"
      ],
      "metadata": {
        "id": "wSdTd9cekpH5"
      },
      "execution_count": null,
      "outputs": []
    },
    {
      "cell_type": "markdown",
      "source": [
        "# **Indentificar usuários com compras recorrentes dentro do mesmo mês (mais de 1 compra).**\n",
        "- Este indicativo de lealdade e engajamento frequentes pode ser crucial para campanhas de marketing focadas em usuários que demonstram um padrão de compra consistente. Ao segmentar esses clientes, o time de marketing pode criar campanhas personalizadas que incentivem ainda mais compras, aumentando a previsibilidade e eficácia das ações promocionais."
      ],
      "metadata": {
        "id": "tbFwE-Wyk3nw"
      }
    },
    {
      "cell_type": "code",
      "source": [
        "%%sql\n",
        "SELECT DISTINCT user_id\n",
        "FROM (\n",
        "  SELECT\n",
        "    user_id,\n",
        "    order_id,\n",
        "    created_at,\n",
        "    ROW_NUMBER() OVER (\n",
        "      PARTITION BY user_id, EXTRACT(YEAR FROM created_at), EXTRACT(MONTH FROM created_at)\n",
        "      ORDER BY created_at\n",
        "    ) AS numero_compra\n",
        "  FROM bigquery-public-data.thelook_ecommerce.orders\n",
        ") AS T\n",
        "WHERE numero_compra > 1\n",
        "ORDER BY user_id;"
      ],
      "metadata": {
        "id": "D3l5-YjakpC5"
      },
      "execution_count": null,
      "outputs": []
    },
    {
      "cell_type": "markdown",
      "source": [
        "## **Análise RFM - Segmentação de Clientes:**\n",
        "A análise RFM é uma técnica de marketing usada para quantificar o valor de um cliente com base em três aspectos específicos do seu comportamento de compra. RFM significa:\n",
        "\n",
        "- Recência (R): Há quanto tempo o cliente fez a última compra. Clientes que compraram recentemente são mais propensos a comprar novamente em comparação com aqueles que não compram há muito tempo.\n",
        "- Frequência (F): Com que frequência o cliente compra dentro de um determinado período. Clientes que compram com frequência são considerados mais engajados e valiosos.\n",
        "- Monetário (M): O valor monetário total gasto pelo cliente. Clientes que gastam mais são vistos como mais valiosos.\n",
        "\n",
        "A combinação desses três indicadores ajuda as empresas a identificar quais clientes são mais valiosos e a personalizar as estratégias de marketing para diferentes segmentos de clientes, de acordo com suas características de compra.\n",
        "Por exemplo, um cliente que fez uma compra recentemente, compra com frequência e gasta muito é idealmente o mais valioso para a empresa e provavelmente será o foco de campanhas de marketing intensivas.\n",
        "\n",
        "**Aqui está um exemplo de query SQL que calcula os scores de Recência, Frequência e Monetário para cada cliente:**"
      ],
      "metadata": {
        "id": "o7SkDO_dlJi3"
      }
    },
    {
      "cell_type": "code",
      "source": [
        "%%sql\n",
        "WITH Recency AS (\n",
        "    SELECT\n",
        "        customer_id,\n",
        "        MAX(order_date) AS last_purchase\n",
        "    FROM sales\n",
        "    GROUP BY customer_id\n",
        "),\n",
        "\n",
        "Frequency AS (\n",
        "    SELECT\n",
        "        customer_id,\n",
        "        COUNT(*) AS total_purchases\n",
        "    FROM sales\n",
        "    GROUP BY customer_id\n",
        "),\n",
        "\n",
        "Monetary AS (\n",
        "    SELECT\n",
        "        customer_id,\n",
        "        SUM(order_value) AS total_spent\n",
        "    FROM sales\n",
        "    GROUP BY customer_id\n",
        ")\n",
        "\n",
        "SELECT\n",
        "    R.customer_id,\n",
        "    R.last_purchase AS recency,\n",
        "    F.total_purchases AS frequency,\n",
        "    M.total_spent AS monetary\n",
        "FROM Recency R\n",
        "JOIN Frequency F ON R.customer_id = F.customer_id\n",
        "JOIN Monetary M ON R.customer_id = M.customer_id;"
      ],
      "metadata": {
        "id": "S4MDwtMxko-Y"
      },
      "execution_count": null,
      "outputs": []
    },
    {
      "cell_type": "markdown",
      "source": [
        "### **Explicação:**\n",
        "\n",
        "1. Recency: A CTE (Common Table Expression) `Recency` calcula a data mais recente de compra para cada cliente.\n",
        "2. Frequency: A CTE `Frequency` conta o número total de compras feitas por cada cliente.\n",
        "3. Monetary: A CTE `Monetary` soma o valor total gasto por cada cliente.\n",
        "4. Join Final: Essas três CTEs são então combinadas para fornecer um único resultado com `customer_id`, recência (data da última compra), frequência (total de compras) e monetário (total gasto).\n",
        "\n",
        "Esse SQL te dá uma tabela básica de RFM que você pode usar para segmentar seus clientes e desenvolver estratégias de marketing personalizadas com base em seus comportamentos de compra.\n",
        "\n",
        "A partir da tabela básica de RFM que criamos anteriormente, podemos segmentar os clientes com base em critérios definidos para Recência, Frequência e Monetário. Aqui está uma abordagem simples para categorizar cada um dos aspectos em três níveis: Alto, Médio e Baixo.\n",
        "\n",
        "Vamos supor que você tenha calculado ou definido alguns limites para cada categoria com base em sua distribuição de dados ou necessidades de negócios. Por exemplo:\n",
        "\n",
        "- Recência: Menos dias desde a última compra = mais recente = melhor\n",
        "  - Alto: até 30 dias\n",
        "  - Médio: 31 a 90 dias\n",
        "  - Baixo: mais de 90 dias\n",
        "\n",
        "- Frequência: Mais compras = melhor\n",
        "  - Alto: 10 ou mais compras\n",
        "  - Médio: 4 a 9 compras\n",
        "  - Baixo: menos de 4 compras\n",
        "\n",
        "- Monetário: Mais gasto = melhor\n",
        "  - Alto: mais de R\\$500\n",
        "  - Médio: R\\$200 a R\\$500\n",
        "  - Baixo: menos de R\\$200\n",
        "\n",
        "Aqui está uma query SQL que utiliza esses critérios para segmentar os clientes:\n",
        "\n",
        "### **Explicação:**\n",
        "- Recency_Score, Frequency_Score, Monetary_Score: Calcula a pontuação de Recência, Frequência e Monetário para cada cliente.\n",
        "- RFM_Class: Concatena as pontuações de Recência, Frequência e Monetário para criar uma classificação RFM combinada, que pode ser usada para identificar segmentos de clientes de alto valor, médio e baixo.\n",
        "\n",
        "Essa segmentação ajuda você a entender melhor seus clientes e a otimizar suas estratégias de marketing e comunicação com base no comportamento de compra dos clientes.\n",
        "Ela permite desenvolver estratégias de marketing personalizadas para cada segmento, como oferecer promoções específicas para aumentar a frequência de compras dos clientes esporádicos ou manter o engajamento dos clientes mais valiosos."
      ],
      "metadata": {
        "id": "BEjNCeZjlfJI"
      }
    },
    {
      "cell_type": "code",
      "source": [
        "%%sql\n",
        "WITH RFM AS (\n",
        "    SELECT\n",
        "        customer_id,\n",
        "        MAX(order_date) AS last_purchase,\n",
        "        COUNT(*) AS total_purchases,\n",
        "        SUM(order_value) AS total_spent\n",
        "    FROM sales\n",
        "    GROUP BY customer_id\n",
        "),\n",
        "\n",
        "RFM_Segmentation AS (\n",
        "    SELECT\n",
        "        customer_id,\n",
        "        last_purchase,\n",
        "        total_purchases,\n",
        "        total_spent,\n",
        "        -- Recency Score\n",
        "        CASE\n",
        "            WHEN last_purchase >= CURRENT_DATE - INTERVAL '30' DAY THEN 'Alto'\n",
        "            WHEN last_purchase < CURRENT_DATE - INTERVAL '30' DAY AND last_purchase >= CURRENT_DATE - INTERVAL '90' DAY THEN 'Médio'\n",
        "            ELSE 'Baixo'\n",
        "        END AS Recency_Score,\n",
        "        -- Frequency Score\n",
        "        CASE\n",
        "            WHEN total_purchases >= 10 THEN 'Alto'\n",
        "            WHEN total_purchases >= 4 AND total_purchases < 10 THEN 'Médio'\n",
        "            ELSE 'Baixo'\n",
        "        END AS Frequency_Score,\n",
        "        -- Monetary Score\n",
        "        CASE\n",
        "            WHEN total_spent > 500 THEN 'Alto'\n",
        "            WHEN total_spent BETWEEN 200 AND 500 THEN 'Médio'\n",
        "            ELSE 'Baixo'\n",
        "        END AS Monetary_Score\n",
        "    FROM RFM\n",
        ")\n",
        "\n",
        "SELECT\n",
        "    *,\n",
        "    Recency_Score,\n",
        "    Frequency_Score,\n",
        "    Monetary_Score,\n",
        "    -- Overall RFM Score\n",
        "    CONCAT(Recency_Score, Frequency_Score, Monetary_Score) AS RFM_Class\n",
        "FROM RFM_Segmentation;"
      ],
      "metadata": {
        "id": "2lUSiiK-ko5B"
      },
      "execution_count": null,
      "outputs": []
    }
  ]
}