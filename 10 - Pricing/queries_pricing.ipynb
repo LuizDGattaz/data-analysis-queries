{
  "nbformat": 4,
  "nbformat_minor": 0,
  "metadata": {
    "colab": {
      "provenance": []
    },
    "kernelspec": {
      "name": "python3",
      "display_name": "Python 3"
    },
    "language_info": {
      "name": "python"
    }
  },
  "cells": [
    {
      "cell_type": "markdown",
      "source": [
        "# 📊 Repositório de Consultas SQL para Analistas de Dados: **Departamento de Pricing (Precificação)**\n",
        "O departamento de Pricing é responsável por definir estratégias de precificação para os produtos ou serviços de uma empresa, visando maximizar lucros, manter competitividade no mercado e atender às demandas dos clientes. Isso envolve análises de custos, concorrência, valor percebido pelo cliente e dinâmicas de mercado para estabelecer preços adequados. 📈💰\n",
        "\n",
        "***\n",
        "-  🔍 Contribuições: Estamos abertos a contribuições da comunidade de analistas de dados! Se você tiver consultas SQL úteis que gostaria de compartilhar ou sugestões para melhorias, sinta-se à vontade para enviar um pull request. Juntos, podemos expandir e aprimorar este repositório para beneficiar toda a comunidade de análise de dados.\n",
        "- 🎯 Sinta-se à vontade para explorar, utilizar e contribuir para este repositório, e que ele possa ser uma ferramenta valiosa em sua jornada como analista de dados!"
      ],
      "metadata": {
        "id": "vjqSg4TxgLfQ"
      }
    },
    {
      "cell_type": "markdown",
      "source": [
        "# 📌 **Margem de Lucro por Produto**\n",
        "🔍 A Margem de Lucro por Produto mede o valor que cada produto contribui para os lucros da empresa, após a cobertura dos seus custos diretos. Ela é expressa geralmente como um valor monetário ou uma porcentagem do preço de venda.\n",
        "\n",
        "Por exemplo, se um produto é vendido por R\\$100 e custa R\\$60 para ser produzido, a margem de lucro é R$40 ou 40% do preço de venda. Essa margem é crucial para entender quais produtos oferecem o maior retorno sobre o investimento e ajudar na formulação de estratégias de precificação e produção.\n",
        "\n",
        "```sql\n",
        "SELECT produto_id,\n",
        "       nome_produto,\n",
        "       EXTRACT(YEAR FROM data_venda) AS ano,\n",
        "       EXTRACT(MONTH FROM data_venda) AS mes,\n",
        "       (preco_venda - custo_produto) AS margem_lucro,\n",
        "       ((preco_venda - custo_produto) / preco_venda) * 100 AS percentual_margem\n",
        "FROM produtos\n",
        "JOIN vendas ON produtos.produto_id = vendas.produto_id\n",
        "GROUP BY produto_id, nome_produto, EXTRACT(YEAR FROM data_venda), EXTRACT(MONTH FROM data_venda)\n",
        "ORDER BY produto_id, ano, mes;\n",
        "```"
      ],
      "metadata": {
        "id": "_ZYNjMo9Mxtt"
      }
    },
    {
      "cell_type": "markdown",
      "source": [
        "# 📌 **Elasticidade de Preço da Demanda**\n",
        "🔍 A **Elasticidade de Preço da Demanda** é uma métrica econômica que quantifica a reação dos consumidores a alterações no preço de um bem ou serviço. A elasticidade é calculada como a razão percentual da mudança na quantidade demandada pela mudança percentual no preço.\n",
        "\n",
        "Por exemplo, se o preço de um produto aumenta em 10% e a demanda por esse produto diminui em 20%, a elasticidade de preço da demanda é -2.0. Este valor negativo reflete a relação inversa entre preço e demanda.\n",
        "\n",
        "- **Elasticidade maior que 1 (elástica):** A demanda varia mais do que proporcionalmente em relação ao preço. Uma pequena mudança no preço leva a uma grande mudança na quantidade demandada.\n",
        "- **Elasticidade menor que 1 (inelástica):** A demanda varia menos do que proporcionalmente em relação ao preço. As mudanças no preço têm um impacto pequeno sobre a quantidade demandada.\n",
        "- **Elasticidade igual a 1 (unitária):** A demanda varia proporcionalmente ao preço.\n",
        "\n",
        "Compreender a elasticidade ajuda empresas a definir estratégias de precificação, maximizar receitas ou volumes de vendas, e entender melhor o comportamento do consumidor em diferentes segmentos de mercado.\n",
        "\n",
        "```sql\n",
        "SELECT a.produto_id,\n",
        "       a.nome_produto,\n",
        "       EXTRACT(YEAR FROM b.data_venda) AS ano,\n",
        "       EXTRACT(MONTH FROM b.data_venda) AS mes,\n",
        "       (SUM(b.qtd_vendida) / AVG(a.preco_venda)) AS elasticidade_preco\n",
        "FROM produtos a\n",
        "JOIN vendas b ON a.produto_id = b.produto_id\n",
        "GROUP BY a.produto_id, a.nome_produto, EXTRACT(YEAR FROM b.data_venda), EXTRACT(MONTH FROM b.data_venda)\n",
        "ORDER BY a.produto_id, ano, mes;\n",
        "```"
      ],
      "metadata": {
        "id": "4u7xo5BNM0im"
      }
    },
    {
      "cell_type": "markdown",
      "source": [
        "# 📌 **Índice de Competitividade de Preço**\n",
        "🔍 **Índice de Competitividade de Preço** é uma métrica usada para comparar os preços de produtos ou serviços de uma empresa com seus concorrentes diretos. Este índice ajuda a entender como os preços praticados estão posicionados no mercado, permitindo às empresas ajustar sua estratégia de precificação para melhorar a competitividade.\n",
        "\n",
        "### Importância do Índice de Competitividade de Preço:\n",
        "- **Posicionamento de Mercado:** Fornece insights sobre como os preços da empresa são percebidos em relação aos concorrentes.\n",
        "- **Decisões Estratégicas:** Ajuda a definir se a empresa deve ajustar os preços para ser mais competitiva, aumentar margens ou capturar maior participação de mercado.\n",
        "- **Atração e Retenção de Clientes:** Preços competitivos podem atrair novos clientes e reter os existentes, especialmente em mercados sensíveis ao preço.\n",
        "\n",
        "### Exemplo de Query SQL para Índice de Competitividade de Preço:\n",
        "Para construir uma query SQL que calcule o Índice de Competitividade de Preço, você precisará de acesso a dados dos preços dos concorrentes. Aqui está um exemplo básico, assumindo que você tem uma tabela `precos_concorrentes` que contém os preços dos produtos dos concorrentes e uma tabela `produtos` para os preços da sua empresa.\n",
        "\n",
        "```sql\n",
        "SELECT\n",
        "    p.produto_id,\n",
        "    p.nome_produto,\n",
        "    p.preco AS preco_empresa,\n",
        "    AVG(c.preco) AS preco_medio_concorrentes,\n",
        "    (p.preco / AVG(c.preco)) * 100 AS indice_competitividade_preco\n",
        "FROM produtos p\n",
        "JOIN precos_concorrentes c ON p.produto_id = c.produto_id\n",
        "GROUP BY p.produto_id, p.nome_produto, p.preco\n",
        "ORDER BY p.produto_id;\n",
        "```\n",
        "\n",
        "### Explicação da Query:\n",
        "- **p.preco AS preco_empresa**: Preço atual do produto pela sua empresa.\n",
        "- **AVG(c.preco) AS preco_medio_concorrentes**: Calcula o preço médio do mesmo produto oferecido pelos concorrentes.\n",
        "- **(p.preco / AVG(c.preco)) * 100 AS indice_competitividade_preco**: Calcula o índice de competitividade de preço, mostrando como o preço do produto se compara ao preço médio dos concorrentes, em porcentagem. Valores acima de 100 indicam que o produto é vendido a um preço superior ao dos concorrentes, enquanto valores abaixo de 100 indicam um preço inferior.\n",
        "\n",
        "Este índice permite uma análise direta e eficaz da posição competitiva em termos de precificação, essencial para ajustes estratégicos no mercado."
      ],
      "metadata": {
        "id": "Dp2oR1UXUn7E"
      }
    },
    {
      "cell_type": "markdown",
      "source": [
        "# 📌 **Lucratividade por Pedido**\n",
        "\n",
        "🔍 **Lucratividade por Pedido** é um KPI que mede o lucro gerado por cada pedido realizado. Essa métrica calcula a diferença entre a receita obtida de um pedido e todos os custos associados a esse pedido, incluindo custos de produtos, operacionais, e de entrega, se aplicável. É essencial para avaliar a eficiência e a rentabilidade das operações de venda.\n",
        "\n",
        "### Importância da Lucratividade por Pedido:\n",
        "- **Avaliação de Rentabilidade:** Ajuda a entender quão rentáveis são os pedidos individualmente, o que pode influenciar decisões sobre estratégias de precificação e promoções.\n",
        "- **Otimização de Custos:** Permite identificar onde os custos podem ser reduzidos para aumentar a margem de lucro por pedido.\n",
        "- **Análise de Desempenho:** Facilita a comparação entre diferentes produtos, categorias ou campanhas promocionais em termos de contribuição para a lucratividade.\n",
        "\n",
        "### Exemplo de Query SQL para Lucratividade por Pedido:\n",
        "Suponha que você tenha tabelas de `pedidos`, `itens_pedido`, e `produtos`, onde `pedidos` contém informações sobre cada pedido, `itens_pedido` lista os produtos em cada pedido e seus custos, e `produtos` tem detalhes de custo de produção ou aquisição. Aqui está um exemplo de como calcular a lucratividade por pedido:\n",
        "\n",
        "```sql\n",
        "SELECT\n",
        "    p.pedido_id,\n",
        "    SUM(i.preco_venda * i.quantidade) AS receita_total,\n",
        "    SUM(i.custo_produto * i.quantidade) AS custo_total,\n",
        "    (SUM(i.preco_venda * i.quantidade) - SUM(i.custo_produto * i.quantidade)) AS lucro_por_pedido\n",
        "FROM pedidos p\n",
        "JOIN itens_pedido i ON p.pedido_id = i.pedido_id\n",
        "GROUP BY p.pedido_id\n",
        "ORDER BY p.pedido_id;\n",
        "```\n",
        "\n",
        "### Explicação da Query:\n",
        "- **p.pedido_id**: Identificador único para cada pedido.\n",
        "- **SUM(i.preco_venda * i.quantidade) AS receita_total**: Calcula a receita total do pedido, multiplicando o preço de venda de cada item pela quantidade vendida e somando todos os itens do pedido.\n",
        "- **SUM(i.custo_produto * i.quantidade) AS custo_total**: Calcula o custo total dos produtos no pedido, multiplicando o custo de cada item pela quantidade e somando.\n",
        "- **(SUM(i.preco_venda * i.quantidade) - SUM(i.custo_produto * i.quantidade)) AS lucro_por_pedido**: Subtrai o custo total da receita total para determinar o lucro gerado por cada pedido.\n",
        "\n",
        "Este cálculo oferece uma visão clara da lucratividade de cada pedido, ajudando a identificar quais pedidos são mais rentáveis e onde podem estar os pontos de ineficiência no processo de vendas."
      ],
      "metadata": {
        "id": "9h3XijaHW3e9"
      }
    },
    {
      "cell_type": "markdown",
      "source": [
        "# 📌 **Efeito de Cross-Selling e Up-Selling**\n",
        "🔍 **Efeito de Cross-Selling e Up-Selling** são estratégias de vendas que visam aumentar o valor médio das compras dos clientes por meio da oferta de produtos complementares ou de versões superiores de um produto.\n",
        "\n",
        "### Cross-Selling:\n",
        "- **O que é?** A técnica de vender produtos relacionados ou complementares ao item original que o cliente está comprando. Por exemplo, vender batatas fritas e refrigerante para um cliente que está comprando um hambúrguer.\n",
        "\n",
        "### Up-Selling:\n",
        "- **O que é?** Consiste em incentivar os clientes a comprar uma versão mais cara ou avançada de um produto que eles estão considerando. Por exemplo, oferecer um smartphone com mais memória e recursos por um preço ligeiramente superior.\n",
        "\n",
        "### Importância dessas Estratégias:\n",
        "- **Aumento da Receita:** Ambas as estratégias ajudam a aumentar a receita total por cliente, maximizando o valor de cada transação.\n",
        "- **Melhoria da Experiência do Cliente:** Quando feito corretamente, cross-selling e up-selling podem melhorar a experiência de compra, oferecendo ao cliente opções que realmente atendem às suas necessidades.\n",
        "- **Eficiência de Inventário:** Ajudam a mover mais produtos, incluindo itens que podem não ser frequentemente vendidos por conta própria.\n",
        "\n",
        "### Exemplo de Query SQL para Análise de Efeito de Cross-Selling e Up-Selling:\n",
        "Para analisar o impacto dessas estratégias, você pode calcular o aumento no valor médio do pedido antes e depois da implementação de táticas de cross-selling e up-selling. Aqui está um exemplo de query que poderia ser usada:\n",
        "\n",
        "```sql\n",
        "SELECT\n",
        "    c.categoria,\n",
        "    pr.produto_id,\n",
        "    pr.nome_produto,\n",
        "    AVG(p.preco) AS preco_medio_antes,\n",
        "    AVG(p.preco * 1.1) AS preco_medio_depois,  -- Supondo um aumento de 10% no valor de itens por up-selling\n",
        "    COUNT(DISTINCT p.pedido_id) AS num_pedidos,\n",
        "    SUM(p.preco) AS receita_total_antes,\n",
        "    SUM(p.preco * 1.1) AS receita_total_depois  -- Supondo um aumento de 10% no valor por up-selling\n",
        "FROM pedidos p\n",
        "JOIN produtos pr ON p.produto_id = pr.produto_id\n",
        "JOIN categorias c ON pr.categoria_id = c.categoria_id\n",
        "WHERE p.data BETWEEN '2023-01-01' AND '2023-12-31'\n",
        "GROUP BY c.categoria, pr.produto_id, pr.nome_produto\n",
        "ORDER BY c.categoria, pr.produto_id;\n",
        "```\n",
        "\n",
        "### Explicação da Query:\n",
        "- **c.categoria**: Agrupa os dados por categoria de produto para análise de cross-selling e up-selling.\n",
        "- **pr.produto_id** e **pr.nome_produto**: Esses campos são incluídos para detalhar quais produtos específicos estão gerando mais receita através das estratégias de up-selling e cross-selling.\n",
        "- **AVG(p.preco)**: Calcula o preço médio antes da implementação das estratégias.\n",
        "- **AVG(p.preco * 1.1)**: Estima o preço médio após um aumento de 10% atribuído ao up-selling.\n",
        "- **SUM(p.preco)** e **SUM(p.preco * 1.1)**: Calcula a receita total antes e depois, assumindo um aumento de 10% no valor de cada item vendido devido ao up-selling.\n",
        "\n",
        "Esta análise ajudará a entender o impacto financeiro dessas estratégias de vendas, permitindo avaliar sua eficácia em termos de aumento de receita e melhoria da experiência do cliente."
      ],
      "metadata": {
        "id": "mIDC626FYVu0"
      }
    },
    {
      "cell_type": "markdown",
      "source": [
        "# 📌 **Preço Médio de Venda (ASP - Average Selling Price)**\n",
        "🔍 O **Preço Médio de Venda (ASP - Average Selling Price)** é uma métrica que calcula o valor médio pelo qual um produto é vendido em um determinado período. Esse valor é obtido dividindo-se a receita total pelas unidades vendidas. É uma métrica crucial para negócios pois fornece insights sobre a performance de vendas e estratégias de precificação.\n",
        "\n",
        "### Por que o ASP é importante?\n",
        "\n",
        "1. **Avaliação de Estratégias de Precificação:** Ajuda a entender se as mudanças nos preços estão afetando positivamente as receitas. Um ASP crescente pode indicar uma aceitação de preços mais altos pelo mercado ou uma mudança bem-sucedida para produtos de maior valor.\n",
        "\n",
        "2. **Benchmarking de Desempenho:** Comparar o ASP com períodos anteriores ou com concorrentes pode indicar se a empresa está ganhando vantagem competitiva ou perdendo terreno.\n",
        "\n",
        "3. **Planejamento Financeiro:** O ASP fornece dados para prever receitas futuras e ajuda a definir metas de vendas mais realistas.\n",
        "\n",
        "4. **Otimização do Mix de Produtos:** Analisando o ASP por linha de produto, a empresa pode identificar quais produtos ou serviços contribuem mais para aumentar o ASP geral e ajustar o foco em vendas e marketing.\n",
        "\n",
        "Este cálculo simples, mas poderoso, fornece uma visão clara sobre o desempenho de vendas e é frequentemente usado para monitorar tendências ao longo do tempo, ajustar estratégias e melhorar resultados financeiros.\n",
        "\n",
        "```sql\n",
        "SELECT\n",
        "    EXTRACT(YEAR FROM data_venda) AS ano,\n",
        "    EXTRACT(MONTH FROM data_venda) AS mes,\n",
        "    SUM(preco_venda * quantidade) AS receita_total,\n",
        "    SUM(quantidade) AS unidades_vendidas,\n",
        "    (SUM(preco_venda * quantidade) / SUM(quantidade)) AS ASP\n",
        "FROM vendas\n",
        "GROUP BY ano, mes\n",
        "ORDER BY ano, mes;\n",
        "```"
      ],
      "metadata": {
        "id": "rIKPzHWQM1Ht"
      }
    }
  ]
}